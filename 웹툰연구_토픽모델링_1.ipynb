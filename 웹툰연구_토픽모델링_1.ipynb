{
  "nbformat": 4,
  "nbformat_minor": 0,
  "metadata": {
    "colab": {
      "provenance": [],
      "include_colab_link": true
    },
    "kernelspec": {
      "name": "python3",
      "display_name": "Python 3"
    },
    "language_info": {
      "name": "python"
    },
    "widgets": {
      "application/vnd.jupyter.widget-state+json": {
        "c796ff1d85e44dfba8d478be1c62e577": {
          "model_module": "@jupyter-widgets/controls",
          "model_name": "HBoxModel",
          "model_module_version": "1.5.0",
          "state": {
            "_dom_classes": [],
            "_model_module": "@jupyter-widgets/controls",
            "_model_module_version": "1.5.0",
            "_model_name": "HBoxModel",
            "_view_count": null,
            "_view_module": "@jupyter-widgets/controls",
            "_view_module_version": "1.5.0",
            "_view_name": "HBoxView",
            "box_style": "",
            "children": [
              "IPY_MODEL_4dc2bb6d04a44b7c944638fb73e48f3f",
              "IPY_MODEL_409e4277502b4e9397022b0d8dd4cb0f",
              "IPY_MODEL_23318d632efe4e2aadb4bd650507cfa3"
            ],
            "layout": "IPY_MODEL_c494f831d1ed4732af1fae641ed1e31e"
          }
        },
        "4dc2bb6d04a44b7c944638fb73e48f3f": {
          "model_module": "@jupyter-widgets/controls",
          "model_name": "HTMLModel",
          "model_module_version": "1.5.0",
          "state": {
            "_dom_classes": [],
            "_model_module": "@jupyter-widgets/controls",
            "_model_module_version": "1.5.0",
            "_model_name": "HTMLModel",
            "_view_count": null,
            "_view_module": "@jupyter-widgets/controls",
            "_view_module_version": "1.5.0",
            "_view_name": "HTMLView",
            "description": "",
            "description_tooltip": null,
            "layout": "IPY_MODEL_681dc10df3064960be840ba98917caf1",
            "placeholder": "​",
            "style": "IPY_MODEL_8934d705cd0240de9467edb2263da960",
            "value": "100%"
          }
        },
        "409e4277502b4e9397022b0d8dd4cb0f": {
          "model_module": "@jupyter-widgets/controls",
          "model_name": "FloatProgressModel",
          "model_module_version": "1.5.0",
          "state": {
            "_dom_classes": [],
            "_model_module": "@jupyter-widgets/controls",
            "_model_module_version": "1.5.0",
            "_model_name": "FloatProgressModel",
            "_view_count": null,
            "_view_module": "@jupyter-widgets/controls",
            "_view_module_version": "1.5.0",
            "_view_name": "ProgressView",
            "bar_style": "success",
            "description": "",
            "description_tooltip": null,
            "layout": "IPY_MODEL_08585d82e64b418b89fc59515235079a",
            "max": 4293,
            "min": 0,
            "orientation": "horizontal",
            "style": "IPY_MODEL_c2dcef9d82364af383c56a73f23aee31",
            "value": 4293
          }
        },
        "23318d632efe4e2aadb4bd650507cfa3": {
          "model_module": "@jupyter-widgets/controls",
          "model_name": "HTMLModel",
          "model_module_version": "1.5.0",
          "state": {
            "_dom_classes": [],
            "_model_module": "@jupyter-widgets/controls",
            "_model_module_version": "1.5.0",
            "_model_name": "HTMLModel",
            "_view_count": null,
            "_view_module": "@jupyter-widgets/controls",
            "_view_module_version": "1.5.0",
            "_view_name": "HTMLView",
            "description": "",
            "description_tooltip": null,
            "layout": "IPY_MODEL_a27d062032394bc2ac2ee0aff00f45f9",
            "placeholder": "​",
            "style": "IPY_MODEL_20099989e0e64d76b0552a4a3f43d399",
            "value": " 4293/4293 [00:00&lt;00:00, 9284.96it/s]"
          }
        },
        "c494f831d1ed4732af1fae641ed1e31e": {
          "model_module": "@jupyter-widgets/base",
          "model_name": "LayoutModel",
          "model_module_version": "1.2.0",
          "state": {
            "_model_module": "@jupyter-widgets/base",
            "_model_module_version": "1.2.0",
            "_model_name": "LayoutModel",
            "_view_count": null,
            "_view_module": "@jupyter-widgets/base",
            "_view_module_version": "1.2.0",
            "_view_name": "LayoutView",
            "align_content": null,
            "align_items": null,
            "align_self": null,
            "border": null,
            "bottom": null,
            "display": null,
            "flex": null,
            "flex_flow": null,
            "grid_area": null,
            "grid_auto_columns": null,
            "grid_auto_flow": null,
            "grid_auto_rows": null,
            "grid_column": null,
            "grid_gap": null,
            "grid_row": null,
            "grid_template_areas": null,
            "grid_template_columns": null,
            "grid_template_rows": null,
            "height": null,
            "justify_content": null,
            "justify_items": null,
            "left": null,
            "margin": null,
            "max_height": null,
            "max_width": null,
            "min_height": null,
            "min_width": null,
            "object_fit": null,
            "object_position": null,
            "order": null,
            "overflow": null,
            "overflow_x": null,
            "overflow_y": null,
            "padding": null,
            "right": null,
            "top": null,
            "visibility": null,
            "width": null
          }
        },
        "681dc10df3064960be840ba98917caf1": {
          "model_module": "@jupyter-widgets/base",
          "model_name": "LayoutModel",
          "model_module_version": "1.2.0",
          "state": {
            "_model_module": "@jupyter-widgets/base",
            "_model_module_version": "1.2.0",
            "_model_name": "LayoutModel",
            "_view_count": null,
            "_view_module": "@jupyter-widgets/base",
            "_view_module_version": "1.2.0",
            "_view_name": "LayoutView",
            "align_content": null,
            "align_items": null,
            "align_self": null,
            "border": null,
            "bottom": null,
            "display": null,
            "flex": null,
            "flex_flow": null,
            "grid_area": null,
            "grid_auto_columns": null,
            "grid_auto_flow": null,
            "grid_auto_rows": null,
            "grid_column": null,
            "grid_gap": null,
            "grid_row": null,
            "grid_template_areas": null,
            "grid_template_columns": null,
            "grid_template_rows": null,
            "height": null,
            "justify_content": null,
            "justify_items": null,
            "left": null,
            "margin": null,
            "max_height": null,
            "max_width": null,
            "min_height": null,
            "min_width": null,
            "object_fit": null,
            "object_position": null,
            "order": null,
            "overflow": null,
            "overflow_x": null,
            "overflow_y": null,
            "padding": null,
            "right": null,
            "top": null,
            "visibility": null,
            "width": null
          }
        },
        "8934d705cd0240de9467edb2263da960": {
          "model_module": "@jupyter-widgets/controls",
          "model_name": "DescriptionStyleModel",
          "model_module_version": "1.5.0",
          "state": {
            "_model_module": "@jupyter-widgets/controls",
            "_model_module_version": "1.5.0",
            "_model_name": "DescriptionStyleModel",
            "_view_count": null,
            "_view_module": "@jupyter-widgets/base",
            "_view_module_version": "1.2.0",
            "_view_name": "StyleView",
            "description_width": ""
          }
        },
        "08585d82e64b418b89fc59515235079a": {
          "model_module": "@jupyter-widgets/base",
          "model_name": "LayoutModel",
          "model_module_version": "1.2.0",
          "state": {
            "_model_module": "@jupyter-widgets/base",
            "_model_module_version": "1.2.0",
            "_model_name": "LayoutModel",
            "_view_count": null,
            "_view_module": "@jupyter-widgets/base",
            "_view_module_version": "1.2.0",
            "_view_name": "LayoutView",
            "align_content": null,
            "align_items": null,
            "align_self": null,
            "border": null,
            "bottom": null,
            "display": null,
            "flex": null,
            "flex_flow": null,
            "grid_area": null,
            "grid_auto_columns": null,
            "grid_auto_flow": null,
            "grid_auto_rows": null,
            "grid_column": null,
            "grid_gap": null,
            "grid_row": null,
            "grid_template_areas": null,
            "grid_template_columns": null,
            "grid_template_rows": null,
            "height": null,
            "justify_content": null,
            "justify_items": null,
            "left": null,
            "margin": null,
            "max_height": null,
            "max_width": null,
            "min_height": null,
            "min_width": null,
            "object_fit": null,
            "object_position": null,
            "order": null,
            "overflow": null,
            "overflow_x": null,
            "overflow_y": null,
            "padding": null,
            "right": null,
            "top": null,
            "visibility": null,
            "width": null
          }
        },
        "c2dcef9d82364af383c56a73f23aee31": {
          "model_module": "@jupyter-widgets/controls",
          "model_name": "ProgressStyleModel",
          "model_module_version": "1.5.0",
          "state": {
            "_model_module": "@jupyter-widgets/controls",
            "_model_module_version": "1.5.0",
            "_model_name": "ProgressStyleModel",
            "_view_count": null,
            "_view_module": "@jupyter-widgets/base",
            "_view_module_version": "1.2.0",
            "_view_name": "StyleView",
            "bar_color": null,
            "description_width": ""
          }
        },
        "a27d062032394bc2ac2ee0aff00f45f9": {
          "model_module": "@jupyter-widgets/base",
          "model_name": "LayoutModel",
          "model_module_version": "1.2.0",
          "state": {
            "_model_module": "@jupyter-widgets/base",
            "_model_module_version": "1.2.0",
            "_model_name": "LayoutModel",
            "_view_count": null,
            "_view_module": "@jupyter-widgets/base",
            "_view_module_version": "1.2.0",
            "_view_name": "LayoutView",
            "align_content": null,
            "align_items": null,
            "align_self": null,
            "border": null,
            "bottom": null,
            "display": null,
            "flex": null,
            "flex_flow": null,
            "grid_area": null,
            "grid_auto_columns": null,
            "grid_auto_flow": null,
            "grid_auto_rows": null,
            "grid_column": null,
            "grid_gap": null,
            "grid_row": null,
            "grid_template_areas": null,
            "grid_template_columns": null,
            "grid_template_rows": null,
            "height": null,
            "justify_content": null,
            "justify_items": null,
            "left": null,
            "margin": null,
            "max_height": null,
            "max_width": null,
            "min_height": null,
            "min_width": null,
            "object_fit": null,
            "object_position": null,
            "order": null,
            "overflow": null,
            "overflow_x": null,
            "overflow_y": null,
            "padding": null,
            "right": null,
            "top": null,
            "visibility": null,
            "width": null
          }
        },
        "20099989e0e64d76b0552a4a3f43d399": {
          "model_module": "@jupyter-widgets/controls",
          "model_name": "DescriptionStyleModel",
          "model_module_version": "1.5.0",
          "state": {
            "_model_module": "@jupyter-widgets/controls",
            "_model_module_version": "1.5.0",
            "_model_name": "DescriptionStyleModel",
            "_view_count": null,
            "_view_module": "@jupyter-widgets/base",
            "_view_module_version": "1.2.0",
            "_view_name": "StyleView",
            "description_width": ""
          }
        },
        "9faffd10d274462eb336f61a1f3e43e4": {
          "model_module": "@jupyter-widgets/controls",
          "model_name": "HBoxModel",
          "model_module_version": "1.5.0",
          "state": {
            "_dom_classes": [],
            "_model_module": "@jupyter-widgets/controls",
            "_model_module_version": "1.5.0",
            "_model_name": "HBoxModel",
            "_view_count": null,
            "_view_module": "@jupyter-widgets/controls",
            "_view_module_version": "1.5.0",
            "_view_name": "HBoxView",
            "box_style": "",
            "children": [
              "IPY_MODEL_c892b2df903a4b8abd8d2a5d65913a12",
              "IPY_MODEL_0476382c0bbd4a60b54f0381ede9c244",
              "IPY_MODEL_27b8fa29e65340b99b0d74feaeb5ac7e"
            ],
            "layout": "IPY_MODEL_278678bf65cb4ae4951b3248d846c9f3"
          }
        },
        "c892b2df903a4b8abd8d2a5d65913a12": {
          "model_module": "@jupyter-widgets/controls",
          "model_name": "HTMLModel",
          "model_module_version": "1.5.0",
          "state": {
            "_dom_classes": [],
            "_model_module": "@jupyter-widgets/controls",
            "_model_module_version": "1.5.0",
            "_model_name": "HTMLModel",
            "_view_count": null,
            "_view_module": "@jupyter-widgets/controls",
            "_view_module_version": "1.5.0",
            "_view_name": "HTMLView",
            "description": "",
            "description_tooltip": null,
            "layout": "IPY_MODEL_517073c2cb44462d839ee3d3d621631a",
            "placeholder": "​",
            "style": "IPY_MODEL_d46b2da1402448e686a446249b571498",
            "value": "100%"
          }
        },
        "0476382c0bbd4a60b54f0381ede9c244": {
          "model_module": "@jupyter-widgets/controls",
          "model_name": "FloatProgressModel",
          "model_module_version": "1.5.0",
          "state": {
            "_dom_classes": [],
            "_model_module": "@jupyter-widgets/controls",
            "_model_module_version": "1.5.0",
            "_model_name": "FloatProgressModel",
            "_view_count": null,
            "_view_module": "@jupyter-widgets/controls",
            "_view_module_version": "1.5.0",
            "_view_name": "ProgressView",
            "bar_style": "success",
            "description": "",
            "description_tooltip": null,
            "layout": "IPY_MODEL_b5d087bb7265438fb763e2d69ea37667",
            "max": 668,
            "min": 0,
            "orientation": "horizontal",
            "style": "IPY_MODEL_958758ca167746e0ad4058306ae897d0",
            "value": 668
          }
        },
        "27b8fa29e65340b99b0d74feaeb5ac7e": {
          "model_module": "@jupyter-widgets/controls",
          "model_name": "HTMLModel",
          "model_module_version": "1.5.0",
          "state": {
            "_dom_classes": [],
            "_model_module": "@jupyter-widgets/controls",
            "_model_module_version": "1.5.0",
            "_model_name": "HTMLModel",
            "_view_count": null,
            "_view_module": "@jupyter-widgets/controls",
            "_view_module_version": "1.5.0",
            "_view_name": "HTMLView",
            "description": "",
            "description_tooltip": null,
            "layout": "IPY_MODEL_4e96d79d9b794fc9a200154abb48bbed",
            "placeholder": "​",
            "style": "IPY_MODEL_6ff4723562f04a8491cb28b57ac10ed9",
            "value": " 668/668 [00:00&lt;00:00, 34107.50it/s]"
          }
        },
        "278678bf65cb4ae4951b3248d846c9f3": {
          "model_module": "@jupyter-widgets/base",
          "model_name": "LayoutModel",
          "model_module_version": "1.2.0",
          "state": {
            "_model_module": "@jupyter-widgets/base",
            "_model_module_version": "1.2.0",
            "_model_name": "LayoutModel",
            "_view_count": null,
            "_view_module": "@jupyter-widgets/base",
            "_view_module_version": "1.2.0",
            "_view_name": "LayoutView",
            "align_content": null,
            "align_items": null,
            "align_self": null,
            "border": null,
            "bottom": null,
            "display": null,
            "flex": null,
            "flex_flow": null,
            "grid_area": null,
            "grid_auto_columns": null,
            "grid_auto_flow": null,
            "grid_auto_rows": null,
            "grid_column": null,
            "grid_gap": null,
            "grid_row": null,
            "grid_template_areas": null,
            "grid_template_columns": null,
            "grid_template_rows": null,
            "height": null,
            "justify_content": null,
            "justify_items": null,
            "left": null,
            "margin": null,
            "max_height": null,
            "max_width": null,
            "min_height": null,
            "min_width": null,
            "object_fit": null,
            "object_position": null,
            "order": null,
            "overflow": null,
            "overflow_x": null,
            "overflow_y": null,
            "padding": null,
            "right": null,
            "top": null,
            "visibility": null,
            "width": null
          }
        },
        "517073c2cb44462d839ee3d3d621631a": {
          "model_module": "@jupyter-widgets/base",
          "model_name": "LayoutModel",
          "model_module_version": "1.2.0",
          "state": {
            "_model_module": "@jupyter-widgets/base",
            "_model_module_version": "1.2.0",
            "_model_name": "LayoutModel",
            "_view_count": null,
            "_view_module": "@jupyter-widgets/base",
            "_view_module_version": "1.2.0",
            "_view_name": "LayoutView",
            "align_content": null,
            "align_items": null,
            "align_self": null,
            "border": null,
            "bottom": null,
            "display": null,
            "flex": null,
            "flex_flow": null,
            "grid_area": null,
            "grid_auto_columns": null,
            "grid_auto_flow": null,
            "grid_auto_rows": null,
            "grid_column": null,
            "grid_gap": null,
            "grid_row": null,
            "grid_template_areas": null,
            "grid_template_columns": null,
            "grid_template_rows": null,
            "height": null,
            "justify_content": null,
            "justify_items": null,
            "left": null,
            "margin": null,
            "max_height": null,
            "max_width": null,
            "min_height": null,
            "min_width": null,
            "object_fit": null,
            "object_position": null,
            "order": null,
            "overflow": null,
            "overflow_x": null,
            "overflow_y": null,
            "padding": null,
            "right": null,
            "top": null,
            "visibility": null,
            "width": null
          }
        },
        "d46b2da1402448e686a446249b571498": {
          "model_module": "@jupyter-widgets/controls",
          "model_name": "DescriptionStyleModel",
          "model_module_version": "1.5.0",
          "state": {
            "_model_module": "@jupyter-widgets/controls",
            "_model_module_version": "1.5.0",
            "_model_name": "DescriptionStyleModel",
            "_view_count": null,
            "_view_module": "@jupyter-widgets/base",
            "_view_module_version": "1.2.0",
            "_view_name": "StyleView",
            "description_width": ""
          }
        },
        "b5d087bb7265438fb763e2d69ea37667": {
          "model_module": "@jupyter-widgets/base",
          "model_name": "LayoutModel",
          "model_module_version": "1.2.0",
          "state": {
            "_model_module": "@jupyter-widgets/base",
            "_model_module_version": "1.2.0",
            "_model_name": "LayoutModel",
            "_view_count": null,
            "_view_module": "@jupyter-widgets/base",
            "_view_module_version": "1.2.0",
            "_view_name": "LayoutView",
            "align_content": null,
            "align_items": null,
            "align_self": null,
            "border": null,
            "bottom": null,
            "display": null,
            "flex": null,
            "flex_flow": null,
            "grid_area": null,
            "grid_auto_columns": null,
            "grid_auto_flow": null,
            "grid_auto_rows": null,
            "grid_column": null,
            "grid_gap": null,
            "grid_row": null,
            "grid_template_areas": null,
            "grid_template_columns": null,
            "grid_template_rows": null,
            "height": null,
            "justify_content": null,
            "justify_items": null,
            "left": null,
            "margin": null,
            "max_height": null,
            "max_width": null,
            "min_height": null,
            "min_width": null,
            "object_fit": null,
            "object_position": null,
            "order": null,
            "overflow": null,
            "overflow_x": null,
            "overflow_y": null,
            "padding": null,
            "right": null,
            "top": null,
            "visibility": null,
            "width": null
          }
        },
        "958758ca167746e0ad4058306ae897d0": {
          "model_module": "@jupyter-widgets/controls",
          "model_name": "ProgressStyleModel",
          "model_module_version": "1.5.0",
          "state": {
            "_model_module": "@jupyter-widgets/controls",
            "_model_module_version": "1.5.0",
            "_model_name": "ProgressStyleModel",
            "_view_count": null,
            "_view_module": "@jupyter-widgets/base",
            "_view_module_version": "1.2.0",
            "_view_name": "StyleView",
            "bar_color": null,
            "description_width": ""
          }
        },
        "4e96d79d9b794fc9a200154abb48bbed": {
          "model_module": "@jupyter-widgets/base",
          "model_name": "LayoutModel",
          "model_module_version": "1.2.0",
          "state": {
            "_model_module": "@jupyter-widgets/base",
            "_model_module_version": "1.2.0",
            "_model_name": "LayoutModel",
            "_view_count": null,
            "_view_module": "@jupyter-widgets/base",
            "_view_module_version": "1.2.0",
            "_view_name": "LayoutView",
            "align_content": null,
            "align_items": null,
            "align_self": null,
            "border": null,
            "bottom": null,
            "display": null,
            "flex": null,
            "flex_flow": null,
            "grid_area": null,
            "grid_auto_columns": null,
            "grid_auto_flow": null,
            "grid_auto_rows": null,
            "grid_column": null,
            "grid_gap": null,
            "grid_row": null,
            "grid_template_areas": null,
            "grid_template_columns": null,
            "grid_template_rows": null,
            "height": null,
            "justify_content": null,
            "justify_items": null,
            "left": null,
            "margin": null,
            "max_height": null,
            "max_width": null,
            "min_height": null,
            "min_width": null,
            "object_fit": null,
            "object_position": null,
            "order": null,
            "overflow": null,
            "overflow_x": null,
            "overflow_y": null,
            "padding": null,
            "right": null,
            "top": null,
            "visibility": null,
            "width": null
          }
        },
        "6ff4723562f04a8491cb28b57ac10ed9": {
          "model_module": "@jupyter-widgets/controls",
          "model_name": "DescriptionStyleModel",
          "model_module_version": "1.5.0",
          "state": {
            "_model_module": "@jupyter-widgets/controls",
            "_model_module_version": "1.5.0",
            "_model_name": "DescriptionStyleModel",
            "_view_count": null,
            "_view_module": "@jupyter-widgets/base",
            "_view_module_version": "1.2.0",
            "_view_name": "StyleView",
            "description_width": ""
          }
        }
      }
    }
  },
  "cells": [
    {
      "cell_type": "markdown",
      "metadata": {
        "id": "view-in-github",
        "colab_type": "text"
      },
      "source": [
        "<a href=\"https://colab.research.google.com/github/YunHoLeee/FourPanelCartoon/blob/main/%EC%9B%B9%ED%88%B0%EC%97%B0%EA%B5%AC_%ED%86%A0%ED%94%BD%EB%AA%A8%EB%8D%B8%EB%A7%81_1.ipynb\" target=\"_parent\"><img src=\"https://colab.research.google.com/assets/colab-badge.svg\" alt=\"Open In Colab\"/></a>"
      ]
    },
    {
      "cell_type": "markdown",
      "source": [
        "# 비지도학습 (토픽모델링)"
      ],
      "metadata": {
        "id": "9JjMC9brJ-Yk"
      }
    },
    {
      "cell_type": "code",
      "execution_count": null,
      "metadata": {
        "id": "J7HyKXExfbW2",
        "colab": {
          "base_uri": "https://localhost:8080/"
        },
        "outputId": "8cd1337c-fdda-4897-ecd9-de74378288a8"
      },
      "outputs": [
        {
          "output_type": "stream",
          "name": "stdout",
          "text": [
            "\u001b[2K     \u001b[90m━━━━━━━━━━━━━━━━━━━━━━━━━━━━━━━━━━━━━━━━\u001b[0m \u001b[32m17.2/17.2 MB\u001b[0m \u001b[31m20.7 MB/s\u001b[0m eta \u001b[36m0:00:00\u001b[0m\n",
            "\u001b[?25h"
          ]
        }
      ],
      "source": [
        "# # 나눔고딕 설치\n",
        "# !apt-get update -qq\n",
        "# !apt-get install fonts-nanum* -qq\n",
        "# !sudo fc-cache -fv\n",
        "# !rm ~/.cache/matplotlib -rf\n",
        "\n",
        "# 패키지 설치\n",
        "!pip install -U tomotopy gdown -q"
      ]
    },
    {
      "cell_type": "code",
      "source": [
        "import pandas as pd\n",
        "import numpy as np\n",
        "from tqdm.notebook import tqdm\n",
        "tqdm.pandas()\n",
        "\n",
        "# import matplotlib.pyplot as plt\n",
        "# import matplotlib as mpl\n",
        "# # 그래프에서 마이너스 폰트 깨지는 문제에 대한 대처\n",
        "# mpl.rcParams['axes.unicode_minus'] = False\n",
        "# plt.rc('font', family='NanumBarunGothic')\n",
        "# font_path = '/usr/share/fonts/truetype/nanum/NanumBarunGothic.ttf'\n",
        "# import matplotlib.colors as clr\n",
        "\n",
        "from collections import Counter\n",
        "import regex\n",
        "import re\n",
        "\n",
        "# from kiwipiepy import Kiwi\n",
        "# kiwi = Kiwi(model_type='sbg')\n",
        "\n",
        "# from flashtext import KeywordProcessor\n",
        "# kp = KeywordProcessor()\n",
        "\n",
        "import tomotopy as tp\n",
        "# print(tp.isa)\n",
        "import sys\n",
        "from sklearn import preprocessing\n",
        "\n",
        "import itertools\n",
        "from collections import defaultdict\n",
        "import pickle\n",
        "\n",
        "import nltk\n",
        "from nltk import collocations\n",
        "from gensim.test.utils import common_texts\n",
        "# from gensim.models import Word2Vec\n",
        "# from sklearn.manifold import TSNE\n",
        "from sklearn.feature_extraction.text import CountVectorizer\n",
        "from sklearn.feature_extraction.text import TfidfVectorizer\n",
        "from sklearn.metrics.pairwise import cosine_similarity\n",
        "\n",
        "import gdown\n",
        "import ast"
      ],
      "metadata": {
        "id": "WY2stU6MJiHp"
      },
      "execution_count": null,
      "outputs": []
    },
    {
      "cell_type": "code",
      "source": [
        "# 시각화 필요 라이브러리 불러오기\n",
        "import matplotlib.font_manager as fm\n",
        "import os\n",
        "import matplotlib.pyplot as plt\n",
        "\n",
        "# apt-get : 패키지 설치 명령어\n",
        "# -qq : 에러외의 메세지 숨기는 옵션키\n",
        "!apt-get -qq install fonts-nanum\n",
        "\n",
        "\n",
        "fe = fm.FontEntry(\n",
        "    fname=r'/usr/share/fonts/truetype/nanum/NanumGothic.ttf', # ttf 파일이 저장되어 있는 경로\n",
        "    name='NanumGothic')                        # 이 폰트의 원하는 이름 설정\n",
        "fm.fontManager.ttflist.insert(0, fe)              # Matplotlib에 폰트 추가\n",
        "plt.rcParams.update({'font.size': 18, 'font.family': 'NanumGothic'}) # 폰트 설정\n",
        "\n",
        "# 테스트 해보기\n",
        "fig = plt.figure(figsize=(5, 5))\n",
        "fig, ax = plt.subplots(subplot_kw=dict(projection='3d'), figsize=(5, 5))\n",
        "\n",
        "graph_title = '시험'\n",
        "ax.set_title(f'{graph_title}')\n",
        "ax.set_xlabel('야호 (Hz)', labelpad=10)\n",
        "ax.set_ylabel('시간 (s)', labelpad=10)\n",
        "ax.set_zlabel('이건 뭐지 (dB/Hz)', labelpad=10)\n",
        "\n",
        "ax.view_init(5, 5)\n",
        "plt.show()"
      ],
      "metadata": {
        "id": "7CATbBauRC4R",
        "colab": {
          "base_uri": "https://localhost:8080/",
          "height": 581
        },
        "outputId": "d300eec5-a5f1-4d48-89fd-c49586cc66a6"
      },
      "execution_count": null,
      "outputs": [
        {
          "output_type": "stream",
          "name": "stdout",
          "text": [
            "Selecting previously unselected package fonts-nanum.\n",
            "(Reading database ... 121913 files and directories currently installed.)\n",
            "Preparing to unpack .../fonts-nanum_20200506-1_all.deb ...\n",
            "Unpacking fonts-nanum (20200506-1) ...\n",
            "Setting up fonts-nanum (20200506-1) ...\n",
            "Processing triggers for fontconfig (2.13.1-4.2ubuntu5) ...\n"
          ]
        },
        {
          "output_type": "display_data",
          "data": {
            "text/plain": [
              "<Figure size 500x500 with 0 Axes>"
            ]
          },
          "metadata": {}
        },
        {
          "output_type": "display_data",
          "data": {
            "text/plain": [
              "<Figure size 500x500 with 1 Axes>"
            ],
            "image/png": "[encoded data removed]"
          },
          "metadata": {}
        }
      ]
    },
    {
      "cell_type": "markdown",
      "source": [
        "### 데이터 준비\n",
        "웹툰 관련 연구 전체(670건)"
      ],
      "metadata": {
        "id": "wfkC_gneJ8aP"
      }
    },
    {
      "cell_type": "code",
      "source": [
        "# 내 연구 대상 논문 데이터(엑셀) load\n",
        "# https://docs.google.com/spreadsheets/d/1VrIaWrdrJMlFDTPl8BkhF4U7CHzWwCV0WFpceRujC1w/edit?gid=0#gid=0\n",
        "gdown.download(id='1VrIaWrdrJMlFDTPl8BkhF4U7CHzWwCV0WFpceRujC1w',output='webtoon.xlsx')\n",
        "df = pd.read_excel('./webtoon.xlsx')"
      ],
      "metadata": {
        "id": "DlPPZc7xK5o9",
        "colab": {
          "base_uri": "https://localhost:8080/"
        },
        "outputId": "ec21e358-a884-4337-f00b-cf232fa91d96"
      },
      "execution_count": null,
      "outputs": [
        {
          "output_type": "stream",
          "name": "stderr",
          "text": [
            "Downloading...\n",
            "From (original): https://drive.google.com/uc?id=1VrIaWrdrJMlFDTPl8BkhF4U7CHzWwCV0WFpceRujC1w\n",
            "From (redirected): https://docs.google.com/spreadsheets/d/1VrIaWrdrJMlFDTPl8BkhF4U7CHzWwCV0WFpceRujC1w/export?format=xlsx\n",
            "To: /content/webtoon.xlsx\n",
            "533kB [00:00, 6.12MB/s]\n"
          ]
        }
      ]
    },
    {
      "cell_type": "code",
      "source": [
        "df = pd.read_excel('./webtoon.xlsx') # 나중에 실습할때 여기에 여러분이 다운로드 받은 파일 이름으로 변경할 것.\n",
        "df"
      ],
      "metadata": {
        "id": "375KaU7rLT7h",
        "colab": {
          "base_uri": "https://localhost:8080/",
          "height": 1000
        },
        "outputId": "e667bfd9-71d4-4158-d735-b4bb2a0bcf67"
      },
      "execution_count": null,
      "outputs": [
        {
          "output_type": "execute_result",
          "data": {
            "text/plain": [
              "                                                   논문명         논문 ID  \\\n",
              "0    디지털 플랫폼 기업 M&A 전략의 경제․사회적 효과 분석: 카카오엔터테인먼트의 사례...  ART002937137   \n",
              "1       한국 웹툰 플랫폼의 섬네일 특징이 웹툰 선택에 미치는 영향: 이미지 분석을 적용하여  ART002995105   \n",
              "2                          창세신화를 활용한 문화적 리터러시 교육 방안 연구  ART002950050   \n",
              "3                         만화에서 무배경이 유발하는 참여적 사유에 관한 담론  ART002950245   \n",
              "4                                   웹툰 이용에 따른 행위중독성 연구  ART003018786   \n",
              "..                                                 ...           ...   \n",
              "665         인터넷 언어 문화 교육 내용으로서 디지털 서사의 개념 특성 유형에 관한 연구  ART001227261   \n",
              "666                        웹 만화 <위대한 캣츠비>의 스토리텔링 구조 분석  ART001061496   \n",
              "667                          디지털 컨텐츠 산업과 디지털 만화에 관한 연구  ART001039099   \n",
              "668                         디지털 만화 콘텐츠 메타데이터 요소개발 및 적용  ART001203563   \n",
              "669                 DRM 기술을 활용한 디지털 만화 콘텐츠 서비스 시나리오 개발  ART001203561   \n",
              "\n",
              "                     저자명    주저자 소속기관        학술지 ID                   학술지명  \\\n",
              "0        유병준;정연승;이정준;오예린       서울대학교          1117  Korea Business Review   \n",
              "1            유승희;김호림;최진욱     이화여자대학교          1599                  상품학연구   \n",
              "2                    변숙자     한국교원대학교          1465                 청람어문교육   \n",
              "3                    이용수       호서대학교  SER000000642             일러스트레이션 포럼   \n",
              "4                    박미라       성결대학교          2029                 신학과 실천   \n",
              "..                   ...         ...           ...                    ...   \n",
              "665                  정현선     경인교육대학교          1205                국어교육학연구   \n",
              "666                  이상민      가톨릭대학교          1717                 대중서사연구   \n",
              "667                  고은나        부천대학  SER000000642             일러스트레이션 포럼   \n",
              "668  오상훈;조현주;이용배;강지훈;맹성현       명지대학교        D00564             정보처리학회논문지D   \n",
              "669          오상훈;조현주;강지훈  한국디지털콘텐츠포럼        D00564             정보처리학회논문지D   \n",
              "\n",
              "                                                 저자키워드  \\\n",
              "0                 디지털 플랫폼, M&A, 디지털 콘텐츠, 카카오, 경제사회적 효과   \n",
              "1                             웹툰, 섬네일, 이미지 분석, 콘텐츠, 한류   \n",
              "2                 문화적 리터러시, 문화교육, 고전문학, 창세신화, <천지왕본풀이>   \n",
              "3                                   만화/웹툰, 무배경, 참여적 사유   \n",
              "4                       웹툰, 행위중독, 스마트폰 과의존, 이용동기, 감각추구   \n",
              "..                                                 ...   \n",
              "665  인터넷, 기호, 소통, 디지털 서사, 인터넷 소설, 팬픽, 웹툰, 하이퍼텍스트 서사...   \n",
              "666            위대한 캣츠비, 웹 만화, 스토리텔링, 웹 미디어의 특징, 서사적 층위   \n",
              "667                                                NaN   \n",
              "668  메타데이터요소(Metadata Element), 디지털콘텐츠 유통기술(DRM), 디...   \n",
              "669                           DRM, 만화 콘텐츠, 유통 모델, 시나리오   \n",
              "\n",
              "                                                    초록       발행기관 ID  \\\n",
              "0    본 연구는 카카오엔터테인먼트의 M&A 전략을 사례로 분석하여, 디지털 플랫폼 기업 ...  INS000000739   \n",
              "1    최근 한국의 웹툰은 원천 지식재산이자 한류 콘텐츠로서 급부상하며 산업적 가치가 높아...  INS000000807   \n",
              "2    본고는 고전문학 텍스트를 활용한 문화적 리터러시 교육의 실현 방안을 탐색하는 데 목...  INS000000267   \n",
              "3    본고는 만화/웹툰 이미지를 분석하는 데에 있어서, 배경이 묘사되어 있는가 없는가 하...  INS000000241   \n",
              "4    본 연구에서는 코로나19이후 증가된 웹툰 이용에 있어서 과의존 및 중독적 경향에 관...  INS000001585   \n",
              "..                                                 ...           ...   \n",
              "665  인터넷 언어 문화 교육 내용으로서디지털 서사의 개념특성유형에 관한 연구정현선본고는 ...  INS000001358   \n",
              "666  웹 만화 위대한 캣츠비는 웹의 매체를 이용한 서정성 획득, 3중 구조에 따른 서사적...  INS000000103   \n",
              "667  디지털 기술의 발전은 사회문화 전반에 큰 파장을 일으키며 디지털 컨텐츠 산업을 빠른...  INS000000241   \n",
              "668  디지털콘텐츠 서비스 유형이 다양해지면서 콘텐츠 유통에 참여하는 주체들(저작자, 가공...  INS000000930   \n",
              "669  현재 디지털 만화 컨텐츠의 온라인상에서의 유통은 불법유통 및 저작권 보호체계의 미비...  INS000000930   \n",
              "\n",
              "           발행기관명  발행연도    대분류     중분류     종분류  \\\n",
              "0         한국경영학회  2023   사회과학     경영학    경영교육   \n",
              "1         한국상품학회  2023   사회과학     경영학     경영학   \n",
              "2       청람어문교육학회  2023    인문학      문학    국어교육   \n",
              "3    한국일러스트레이션학회  2023  예술체육학     디자인     디자인   \n",
              "4        한국실천신학회  2023    인문학   기독교신학   기독교신학   \n",
              "..           ...   ...    ...     ...     ...   \n",
              "665       국어교육학회  2007    인문학  한국어와문학  한국어와문학   \n",
              "666       대중서사학회  2007    복합학   학제간연구   학제간연구   \n",
              "667  한국일러스트레이션학회  2006  예술체육학     디자인     디자인   \n",
              "668     한국정보처리학회  2004     공학   정보 없음      공학   \n",
              "669     한국정보처리학회  2003     공학   정보 없음      공학   \n",
              "\n",
              "                                                   URL KCI 등재 구분  \n",
              "0    https://www.kci.go.kr/kciportal/ci/sereArticle...        등재  \n",
              "1    https://www.kci.go.kr/kciportal/ci/sereArticle...        등재  \n",
              "2    https://www.kci.go.kr/kciportal/ci/sereArticle...        등재  \n",
              "3    https://www.kci.go.kr/kciportal/ci/sereArticle...        등재  \n",
              "4    https://www.kci.go.kr/kciportal/ci/sereArticle...        등재  \n",
              "..                                                 ...       ...  \n",
              "665  https://www.kci.go.kr/kciportal/ci/sereArticle...        등재  \n",
              "666  https://www.kci.go.kr/kciportal/ci/sereArticle...      등재후보  \n",
              "667  https://www.kci.go.kr/kciportal/ci/sereArticle...      등재후보  \n",
              "668  https://www.kci.go.kr/kciportal/ci/sereArticle...        등재  \n",
              "669  https://www.kci.go.kr/kciportal/ci/sereArticle...        등재  \n",
              "\n",
              "[670 rows x 16 columns]"
            ],
            "text/html": [
              "\n",
              "  <div id=\"df-268012c7-51f9-48d0-bcaf-3a705e44dca2\" class=\"colab-df-container\">\n",
              "    <div>\n",
              "<style scoped>\n",
              "    .dataframe tbody tr th:only-of-type {\n",
              "        vertical-align: middle;\n",
              "    }\n",
              "\n",
              "    .dataframe tbody tr th {\n",
              "        vertical-align: top;\n",
              "    }\n",
              "\n",
              "    .dataframe thead th {\n",
              "        text-align: right;\n",
              "    }\n",
              "</style>\n",
              "<table border=\"1\" class=\"dataframe\">\n",
              "  <thead>\n",
              "    <tr style=\"text-align: right;\">\n",
              "      <th></th>\n",
              "      <th>논문명</th>\n",
              "      <th>논문 ID</th>\n",
              "      <th>저자명</th>\n",
              "      <th>주저자 소속기관</th>\n",
              "      <th>학술지 ID</th>\n",
              "      <th>학술지명</th>\n",
              "      <th>저자키워드</th>\n",
              "      <th>초록</th>\n",
              "      <th>발행기관 ID</th>\n",
              "      <th>발행기관명</th>\n",
              "      <th>발행연도</th>\n",
              "      <th>대분류</th>\n",
              "      <th>중분류</th>\n",
              "      <th>종분류</th>\n",
              "      <th>URL</th>\n",
              "      <th>KCI 등재 구분</th>\n",
              "    </tr>\n",
              "  </thead>\n",
              "  <tbody>\n",
              "    <tr>\n",
              "      <th>0</th>\n",
              "      <td>디지털 플랫폼 기업 M&amp;A 전략의 경제․사회적 효과 분석: 카카오엔터테인먼트의 사례...</td>\n",
              "      <td>ART002937137</td>\n",
              "      <td>유병준;정연승;이정준;오예린</td>\n",
              "      <td>서울대학교</td>\n",
              "      <td>1117</td>\n",
              "      <td>Korea Business Review</td>\n",
              "      <td>디지털 플랫폼, M&amp;A, 디지털 콘텐츠, 카카오, 경제사회적 효과</td>\n",
              "      <td>본 연구는 카카오엔터테인먼트의 M&amp;A 전략을 사례로 분석하여, 디지털 플랫폼 기업 ...</td>\n",
              "      <td>INS000000739</td>\n",
              "      <td>한국경영학회</td>\n",
              "      <td>2023</td>\n",
              "      <td>사회과학</td>\n",
              "      <td>경영학</td>\n",
              "      <td>경영교육</td>\n",
              "      <td>https://www.kci.go.kr/kciportal/ci/sereArticle...</td>\n",
              "      <td>등재</td>\n",
              "    </tr>\n",
              "    <tr>\n",
              "      <th>1</th>\n",
              "      <td>한국 웹툰 플랫폼의 섬네일 특징이 웹툰 선택에 미치는 영향: 이미지 분석을 적용하여</td>\n",
              "      <td>ART002995105</td>\n",
              "      <td>유승희;김호림;최진욱</td>\n",
              "      <td>이화여자대학교</td>\n",
              "      <td>1599</td>\n",
              "      <td>상품학연구</td>\n",
              "      <td>웹툰, 섬네일, 이미지 분석, 콘텐츠, 한류</td>\n",
              "      <td>최근 한국의 웹툰은 원천 지식재산이자 한류 콘텐츠로서 급부상하며 산업적 가치가 높아...</td>\n",
              "      <td>INS000000807</td>\n",
              "      <td>한국상품학회</td>\n",
              "      <td>2023</td>\n",
              "      <td>사회과학</td>\n",
              "      <td>경영학</td>\n",
              "      <td>경영학</td>\n",
              "      <td>https://www.kci.go.kr/kciportal/ci/sereArticle...</td>\n",
              "      <td>등재</td>\n",
              "    </tr>\n",
              "    <tr>\n",
              "      <th>2</th>\n",
              "      <td>창세신화를 활용한 문화적 리터러시 교육 방안 연구</td>\n",
              "      <td>ART002950050</td>\n",
              "      <td>변숙자</td>\n",
              "      <td>한국교원대학교</td>\n",
              "      <td>1465</td>\n",
              "      <td>청람어문교육</td>\n",
              "      <td>문화적 리터러시, 문화교육, 고전문학, 창세신화, &lt;천지왕본풀이&gt;</td>\n",
              "      <td>본고는 고전문학 텍스트를 활용한 문화적 리터러시 교육의 실현 방안을 탐색하는 데 목...</td>\n",
              "      <td>INS000000267</td>\n",
              "      <td>청람어문교육학회</td>\n",
              "      <td>2023</td>\n",
              "      <td>인문학</td>\n",
              "      <td>문학</td>\n",
              "      <td>국어교육</td>\n",
              "      <td>https://www.kci.go.kr/kciportal/ci/sereArticle...</td>\n",
              "      <td>등재</td>\n",
              "    </tr>\n",
              "    <tr>\n",
              "      <th>3</th>\n",
              "      <td>만화에서 무배경이 유발하는 참여적 사유에 관한 담론</td>\n",
              "      <td>ART002950245</td>\n",
              "      <td>이용수</td>\n",
              "      <td>호서대학교</td>\n",
              "      <td>SER000000642</td>\n",
              "      <td>일러스트레이션 포럼</td>\n",
              "      <td>만화/웹툰, 무배경, 참여적 사유</td>\n",
              "      <td>본고는 만화/웹툰 이미지를 분석하는 데에 있어서, 배경이 묘사되어 있는가 없는가 하...</td>\n",
              "      <td>INS000000241</td>\n",
              "      <td>한국일러스트레이션학회</td>\n",
              "      <td>2023</td>\n",
              "      <td>예술체육학</td>\n",
              "      <td>디자인</td>\n",
              "      <td>디자인</td>\n",
              "      <td>https://www.kci.go.kr/kciportal/ci/sereArticle...</td>\n",
              "      <td>등재</td>\n",
              "    </tr>\n",
              "    <tr>\n",
              "      <th>4</th>\n",
              "      <td>웹툰 이용에 따른 행위중독성 연구</td>\n",
              "      <td>ART003018786</td>\n",
              "      <td>박미라</td>\n",
              "      <td>성결대학교</td>\n",
              "      <td>2029</td>\n",
              "      <td>신학과 실천</td>\n",
              "      <td>웹툰, 행위중독, 스마트폰 과의존, 이용동기, 감각추구</td>\n",
              "      <td>본 연구에서는 코로나19이후 증가된 웹툰 이용에 있어서 과의존 및 중독적 경향에 관...</td>\n",
              "      <td>INS000001585</td>\n",
              "      <td>한국실천신학회</td>\n",
              "      <td>2023</td>\n",
              "      <td>인문학</td>\n",
              "      <td>기독교신학</td>\n",
              "      <td>기독교신학</td>\n",
              "      <td>https://www.kci.go.kr/kciportal/ci/sereArticle...</td>\n",
              "      <td>등재</td>\n",
              "    </tr>\n",
              "    <tr>\n",
              "      <th>...</th>\n",
              "      <td>...</td>\n",
              "      <td>...</td>\n",
              "      <td>...</td>\n",
              "      <td>...</td>\n",
              "      <td>...</td>\n",
              "      <td>...</td>\n",
              "      <td>...</td>\n",
              "      <td>...</td>\n",
              "      <td>...</td>\n",
              "      <td>...</td>\n",
              "      <td>...</td>\n",
              "      <td>...</td>\n",
              "      <td>...</td>\n",
              "      <td>...</td>\n",
              "      <td>...</td>\n",
              "      <td>...</td>\n",
              "    </tr>\n",
              "    <tr>\n",
              "      <th>665</th>\n",
              "      <td>인터넷 언어 문화 교육 내용으로서 디지털 서사의 개념 특성 유형에 관한 연구</td>\n",
              "      <td>ART001227261</td>\n",
              "      <td>정현선</td>\n",
              "      <td>경인교육대학교</td>\n",
              "      <td>1205</td>\n",
              "      <td>국어교육학연구</td>\n",
              "      <td>인터넷, 기호, 소통, 디지털 서사, 인터넷 소설, 팬픽, 웹툰, 하이퍼텍스트 서사...</td>\n",
              "      <td>인터넷 언어 문화 교육 내용으로서디지털 서사의 개념특성유형에 관한 연구정현선본고는 ...</td>\n",
              "      <td>INS000001358</td>\n",
              "      <td>국어교육학회</td>\n",
              "      <td>2007</td>\n",
              "      <td>인문학</td>\n",
              "      <td>한국어와문학</td>\n",
              "      <td>한국어와문학</td>\n",
              "      <td>https://www.kci.go.kr/kciportal/ci/sereArticle...</td>\n",
              "      <td>등재</td>\n",
              "    </tr>\n",
              "    <tr>\n",
              "      <th>666</th>\n",
              "      <td>웹 만화 &lt;위대한 캣츠비&gt;의 스토리텔링 구조 분석</td>\n",
              "      <td>ART001061496</td>\n",
              "      <td>이상민</td>\n",
              "      <td>가톨릭대학교</td>\n",
              "      <td>1717</td>\n",
              "      <td>대중서사연구</td>\n",
              "      <td>위대한 캣츠비, 웹 만화, 스토리텔링, 웹 미디어의 특징, 서사적 층위</td>\n",
              "      <td>웹 만화 위대한 캣츠비는 웹의 매체를 이용한 서정성 획득, 3중 구조에 따른 서사적...</td>\n",
              "      <td>INS000000103</td>\n",
              "      <td>대중서사학회</td>\n",
              "      <td>2007</td>\n",
              "      <td>복합학</td>\n",
              "      <td>학제간연구</td>\n",
              "      <td>학제간연구</td>\n",
              "      <td>https://www.kci.go.kr/kciportal/ci/sereArticle...</td>\n",
              "      <td>등재후보</td>\n",
              "    </tr>\n",
              "    <tr>\n",
              "      <th>667</th>\n",
              "      <td>디지털 컨텐츠 산업과 디지털 만화에 관한 연구</td>\n",
              "      <td>ART001039099</td>\n",
              "      <td>고은나</td>\n",
              "      <td>부천대학</td>\n",
              "      <td>SER000000642</td>\n",
              "      <td>일러스트레이션 포럼</td>\n",
              "      <td>NaN</td>\n",
              "      <td>디지털 기술의 발전은 사회문화 전반에 큰 파장을 일으키며 디지털 컨텐츠 산업을 빠른...</td>\n",
              "      <td>INS000000241</td>\n",
              "      <td>한국일러스트레이션학회</td>\n",
              "      <td>2006</td>\n",
              "      <td>예술체육학</td>\n",
              "      <td>디자인</td>\n",
              "      <td>디자인</td>\n",
              "      <td>https://www.kci.go.kr/kciportal/ci/sereArticle...</td>\n",
              "      <td>등재후보</td>\n",
              "    </tr>\n",
              "    <tr>\n",
              "      <th>668</th>\n",
              "      <td>디지털 만화 콘텐츠 메타데이터 요소개발 및 적용</td>\n",
              "      <td>ART001203563</td>\n",
              "      <td>오상훈;조현주;이용배;강지훈;맹성현</td>\n",
              "      <td>명지대학교</td>\n",
              "      <td>D00564</td>\n",
              "      <td>정보처리학회논문지D</td>\n",
              "      <td>메타데이터요소(Metadata Element), 디지털콘텐츠 유통기술(DRM), 디...</td>\n",
              "      <td>디지털콘텐츠 서비스 유형이 다양해지면서 콘텐츠 유통에 참여하는 주체들(저작자, 가공...</td>\n",
              "      <td>INS000000930</td>\n",
              "      <td>한국정보처리학회</td>\n",
              "      <td>2004</td>\n",
              "      <td>공학</td>\n",
              "      <td>정보 없음</td>\n",
              "      <td>공학</td>\n",
              "      <td>https://www.kci.go.kr/kciportal/ci/sereArticle...</td>\n",
              "      <td>등재</td>\n",
              "    </tr>\n",
              "    <tr>\n",
              "      <th>669</th>\n",
              "      <td>DRM 기술을 활용한 디지털 만화 콘텐츠 서비스 시나리오 개발</td>\n",
              "      <td>ART001203561</td>\n",
              "      <td>오상훈;조현주;강지훈</td>\n",
              "      <td>한국디지털콘텐츠포럼</td>\n",
              "      <td>D00564</td>\n",
              "      <td>정보처리학회논문지D</td>\n",
              "      <td>DRM, 만화 콘텐츠, 유통 모델, 시나리오</td>\n",
              "      <td>현재 디지털 만화 컨텐츠의 온라인상에서의 유통은 불법유통 및 저작권 보호체계의 미비...</td>\n",
              "      <td>INS000000930</td>\n",
              "      <td>한국정보처리학회</td>\n",
              "      <td>2003</td>\n",
              "      <td>공학</td>\n",
              "      <td>정보 없음</td>\n",
              "      <td>공학</td>\n",
              "      <td>https://www.kci.go.kr/kciportal/ci/sereArticle...</td>\n",
              "      <td>등재</td>\n",
              "    </tr>\n",
              "  </tbody>\n",
              "</table>\n",
              "<p>670 rows × 16 columns</p>\n",
              "</div>\n",
              "    <div class=\"colab-df-buttons\">\n",
              "\n",
              "  <div class=\"colab-df-container\">\n",
              "    <button class=\"colab-df-convert\" onclick=\"convertToInteractive('df-268012c7-51f9-48d0-bcaf-3a705e44dca2')\"\n",
              "            title=\"Convert this dataframe to an interactive table.\"\n",
              "            style=\"display:none;\">\n",
              "\n",
              "  <svg xmlns=\"http://www.w3.org/2000/svg\" height=\"24px\" viewBox=\"0 -960 960 960\">\n",
              "    <path d=\"M120-120v-720h720v720H120Zm60-500h600v-160H180v160Zm220 220h160v-160H400v160Zm0 220h160v-160H400v160ZM180-400h160v-160H180v160Zm440 0h160v-160H620v160ZM180-180h160v-160H180v160Zm440 0h160v-160H620v160Z\"/>\n",
              "  </svg>\n",
              "    </button>\n",
              "\n",
              "  <style>\n",
              "    .colab-df-container {\n",
              "      display:flex;\n",
              "      gap: 12px;\n",
              "    }\n",
              "\n",
              "    .colab-df-convert {\n",
              "      background-color: #E8F0FE;\n",
              "      border: none;\n",
              "      border-radius: 50%;\n",
              "      cursor: pointer;\n",
              "      display: none;\n",
              "      fill: #1967D2;\n",
              "      height: 32px;\n",
              "      padding: 0 0 0 0;\n",
              "      width: 32px;\n",
              "    }\n",
              "\n",
              "    .colab-df-convert:hover {\n",
              "      background-color: #E2EBFA;\n",
              "      box-shadow: 0px 1px 2px rgba(60, 64, 67, 0.3), 0px 1px 3px 1px rgba(60, 64, 67, 0.15);\n",
              "      fill: #174EA6;\n",
              "    }\n",
              "\n",
              "    .colab-df-buttons div {\n",
              "      margin-bottom: 4px;\n",
              "    }\n",
              "\n",
              "    [theme=dark] .colab-df-convert {\n",
              "      background-color: #3B4455;\n",
              "      fill: #D2E3FC;\n",
              "    }\n",
              "\n",
              "    [theme=dark] .colab-df-convert:hover {\n",
              "      background-color: #434B5C;\n",
              "      box-shadow: 0px 1px 3px 1px rgba(0, 0, 0, 0.15);\n",
              "      filter: drop-shadow(0px 1px 2px rgba(0, 0, 0, 0.3));\n",
              "      fill: #FFFFFF;\n",
              "    }\n",
              "  </style>\n",
              "\n",
              "    <script>\n",
              "      const buttonEl =\n",
              "        document.querySelector('#df-268012c7-51f9-48d0-bcaf-3a705e44dca2 button.colab-df-convert');\n",
              "      buttonEl.style.display =\n",
              "        google.colab.kernel.accessAllowed ? 'block' : 'none';\n",
              "\n",
              "      async function convertToInteractive(key) {\n",
              "        const element = document.querySelector('#df-268012c7-51f9-48d0-bcaf-3a705e44dca2');\n",
              "        const dataTable =\n",
              "          await google.colab.kernel.invokeFunction('convertToInteractive',\n",
              "                                                    [key], {});\n",
              "        if (!dataTable) return;\n",
              "\n",
              "        const docLinkHtml = 'Like what you see? Visit the ' +\n",
              "          '<a target=\"_blank\" href=https://colab.research.google.com/notebooks/data_table.ipynb>data table notebook</a>'\n",
              "          + ' to learn more about interactive tables.';\n",
              "        element.innerHTML = '';\n",
              "        dataTable['output_type'] = 'display_data';\n",
              "        await google.colab.output.renderOutput(dataTable, element);\n",
              "        const docLink = document.createElement('div');\n",
              "        docLink.innerHTML = docLinkHtml;\n",
              "        element.appendChild(docLink);\n",
              "      }\n",
              "    </script>\n",
              "  </div>\n",
              "\n",
              "\n",
              "<div id=\"df-b5ddb780-23ab-4d83-a85d-9fca16397d94\">\n",
              "  <button class=\"colab-df-quickchart\" onclick=\"quickchart('df-b5ddb780-23ab-4d83-a85d-9fca16397d94')\"\n",
              "            title=\"Suggest charts\"\n",
              "            style=\"display:none;\">\n",
              "\n",
              "<svg xmlns=\"http://www.w3.org/2000/svg\" height=\"24px\"viewBox=\"0 0 24 24\"\n",
              "     width=\"24px\">\n",
              "    <g>\n",
              "        <path d=\"M19 3H5c-1.1 0-2 .9-2 2v14c0 1.1.9 2 2 2h14c1.1 0 2-.9 2-2V5c0-1.1-.9-2-2-2zM9 17H7v-7h2v7zm4 0h-2V7h2v10zm4 0h-2v-4h2v4z\"/>\n",
              "    </g>\n",
              "</svg>\n",
              "  </button>\n",
              "\n",
              "<style>\n",
              "  .colab-df-quickchart {\n",
              "      --bg-color: #E8F0FE;\n",
              "      --fill-color: #1967D2;\n",
              "      --hover-bg-color: #E2EBFA;\n",
              "      --hover-fill-color: #174EA6;\n",
              "      --disabled-fill-color: #AAA;\n",
              "      --disabled-bg-color: #DDD;\n",
              "  }\n",
              "\n",
              "  [theme=dark] .colab-df-quickchart {\n",
              "      --bg-color: #3B4455;\n",
              "      --fill-color: #D2E3FC;\n",
              "      --hover-bg-color: #434B5C;\n",
              "      --hover-fill-color: #FFFFFF;\n",
              "      --disabled-bg-color: #3B4455;\n",
              "      --disabled-fill-color: #666;\n",
              "  }\n",
              "\n",
              "  .colab-df-quickchart {\n",
              "    background-color: var(--bg-color);\n",
              "    border: none;\n",
              "    border-radius: 50%;\n",
              "    cursor: pointer;\n",
              "    display: none;\n",
              "    fill: var(--fill-color);\n",
              "    height: 32px;\n",
              "    padding: 0;\n",
              "    width: 32px;\n",
              "  }\n",
              "\n",
              "  .colab-df-quickchart:hover {\n",
              "    background-color: var(--hover-bg-color);\n",
              "    box-shadow: 0 1px 2px rgba(60, 64, 67, 0.3), 0 1px 3px 1px rgba(60, 64, 67, 0.15);\n",
              "    fill: var(--button-hover-fill-color);\n",
              "  }\n",
              "\n",
              "  .colab-df-quickchart-complete:disabled,\n",
              "  .colab-df-quickchart-complete:disabled:hover {\n",
              "    background-color: var(--disabled-bg-color);\n",
              "    fill: var(--disabled-fill-color);\n",
              "    box-shadow: none;\n",
              "  }\n",
              "\n",
              "  .colab-df-spinner {\n",
              "    border: 2px solid var(--fill-color);\n",
              "    border-color: transparent;\n",
              "    border-bottom-color: var(--fill-color);\n",
              "    animation:\n",
              "      spin 1s steps(1) infinite;\n",
              "  }\n",
              "\n",
              "  @keyframes spin {\n",
              "    0% {\n",
              "      border-color: transparent;\n",
              "      border-bottom-color: var(--fill-color);\n",
              "      border-left-color: var(--fill-color);\n",
              "    }\n",
              "    20% {\n",
              "      border-color: transparent;\n",
              "      border-left-color: var(--fill-color);\n",
              "      border-top-color: var(--fill-color);\n",
              "    }\n",
              "    30% {\n",
              "      border-color: transparent;\n",
              "      border-left-color: var(--fill-color);\n",
              "      border-top-color: var(--fill-color);\n",
              "      border-right-color: var(--fill-color);\n",
              "    }\n",
              "    40% {\n",
              "      border-color: transparent;\n",
              "      border-right-color: var(--fill-color);\n",
              "      border-top-color: var(--fill-color);\n",
              "    }\n",
              "    60% {\n",
              "      border-color: transparent;\n",
              "      border-right-color: var(--fill-color);\n",
              "    }\n",
              "    80% {\n",
              "      border-color: transparent;\n",
              "      border-right-color: var(--fill-color);\n",
              "      border-bottom-color: var(--fill-color);\n",
              "    }\n",
              "    90% {\n",
              "      border-color: transparent;\n",
              "      border-bottom-color: var(--fill-color);\n",
              "    }\n",
              "  }\n",
              "</style>\n",
              "\n",
              "  <script>\n",
              "    async function quickchart(key) {\n",
              "      const quickchartButtonEl =\n",
              "        document.querySelector('#' + key + ' button');\n",
              "      quickchartButtonEl.disabled = true;  // To prevent multiple clicks.\n",
              "      quickchartButtonEl.classList.add('colab-df-spinner');\n",
              "      try {\n",
              "        const charts = await google.colab.kernel.invokeFunction(\n",
              "            'suggestCharts', [key], {});\n",
              "      } catch (error) {\n",
              "        console.error('Error during call to suggestCharts:', error);\n",
              "      }\n",
              "      quickchartButtonEl.classList.remove('colab-df-spinner');\n",
              "      quickchartButtonEl.classList.add('colab-df-quickchart-complete');\n",
              "    }\n",
              "    (() => {\n",
              "      let quickchartButtonEl =\n",
              "        document.querySelector('#df-b5ddb780-23ab-4d83-a85d-9fca16397d94 button');\n",
              "      quickchartButtonEl.style.display =\n",
              "        google.colab.kernel.accessAllowed ? 'block' : 'none';\n",
              "    })();\n",
              "  </script>\n",
              "</div>\n",
              "\n",
              "  <div id=\"id_4acd6ae9-c0d1-430c-85b3-9c1cc668f963\">\n",
              "    <style>\n",
              "      .colab-df-generate {\n",
              "        background-color: #E8F0FE;\n",
              "        border: none;\n",
              "        border-radius: 50%;\n",
              "        cursor: pointer;\n",
              "        display: none;\n",
              "        fill: #1967D2;\n",
              "        height: 32px;\n",
              "        padding: 0 0 0 0;\n",
              "        width: 32px;\n",
              "      }\n",
              "\n",
              "      .colab-df-generate:hover {\n",
              "        background-color: #E2EBFA;\n",
              "        box-shadow: 0px 1px 2px rgba(60, 64, 67, 0.3), 0px 1px 3px 1px rgba(60, 64, 67, 0.15);\n",
              "        fill: #174EA6;\n",
              "      }\n",
              "\n",
              "      [theme=dark] .colab-df-generate {\n",
              "        background-color: #3B4455;\n",
              "        fill: #D2E3FC;\n",
              "      }\n",
              "\n",
              "      [theme=dark] .colab-df-generate:hover {\n",
              "        background-color: #434B5C;\n",
              "        box-shadow: 0px 1px 3px 1px rgba(0, 0, 0, 0.15);\n",
              "        filter: drop-shadow(0px 1px 2px rgba(0, 0, 0, 0.3));\n",
              "        fill: #FFFFFF;\n",
              "      }\n",
              "    </style>\n",
              "    <button class=\"colab-df-generate\" onclick=\"generateWithVariable('df')\"\n",
              "            title=\"Generate code using this dataframe.\"\n",
              "            style=\"display:none;\">\n",
              "\n",
              "  <svg xmlns=\"http://www.w3.org/2000/svg\" height=\"24px\"viewBox=\"0 0 24 24\"\n",
              "       width=\"24px\">\n",
              "    <path d=\"M7,19H8.4L18.45,9,17,7.55,7,17.6ZM5,21V16.75L18.45,3.32a2,2,0,0,1,2.83,0l1.4,1.43a1.91,1.91,0,0,1,.58,1.4,1.91,1.91,0,0,1-.58,1.4L9.25,21ZM18.45,9,17,7.55Zm-12,3A5.31,5.31,0,0,0,4.9,8.1,5.31,5.31,0,0,0,1,6.5,5.31,5.31,0,0,0,4.9,4.9,5.31,5.31,0,0,0,6.5,1,5.31,5.31,0,0,0,8.1,4.9,5.31,5.31,0,0,0,12,6.5,5.46,5.46,0,0,0,6.5,12Z\"/>\n",
              "  </svg>\n",
              "    </button>\n",
              "    <script>\n",
              "      (() => {\n",
              "      const buttonEl =\n",
              "        document.querySelector('#id_4acd6ae9-c0d1-430c-85b3-9c1cc668f963 button.colab-df-generate');\n",
              "      buttonEl.style.display =\n",
              "        google.colab.kernel.accessAllowed ? 'block' : 'none';\n",
              "\n",
              "      buttonEl.onclick = () => {\n",
              "        google.colab.notebook.generateWithVariable('df');\n",
              "      }\n",
              "      })();\n",
              "    </script>\n",
              "  </div>\n",
              "\n",
              "    </div>\n",
              "  </div>\n"
            ],
            "application/vnd.google.colaboratory.intrinsic+json": {
              "type": "dataframe",
              "variable_name": "df",
              "summary": "{\n  \"name\": \"df\",\n  \"rows\": 670,\n  \"fields\": [\n    {\n      \"column\": \"\\ub17c\\ubb38\\uba85\",\n      \"properties\": {\n        \"dtype\": \"string\",\n        \"num_unique_values\": 670,\n        \"samples\": [\n          \"\\uc6f9\\ud230 \\ub9e5\\ub77d\\uacfc \\uad11\\uace0\\ud615\\ud0dc \\ubc0f \\uac8c\\uc7ac\\uc704\\uce58\\uc5d0 \\ub530\\ub978 \\uc6f9\\ud230 \\uc18d \\uad11\\uace0\\ud6a8\\uacfc\\uc5d0 \\ubbf8\\uce58\\ub294 \\uc601\\ud5a5\",\n          \"\\ud074\\ub77c\\uc6b0\\ub4dc \\uae30\\ubc18 \\uc6f9\\ud230 \\ucf58\\ud150\\uce20\\uc758 \\ubd88\\ubc95\\uc720\\ud1b5 \\ud310\\ub2e8\\uc744 \\uc704\\ud55c \\uc2dc\\uadf8\\ub2c8\\ucc98 \\uc815\\ubcf4 \\uc0dd\\uc131 \\ubc29\\ubc95\",\n          \"\\ube0c\\ub79c\\ub4dc \\uc6f9\\ud230 \\uc2a4\\ud1a0\\ub9ac\\ud154\\ub9c1\\uc758 \\uc2a4\\ud540\\uc624\\ud504 \\uc591\\uc0c1 \\uc5f0\\uad6c\"\n        ],\n        \"semantic_type\": \"\",\n        \"description\": \"\"\n      }\n    },\n    {\n      \"column\": \"\\ub17c\\ubb38 ID\",\n      \"properties\": {\n        \"dtype\": \"string\",\n        \"num_unique_values\": 670,\n        \"samples\": [\n          \"ART002443399\",\n          \"ART002908083\",\n          \"ART002270420\"\n        ],\n        \"semantic_type\": \"\",\n        \"description\": \"\"\n      }\n    },\n    {\n      \"column\": \"\\uc800\\uc790\\uba85\",\n      \"properties\": {\n        \"dtype\": \"string\",\n        \"num_unique_values\": 544,\n        \"samples\": [\n          \"\\uc774\\uc2b9\\ud658\",\n          \"\\ub958\\uaddc\\ud558\",\n          \"\\uc774\\ud76c\\uc900;\\uc870\\ucc3d\\ud658\"\n        ],\n        \"semantic_type\": \"\",\n        \"description\": \"\"\n      }\n    },\n    {\n      \"column\": \"\\uc8fc\\uc800\\uc790 \\uc18c\\uc18d\\uae30\\uad00\",\n      \"properties\": {\n        \"dtype\": \"category\",\n        \"num_unique_values\": 259,\n        \"samples\": [\n          \"\\ubd80\\uc0b0\\uc678\\uad6d\\uc5b4\\ub300\\ud559\\uad50\",\n          \"\\uc778\\ub355\\ub300\\ud559\\uad50\",\n          \"\\uace0\\ub824\\ub300\\ud559\\uad50\"\n        ],\n        \"semantic_type\": \"\",\n        \"description\": \"\"\n      }\n    },\n    {\n      \"column\": \"\\ud559\\uc220\\uc9c0 ID\",\n      \"properties\": {\n        \"dtype\": \"category\",\n        \"num_unique_values\": 260,\n        \"samples\": [\n          \"SER000010318\",\n          1814,\n          1593\n        ],\n        \"semantic_type\": \"\",\n        \"description\": \"\"\n      }\n    },\n    {\n      \"column\": \"\\ud559\\uc220\\uc9c0\\uba85\",\n      \"properties\": {\n        \"dtype\": \"category\",\n        \"num_unique_values\": 256,\n        \"samples\": [\n          \"\\uad50\\uacfc\\uad50\\uc721\\ud559\\uc5f0\\uad6c\",\n          \"\\uc5f0\\uae30\\uc608\\uc220\\uc5f0\\uad6c\",\n          \"\\ubb38\\ud654\\uc601\\ud1a0\\uc5f0\\uad6c\"\n        ],\n        \"semantic_type\": \"\",\n        \"description\": \"\"\n      }\n    },\n    {\n      \"column\": \"\\uc800\\uc790\\ud0a4\\uc6cc\\ub4dc\",\n      \"properties\": {\n        \"dtype\": \"string\",\n        \"num_unique_values\": 668,\n        \"samples\": [\n          \"\\uc6f9\\ud230, \\uc6f9\\ud230 \\ud50c\\ub7ab\\ud3fc, \\ub9e5\\ub77d\\ud6a8\\uacfc, \\uac8c\\uc7ac\\uc704\\uce58\\ud6a8\\uacfc, \\ud45c\\ud604\\uc804\\ub7b5, \\uad11\\uace0\\ud6a8\\uacfc\",\n          \"\\ud074\\ub77c\\uc6b0\\ub4dc, \\uc6f9\\ud230, \\ubd88\\ubc95\\uc720\\ud1b5, \\uc2dc\\uadf8\\ub2c8\\ucc98 DB, \\uac80\\uc99d\",\n          \"<\\ubcc0\\uac15\\uc1e0\\uac00>, \\uc6f9\\ud230 <\\ub9c8\\ub140>, \\uacf5\\ub3d9\\uccb4\\uc640 \\ud0c0\\uc790, \\ud0c0\\uc790\\ud654, \\uacf5\\ub3d9\\uccb4\\uc758 \\ud76c\\uc0dd\\uc591, \\uacf5\\ub3d9\\uccb4\\uc640 \\ud0c0\\uc790\\uc758 \\uacf5\\uc874\"\n        ],\n        \"semantic_type\": \"\",\n        \"description\": \"\"\n      }\n    },\n    {\n      \"column\": \"\\ucd08\\ub85d\",\n      \"properties\": {\n        \"dtype\": \"string\",\n        \"num_unique_values\": 668,\n        \"samples\": [\n          \"\\uc774 \\ub17c\\ubb38\\uc740 \\ub3c4\\uae68\\ube44 \\uc11c\\uc0ac\\uac00 \\uc6f9\\ud230\\uc5d0 \\uc218\\uc6a9\\ub418\\uace0 \\ubcc0\\uc8fc\\ub418\\ub294 \\uc2a4\\ud1a0\\ub9ac\\ud154\\ub9c1 \\ubc29 \\uc2dd\\uc744 \\ubd84\\uc11d\\ud55c \\uac83\\uc774\\ub2e4. \\ub3c4\\uae68\\ube44\\ub294 \\ud604\\uc2e4\\uc801 \\uc874\\uc7ac\\uac00 \\uc544\\ub2c8\\ub77c \\uc778\\uac04\\uc758 \\uc0c1\\uc0c1\\ub825\\uc5d0 \\uc758\\ud574 \\ud615\\uc131\\ub418\\uace0 \\ubcc0\\uc8fc\\ub418\\uae30 \\ub54c\\ubb38\\uc5d0 \\uba85\\ud655\\ud55c \\uac1c\\ub150\\uacfc \\ubc94\\uc8fc\\ub85c \\uaddc\\uc815\\ud558\\uae30 \\uc5b4\\ub835 \\ub2e4. \\ub3c4\\uae68\\ube44\\ub294 \\uc5ed\\uc0ac\\uc801 \\ub9e5\\ub77d \\uc18d\\uc5d0\\uc11c \\uc2e4\\uc7ac\\ud558\\ub294 \\uc874\\uc7ac\\uac00 \\uc544\\ub2c8\\ub77c \\uc778\\uac04\\uc758 \\uc0c1\\uc0c1 \\uacfc \\uc695\\ub9dd\\uc774 \\ud22c\\uc0ac\\ub418\\uc5b4 \\ud615\\uc131\\ub41c \\uc874\\uc7ac\\uc774\\uae30 \\ub54c\\ubb38\\uc5d0 \\uc804\\uc2b9 \\uacfc\\uc815\\uc744 \\ud1b5\\ud574\\uc11c \\ub2e4\\uc591 \\ud55c \\uc774\\uc9c8\\uc801 \\uc694\\uc18c\\uac00 \\ud63c\\uc885\\ub418\\uc5c8\\ub2e4. \\uc774\\ub7ec\\ud55c \\ub3c4\\uae68\\ube44 \\uc11c\\uc0ac\\uc758 \\uac1c\\ubc29\\uc131\\uacfc \\ubaa8\\ud638\\uc131 \\uc740 \\uc0c8\\ub85c\\uc6b4 \\uc774\\uc57c\\uae30\\ub85c \\ud30c\\uc0dd, \\ud655\\uc7a5\\ud560 \\uc218 \\uc788\\ub294 \\uac00\\ub2a5\\uc131\\uc774 \\ud06c\\uace0, \\uc6f9\\ud230 \\ud5a5\\uc720\\uce35 \\uc5d0\\uac8c \\ub514\\uc9c0\\ud138 \\uacf5\\uac04\\uc5d0\\uc11c \\uc6f9\\ud230\\uc73c\\ub85c \\uc7ac\\ucc3d\\uc870\\ud558\\uae30 \\uc801\\ud569\\ud55c \\uc694\\uc18c\\uc774\\ub2e4. \\uc774 \\ub17c\\ubb38\\uc5d0\\uc11c\\ub294 \\uc774\\ub7ec\\ud55c \\uad00\\uc810\\uc5d0\\uc11c \\ub3c4\\uae68\\ube44\\ub97c \\uc18c\\uc7ac\\ub85c \\ud55c \\uc6f9\\ud230 <\\ub3c4\\uae68\\ube44>, <\\ub3c4\\uae68\\ube44 \\ud6c8\\uc7a5>\\uc744 \\ub300\\uc0c1\\uc73c\\ub85c \\ub3c4\\uae68\\ube44 \\uc11c\\uc0ac\\uac00 \\uc6f9\\ud230\\uc5d0\\uc11c \\uc218\\uc6a9\\ub418\\uace0 \\ubcc0\\uc8fc\\ub418\\ub294 \\uc2a4\\ud1a0\\ub9ac\\ud154\\ub9c1 \\uc744 \\ubd84\\uc11d\\ud558\\uc600\\ub2e4. \\uc6f9\\ud230 <\\ub3c4\\uae68\\ube44>\\uc5d0\\ub294 \\ub3c4\\uae68\\ube44\\uac00 \\uc77c\\ubcf8\\uc758 \\uc624\\ub2c8\\uc640 \\ub300\\ub9bd\\ud558\\ub294 \\ubbfc\\uc871 \\uc8fc \\uccb4\\ub85c \\uc7ac\\ud604\\ub418\\uc5b4 \\ubbfc\\uc871\\uc758 \\uc804\\ud1b5\\uacfc \\uc5ed\\uc0ac\\uc801 \\uc2e4\\uccb4\\ub85c\\uc11c \\ub098\\ud0c0\\ub09c\\ub2e4. \\uc6f9\\ud230 <\\ub3c4\\uae68\\ube44 \\ud6c8\\uc7a5> \\uc5d0\\uc11c\\ub294 \\uc778\\uac04\\uacfc \\ub3c4\\uae68\\ube44\\uac00 \\ud604\\uc2e4 \\uc138\\uacc4\\uc5d0 \\uacf5\\uc874\\ud558\\uace0, \\uacfc\\uac70\\uc758 \\ube44\\ubc00\\uc744 \\ud0d0\\uc0c9\\ud558\\uba74\\uc11c \\uc11c \\ub85c \\uc774\\ud574\\ud558\\uace0 \\uc131\\uc7a5\\ud558\\ub294 \\uc2a4\\ud1a0\\ub9ac\\ud154\\ub9c1\\uc774 \\ub098\\ud0c0\\ub09c\\ub2e4. \\ub3c4\\uae68\\ube44 \\uc11c\\uc0ac\\ub294 \\uc6f9\\ud230\\uc5d0\\uc11c \\ub2e4\\uc591\\ud55c \\uc694\\uc18c\\uc640 \\uc735\\ud569\\ud558\\uc5ec \\uc0c8\\ub86d\\uac8c \\ubcc0\\uc8fc\\ub418\\uace0 \\uc788\\uc73c\\uba70, \\ud310\\ud0c0\\uc9c0 \\uc138\\uacc4\\uc5d0 \\ub300\\ud55c \\uc0c1\\uc0c1\\ub825\\uc774 \\uacb0\\ud569\\ud558\\uc5ec \\uc778\\uac04/\\ub3c4\\uae68\\ube44, \\ud604\\uc2e4/\\ube44\\ud604\\uc2e4\\uc758 \\uacbd\\uacc4\\ub97c \\ud574\\uccb4\\ud558\\ub294 \\uc2a4\\ud1a0\\ub9ac\\ud154\\ub9c1 \\ubc29\\uc2dd\\uc774 \\uc8fc\\ub85c \\ub098\\ud0c0\\ub098\\uace0 \\uc788\\ub2e4. \\uc774\\uac83\\uc740 \\uc6f9 \\uc138\\ub300\\uc758 \\ubb38\\ud654\\uc801 \\uac10 \\uc218\\uc131\\uc744 \\ubc14\\ud0d5\\uc73c\\ub85c \\ub3c4\\uae68\\ube44 \\uc11c\\uc0ac\\uac00 \\uc6f9\\ud230\\uc5d0\\uc11c \\ub2e4\\uc591\\ud55c \\ubc29\\uc2dd\\uc73c\\ub85c \\ud655\\uc7a5\\ub418\\ub294 \\uac83\\uc774\\ub77c \\ud560 \\uc218 \\uc788\\ub2e4.\",\n          \"\\ucf54\\ub85c\\ub098 19\\uc758 \\uc601\\ud5a5\\uc73c\\ub85c \\uc678\\ubd80\\ud65c\\ub3d9\\uc774 \\uc81c\\ud55c\\ub418\\uba74\\uc11c \\ub514\\uc9c0\\ud138 \\ucf58\\ud150\\uce20\\uc5d0 \\ub300\\ud55c \\uc18c\\ube44\\uac00 \\uc99d\\uac00\\ud558\\uace0 \\uc788\\ub2e4. \\uae30\\uc874 \\ubd88\\ubc95 \\ucf58\\ud150\\uce20 \\uc774\\uc6a9 \\ubc29\\ubc95\\uc778 \\ud1a0\\ub80c\\ud2b8, \\uc6f9\\ud558\\ub4dc\\uc5d0\\uc11c \\ucf58\\ud150\\uce20\\ub97c \\ub2e4\\uc6b4\\ub85c\\ub4dc \\ubc1b\\uc544 \\uc774\\uc6a9\\ud558\\uc600\\ub2e4\\uba74, \\ucd5c\\uadfc\\uc5d0\\ub294 \\ud074\\ub77c\\uc6b0\\ub4dc \\ud658\\uacbd\\uc758 \\uc6f9\\uc0ac\\uc774\\ud2b8\\ub97c \\uc774\\uc6a9\\ud558\\uc5ec \\uc2e4\\uc2dc\\uac04\\uc73c\\ub85c \\ubd88\\ubc95\\uc73c\\ub85c \\ucf58\\ud150\\uce20\\ub97c \\uc774\\uc6a9\\ud558\\uace0 \\uc788\\ub2e4. \\uc774\\uc5d0 \\ub300\\uc751\\ud558\\uae30 \\uc704\\ud574 \\uc720\\ud1b5\\ub418\\ub294 \\ucf58\\ud150\\uce20\\uc758 \\ubd88\\ubc95 \\uc5ec\\ubd80\\ub97c \\ud310\\ub2e8\\ud558\\uace0 \\uc0ac\\uc774\\ud2b8\\uc758 \\ubd88\\ubc95\\uc5ec\\ubd80\\ub97c \\uc870\\uae30\\uc5d0 \\ud310\\ub2e8\\ud560 \\uc218 \\uc788\\ub294 \\uc800\\uc791\\ubb3c \\uc2dc\\uadf8\\ub2c8\\ucc98 DB\\uac00 \\uad6c\\ucd95\\ub418\\uc5b4\\uc57c \\ud55c\\ub2e4. \\ubcf8 \\uc5f0\\uad6c\\uc5d0\\uc11c\\ub294 \\ud074\\ub77c\\uc6b0\\ub4dc \\uae30\\ubc18\\uc758 \\uc6d0\\uaca9\\uc9c0 \\uc800\\uc7a5\\uc7a5\\uce58\\ub85c\\ubd80\\ud130 \\uc11c\\ube44\\uc2a4\\ub418\\ub294 \\uc6f9\\ud230 \\ucf58\\ud150\\uce20\\uc5d0 \\ub300\\ud55c \\ubd88\\ubc95\\uc720\\ud1b5 \\uc5ec\\ubd80\\ub97c\\ud310\\ubcc4\\ud558\\uae30 \\uc704\\ud55c \\uc2dc\\uadf8\\ub2c8\\ucc98 \\uc815\\ubcf4 \\uc0dd\\uc131\\ubc29\\ubc95\\uc744 \\uc81c\\uc548\\ud55c\\ub2e4. \\uc6f9\\ud230 \\ucf58\\ud150\\uce20\\uc758 \\ubd88\\ubc95\\uc720\\ud1b5 \\uc5ec\\ubd80\\ub97c \\ud310\\ub2e8\\ud558\\uae30 \\uc704\\ud55c \\uc2dc\\uadf8\\ub2c8\\ucc98\\uc815\\ubcf4\\uc758 \\ucd94\\ucd9c\\ubaa9\\ub85d\\uc744 \\uc81c\\uc548\\ud558\\uace0 \\ub2e8\\uacc4\\ubcc4 \\uc2dc\\uadf8\\ub2c8\\ucc98\\ub97c \\ube44\\uad50 \\uac80\\uc0c9\\ud558\\uc600\\ub2e4.\",\n          \"\\uc774 \\uae00\\uc5d0\\uc11c\\ub294 \\uc6f9\\ud230 <\\ud328\\uc158\\uc655>(2011\\uff5e2013)\\uacfc \\uadf8\\ub97c \\uc601\\ud654\\ud654\\ud55c <\\ud328\\uc158\\uc655>(2014)\\uc744 \\uc911\\uc2ec\\uc73c\\ub85c \\uacbd\\uc7c1\\uc0ac\\ud68c\\uc5d0\\uc11c\\uc758 \\uccad\\uc18c\\ub144 \\ubb38\\ud654 \\ud2b9\\ud788 \\uac10\\uc815\\uc758 \\uc758\\ubbf8\\uad6c\\uc131\\uacfc \\uadf8 \\uc791\\ub3d9\\ubc29\\uc2dd\\uc5d0 \\ub300\\ud574 \\uace0\\ucc30\\ud558\\uace0\\uc790 \\ud588\\ub2e4. \\ud604\\ub300 \\ud55c\\uad6d\\uc0ac\\ud68c\\uc5d0\\uc11c \\uccad\\uc18c\\ub144\\uc740 \\ub300\\uccb4\\ub85c \\ub2e8\\uc77c\\ud55c \\uacbd\\uc7c1-\\ud559\\uc5c5 \\ubd84\\uc57c-\\uc744 \\uacf5\\ud1b5\\uc801\\uc73c\\ub85c \\uacaa\\uace0, \\uadf8 \\uacbd\\uc7c1\\uc758 \\uacb0\\uacfc\\ub294 \\uc704\\uacc4\\ud654\\u318d\\uc11c\\uc5f4\\ud654\\ub418\\uc5b4 \\ubd84\\uba85\\ud558\\uac8c \\ub4dc\\ub7ec\\ub09c\\ub2e4\\ub294 \\ud2b9\\uc9d5\\uc774 \\uc788\\ub2e4. \\uc774\\ub7f0 \\uacbd\\uc7c1 \\uad6c\\uc870\\uc5d0\\uc11c \\ub450\\ub4dc\\ub7ec\\uc9c0\\uac8c \\uc791\\ub3d9\\ud558\\ub294 \\uac10\\uc815\\uc740 \\uc2dc\\uae30\\uc2ec\\uc774\\ub2e4. \\uccad\\uc18c\\ub144 \\uc0ac\\uc774\\uc758 \\ud328\\uc158\\ub300\\uacb0\\uc744 \\uc8fc\\uc694 \\ub0b4\\uc6a9\\uc73c\\ub85c \\ud558\\uace0 \\uc788\\ub294 <\\ud328\\uc158\\uc655>(\\uc6f9\\ud230\\u318d\\uc601\\ud654)\\uc5d0\\uc11c \\ub4dc\\ub7ec\\ub09c \\uacbd\\uc7c1\\uad6c\\uc870\\uc640 \\uac10\\uc815\\uc758 \\uc758\\ubbf8\\ub294 \\ub2e4\\uc74c\\uacfc \\uac19\\ub2e4. \\uccab\\uc9f8, \\uccad\\uc18c\\ub144\\ub4e4\\uc740 \\uc81c\\ub3c4\\ud654\\ub41c \\uaddc\\uc728\\uc744 \\uc218\\uc6a9\\ud55c \\uac00\\uc6b4\\ub370 \\uc790\\uc720\\ub85c\\uc6b4 \\uacbd\\uc7c1\\uc774 \\ubd88\\uac00\\ub2a5\\ud55c \\uc0c1\\ud0dc\\uc5d0 \\ub193\\uc5ec \\uc788\\uc5c8\\ub2e4. \\ub458\\uc9f8, \\uccad\\uc18c\\ub144\\ub4e4\\uc758 \\uacbd\\uc7c1\\uc740 \\uad6c\\ubcc4\\uc9d3\\uae30\\uc640 \\uad00\\uacc4\\ub9fa\\uae30\\ub97c \\ub118\\ub098\\ub4dc\\ub294 \\ud2b9\\uc9d5\\uc744 \\ubcf4\\uc5ec\\uc8fc\\uc5c8\\uace0, \\uadf8\\ub4e4\\uc758 \\uc2dc\\uae30\\uc2ec\\uc5d0\\ub294 \\uc9c8\\ud22c\\uc640 \\uc120\\ub9dd\\uc774 \\ubcf5\\ud569\\uc801\\uc73c\\ub85c \\uc791\\uc6a9\\ud558\\uace0 \\uc788\\uc5c8\\ub2e4. \\uc14b\\uc9f8, \\uc790\\uae30\\uacc4\\ubc1c\\uc758 \\uae0d\\uc815\\uc801\\uc778 \\ud798\\uc73c\\ub85c \\uc2dc\\uae30\\uc2ec\\uc744 \\uc791\\ub3d9\\uc2dc\\ud0ac \\uac83\\uc744 \\uc694\\uad6c\\ud558\\ub294 \\uc0ac\\ud68c\\uc801 \\uc555\\ub825\\uc5d0 \\ub300\\ud574 <\\ud328\\uc158\\uc655>\\uc740 \\uadf8\\uac83\\uc774 \\ud658\\uc0c1\\uc77c \\uc218 \\uc788\\ub2e4\\ub294 \\ubb38\\uc81c\\uc758\\uc2dd\\uc744 \\uc77c\\uae68\\uc6cc\\uc8fc\\uc5c8\\ub2e4. \\ub137\\uc9f8, \\uadf8 \\ud574\\uacb0\\ucc45\\uc73c\\ub85c <\\ud328\\uc158\\uc655>\\uc740 \\uc790\\uae30\\uc138\\uacc4 \\ud639\\uc740 \\uc790\\uae30\\uc815\\uccb4\\uc131\\uc744 \\uc81c\\uc2dc\\ud558\\uc2dc\\ub9cc, \\uadf8 \\ub0b4\\uc6a9\\uc740 \\ubaa8\\ud638\\ud588\\ub2e4. \\uadf8\\ub7ec\\ub098 \\uc774 \\ubaa8\\ud638\\uc131\\uc740 \\uc0ac\\ud68c \\ud604\\uc2e4\\uc744 \\uc5ed\\uc124\\uc801\\uc73c\\ub85c \\ub4dc\\ub7ec\\ub0b8\\ub2e4\\ub294 \\uc810\\uc5d0\\uc11c \\uc758\\ubbf8\\uac00 \\uc788\\uc5c8\\ub2e4. \\uc989 \\ub2e8\\uc77c\\ud55c (\\uc131\\uc801) \\uacbd\\uc7c1\\uc744 \\uac15\\uc694\\ubc1b\\ub294 \\uccad\\uc18c\\ub144\\uc758 \\ud604\\uc2e4\\uc5d0\\uc11c \\uac1c\\uc778\\uc758 \\uc790\\uc720\\uacbd\\uc7c1 \\uc790\\uccb4\\uac00 \\ud5c8\\ub77d\\ub418\\uc9c0 \\uc54a\\uc73c\\uba70, \\uacbd\\uc7c1\\uc744 \\uc704\\ud55c \\uc2dc\\uae30\\uc2ec\\uc774 \\uc815\\ub2f9\\ud558\\ub2e4\\uace0 \\uac15\\uc870\\ud558\\ub294 \\ud604\\uc2e4 \\uc774\\uba74\\uc5d0\\ub294 \\uc790\\uae30\\uacc4\\ubc1c\\uc758 \\ud3ed\\ub825\\uc801 \\uc131\\uaca9\\uc774 \\uc788\\uc74c\\uc744 \\uc554\\uc2dc\\uc801\\uc73c\\ub85c \\ub4dc\\ub7ec\\ub0b4\\ub294 \\uac83\\uc774\\ub2e4. \\uacb0\\uad6d <\\ud328\\uc158\\uc655>\\uc744 \\uc77d\\uace0/\\ubcf4\\ub294 \\uc77c\\uc740 \\uacbd\\uc7c1\\uc0ac\\ud68c \\uc18d\\uc5d0\\uc11c \\uc2dc\\uae30\\uc2ec\\uc774 \\uad00\\ub9ac\\ub418\\uace0 \\uc788\\uc74c\\uc744 \\uc790\\uac01\\ud558\\uac8c \\ud574\\uc8fc\\uc5c8\\uace0, \\u2018\\uc2dc\\uae30\\u2019\\uc758 \\uc815\\uce58\\uc801\\uc774\\uace0\\ub3c4 \\ub3c4\\ub355\\uc801\\uc778 \\ud6a8\\uc6a9\\uac00\\uce58 \\uc989 \\uc8fc\\uccb4\\uc758 \\uac10\\uc815\\uc801 \\ubcc0\\ud601\\uc744 \\ub2e4\\uc2dc \\uc694\\uccad\\ud558\\uac8c \\ud558\\ub294 \\uac83\\uc774\\uc5c8\\ub2e4.\"\n        ],\n        \"semantic_type\": \"\",\n        \"description\": \"\"\n      }\n    },\n    {\n      \"column\": \"\\ubc1c\\ud589\\uae30\\uad00 ID\",\n      \"properties\": {\n        \"dtype\": \"category\",\n        \"num_unique_values\": 255,\n        \"samples\": [\n          \"INS000001418\",\n          \"INS000011690\",\n          \"INS000074281\"\n        ],\n        \"semantic_type\": \"\",\n        \"description\": \"\"\n      }\n    },\n    {\n      \"column\": \"\\ubc1c\\ud589\\uae30\\uad00\\uba85\",\n      \"properties\": {\n        \"dtype\": \"category\",\n        \"num_unique_values\": 245,\n        \"samples\": [\n          \"\\ud55c\\uad6d\\ube44\\uc988\\ub2c8\\uc2a4\\ud559\\ud68c\",\n          \"\\ud55c\\uad6d\\uc5f0\\uae30\\uc608\\uc220\\ud559\\ud68c\",\n          \"\\uacfc\\ud559\\uad50\\uc721\\uc5f0\\uad6c\\uc18c\"\n        ],\n        \"semantic_type\": \"\",\n        \"description\": \"\"\n      }\n    },\n    {\n      \"column\": \"\\ubc1c\\ud589\\uc5f0\\ub3c4\",\n      \"properties\": {\n        \"dtype\": \"number\",\n        \"std\": 3,\n        \"min\": 2003,\n        \"max\": 2023,\n        \"num_unique_values\": 20,\n        \"samples\": [\n          2023,\n          2006,\n          2008\n        ],\n        \"semantic_type\": \"\",\n        \"description\": \"\"\n      }\n    },\n    {\n      \"column\": \"\\ub300\\ubd84\\ub958\",\n      \"properties\": {\n        \"dtype\": \"category\",\n        \"num_unique_values\": 7,\n        \"samples\": [\n          \"\\uc0ac\\ud68c\\uacfc\\ud559\",\n          \"\\uc778\\ubb38\\ud559\",\n          \"\\uc758\\uc57d\\ud559\"\n        ],\n        \"semantic_type\": \"\",\n        \"description\": \"\"\n      }\n    },\n    {\n      \"column\": \"\\uc911\\ubd84\\ub958\",\n      \"properties\": {\n        \"dtype\": \"category\",\n        \"num_unique_values\": 49,\n        \"samples\": [\n          \"\\uc601\\ud654\",\n          \"\\ubb34\\uc6a9\",\n          \"\\uc815\\uce58\\uc678\\uad50\\ud559\"\n        ],\n        \"semantic_type\": \"\",\n        \"description\": \"\"\n      }\n    },\n    {\n      \"column\": \"\\uc885\\ubd84\\ub958\",\n      \"properties\": {\n        \"dtype\": \"category\",\n        \"num_unique_values\": 95,\n        \"samples\": [\n          \"\\uae30\\ud0c0\\uc2e0\\ubb38\\ubc29\\uc1a1\\ud559\",\n          \"\\uc815\\ubcf4\\ud1b5\\uc2e0\\uc2dc\\uc2a4\\ud15c\\ubc0f\\uc751\\uc6a9\",\n          \"\\uad11\\uace0/\\ud64d\\ubcf4\\ud559\"\n        ],\n        \"semantic_type\": \"\",\n        \"description\": \"\"\n      }\n    },\n    {\n      \"column\": \"URL\",\n      \"properties\": {\n        \"dtype\": \"string\",\n        \"num_unique_values\": 670,\n        \"samples\": [\n          \"https://www.kci.go.kr/kciportal/ci/sereArticleSearch/ciSereArtiView.kci?sereArticleSearchBean.artiId=ART002443399\",\n          \"https://www.kci.go.kr/kciportal/ci/sereArticleSearch/ciSereArtiView.kci?sereArticleSearchBean.artiId=ART002908083\",\n          \"https://www.kci.go.kr/kciportal/ci/sereArticleSearch/ciSereArtiView.kci?sereArticleSearchBean.artiId=ART002270420\"\n        ],\n        \"semantic_type\": \"\",\n        \"description\": \"\"\n      }\n    },\n    {\n      \"column\": \"KCI \\ub4f1\\uc7ac \\uad6c\\ubd84\",\n      \"properties\": {\n        \"dtype\": \"category\",\n        \"num_unique_values\": 4,\n        \"samples\": [\n          \"\\ub4f1\\uc7ac\\ud6c4\\ubcf4\",\n          \"\\ubbf8\\ub4f1\\uc7ac\",\n          \"\\ub4f1\\uc7ac\"\n        ],\n        \"semantic_type\": \"\",\n        \"description\": \"\"\n      }\n    }\n  ]\n}"
            }
          },
          "metadata": {},
          "execution_count": 5
        }
      ]
    },
    {
      "cell_type": "code",
      "source": [
        "# 컬럼 확인\n",
        "df.columns"
      ],
      "metadata": {
        "id": "cE61XFZmLZ9W",
        "colab": {
          "base_uri": "https://localhost:8080/"
        },
        "outputId": "e660a0ed-25e7-47c3-f3a3-45706346ab1d"
      },
      "execution_count": null,
      "outputs": [
        {
          "output_type": "execute_result",
          "data": {
            "text/plain": [
              "Index(['논문명', '논문 ID', '저자명', '주저자 소속기관', '학술지 ID', '학술지명', '저자키워드', '초록',\n",
              "       '발행기관 ID', '발행기관명', '발행연도', '대분류', '중분류', '종분류', 'URL', 'KCI 등재 구분'],\n",
              "      dtype='object')"
            ]
          },
          "metadata": {},
          "execution_count": 6
        }
      ]
    },
    {
      "cell_type": "code",
      "source": [
        "# 이미 키워드가 제공됨.\n",
        "df['저자키워드']"
      ],
      "metadata": {
        "id": "pIQkcKReMVU0",
        "colab": {
          "base_uri": "https://localhost:8080/"
        },
        "outputId": "992d8cbf-9731-432f-d467-a7524423ce3c"
      },
      "execution_count": null,
      "outputs": [
        {
          "output_type": "execute_result",
          "data": {
            "text/plain": [
              "0                   디지털 플랫폼, M&A, 디지털 콘텐츠, 카카오, 경제사회적 효과\n",
              "1                               웹툰, 섬네일, 이미지 분석, 콘텐츠, 한류\n",
              "2                   문화적 리터러시, 문화교육, 고전문학, 창세신화, <천지왕본풀이>\n",
              "3                                     만화/웹툰, 무배경, 참여적 사유\n",
              "4                         웹툰, 행위중독, 스마트폰 과의존, 이용동기, 감각추구\n",
              "                             ...                        \n",
              "665    인터넷, 기호, 소통, 디지털 서사, 인터넷 소설, 팬픽, 웹툰, 하이퍼텍스트 서사...\n",
              "666              위대한 캣츠비, 웹 만화, 스토리텔링, 웹 미디어의 특징, 서사적 층위\n",
              "667                                                  NaN\n",
              "668    메타데이터요소(Metadata Element), 디지털콘텐츠 유통기술(DRM), 디...\n",
              "669                             DRM, 만화 콘텐츠, 유통 모델, 시나리오\n",
              "Name: 저자키워드, Length: 670, dtype: object"
            ]
          },
          "metadata": {},
          "execution_count": 7
        }
      ]
    },
    {
      "cell_type": "code",
      "source": [
        "# 키워드 빈칸 삭제\n",
        "df = df.dropna(subset='저자키워드').reset_index(drop=True)"
      ],
      "metadata": {
        "id": "TAWfLMFSNSMB"
      },
      "execution_count": null,
      "outputs": []
    },
    {
      "cell_type": "code",
      "source": [
        "# 키워드 컬럼 string -> list\n",
        "df['token'] = df['저자키워드'].str.split(',')\n",
        "df['token']"
      ],
      "metadata": {
        "id": "2fozf0dbMshW",
        "colab": {
          "base_uri": "https://localhost:8080/"
        },
        "outputId": "98738caf-2203-46ca-fae6-f1b0c9f64342"
      },
      "execution_count": null,
      "outputs": [
        {
          "output_type": "execute_result",
          "data": {
            "text/plain": [
              "0             [디지털 플랫폼,  M&A,  디지털 콘텐츠,  카카오,  경제사회적 효과]\n",
              "1                         [웹툰,  섬네일,  이미지 분석,  콘텐츠,  한류]\n",
              "2             [문화적 리터러시,  문화교육,  고전문학,  창세신화,  <천지왕본풀이>]\n",
              "3                                 [만화/웹툰,  무배경,  참여적 사유]\n",
              "4                   [웹툰,  행위중독,  스마트폰 과의존,  이용동기,  감각추구]\n",
              "                             ...                        \n",
              "663                                   [만화,  만화산업,  만화정책]\n",
              "664    [인터넷,  기호,  소통,  디지털 서사,  인터넷 소설,  팬픽,  웹툰,  하...\n",
              "665        [위대한 캣츠비,  웹 만화,  스토리텔링,  웹 미디어의 특징,  서사적 층위]\n",
              "666    [메타데이터요소(Metadata Element),  디지털콘텐츠 유통기술(DRM),...\n",
              "667                        [DRM,  만화 콘텐츠,  유통 모델,  시나리오]\n",
              "Name: token, Length: 668, dtype: object"
            ]
          },
          "metadata": {},
          "execution_count": 9
        }
      ]
    },
    {
      "cell_type": "code",
      "source": [],
      "metadata": {
        "id": "PAc48a0g7n8b"
      },
      "execution_count": null,
      "outputs": []
    },
    {
      "cell_type": "code",
      "source": [
        "# 이미 키워드가 제공됨.\n",
        "df['초록']"
      ],
      "metadata": {
        "colab": {
          "base_uri": "https://localhost:8080/"
        },
        "outputId": "32492fd1-1234-497e-fe4e-51fa7b23d11c",
        "id": "xhVhsyPB7o9a"
      },
      "execution_count": null,
      "outputs": [
        {
          "output_type": "execute_result",
          "data": {
            "text/plain": [
              "0      본 연구는 카카오엔터테인먼트의 M&A 전략을 사례로 분석하여, 디지털 플랫폼 기업 ...\n",
              "1      최근 한국의 웹툰은 원천 지식재산이자 한류 콘텐츠로서 급부상하며 산업적 가치가 높아...\n",
              "2      본고는 고전문학 텍스트를 활용한 문화적 리터러시 교육의 실현 방안을 탐색하는 데 목...\n",
              "3      본고는 만화/웹툰 이미지를 분석하는 데에 있어서, 배경이 묘사되어 있는가 없는가 하...\n",
              "4      본 연구에서는 코로나19이후 증가된 웹툰 이용에 있어서 과의존 및 중독적 경향에 관...\n",
              "                             ...                        \n",
              "665    인터넷 언어 문화 교육 내용으로서디지털 서사의 개념특성유형에 관한 연구정현선본고는 ...\n",
              "666    웹 만화 위대한 캣츠비는 웹의 매체를 이용한 서정성 획득, 3중 구조에 따른 서사적...\n",
              "667    디지털 기술의 발전은 사회문화 전반에 큰 파장을 일으키며 디지털 컨텐츠 산업을 빠른...\n",
              "668    디지털콘텐츠 서비스 유형이 다양해지면서 콘텐츠 유통에 참여하는 주체들(저작자, 가공...\n",
              "669    현재 디지털 만화 컨텐츠의 온라인상에서의 유통은 불법유통 및 저작권 보호체계의 미비...\n",
              "Name: 초록, Length: 670, dtype: object"
            ]
          },
          "metadata": {},
          "execution_count": 28
        }
      ]
    },
    {
      "cell_type": "code",
      "source": [
        "# 키워드 빈칸 삭제\n",
        "df = df.dropna(subset='초록').reset_index(drop=True)"
      ],
      "metadata": {
        "id": "7oTz3bLo7o9c"
      },
      "execution_count": null,
      "outputs": []
    },
    {
      "cell_type": "code",
      "source": [
        "# 키워드 컬럼 string -> list\n",
        "df['token'] = df[{('키워드'), ('초록')}].str.split(',')\n",
        "df['token']"
      ],
      "metadata": {
        "colab": {
          "base_uri": "https://localhost:8080/",
          "height": 356
        },
        "outputId": "a465eb4a-4458-4f48-8dc3-881c91e80d74",
        "id": "m9VcVTOd7o9d"
      },
      "execution_count": null,
      "outputs": [
        {
          "output_type": "error",
          "ename": "TypeError",
          "evalue": "Passing a set as an indexer is not supported. Use a list instead.",
          "traceback": [
            "\u001b[0;31m---------------------------------------------------------------------------\u001b[0m",
            "\u001b[0;31mTypeError\u001b[0m                                 Traceback (most recent call last)",
            "\u001b[0;32m<ipython-input-32-86e1b52c0cca>\u001b[0m in \u001b[0;36m<cell line: 2>\u001b[0;34m()\u001b[0m\n\u001b[1;32m      1\u001b[0m \u001b[0;31m# 키워드 컬럼 string -> list\u001b[0m\u001b[0;34m\u001b[0m\u001b[0;34m\u001b[0m\u001b[0m\n\u001b[0;32m----> 2\u001b[0;31m \u001b[0mdf\u001b[0m\u001b[0;34m[\u001b[0m\u001b[0;34m'token'\u001b[0m\u001b[0;34m]\u001b[0m \u001b[0;34m=\u001b[0m \u001b[0mdf\u001b[0m\u001b[0;34m[\u001b[0m\u001b[0;34m{\u001b[0m\u001b[0;34m(\u001b[0m\u001b[0;34m'키워드'\u001b[0m\u001b[0;34m)\u001b[0m\u001b[0;34m,\u001b[0m \u001b[0;34m(\u001b[0m\u001b[0;34m'초록'\u001b[0m\u001b[0;34m)\u001b[0m\u001b[0;34m}\u001b[0m\u001b[0;34m]\u001b[0m\u001b[0;34m.\u001b[0m\u001b[0mstr\u001b[0m\u001b[0;34m.\u001b[0m\u001b[0msplit\u001b[0m\u001b[0;34m(\u001b[0m\u001b[0;34m','\u001b[0m\u001b[0;34m)\u001b[0m\u001b[0;34m\u001b[0m\u001b[0;34m\u001b[0m\u001b[0m\n\u001b[0m\u001b[1;32m      3\u001b[0m \u001b[0mdf\u001b[0m\u001b[0;34m[\u001b[0m\u001b[0;34m'token'\u001b[0m\u001b[0;34m]\u001b[0m\u001b[0;34m\u001b[0m\u001b[0;34m\u001b[0m\u001b[0m\n",
            "\u001b[0;32m/usr/local/lib/python3.10/dist-packages/pandas/core/frame.py\u001b[0m in \u001b[0;36m__getitem__\u001b[0;34m(self, key)\u001b[0m\n\u001b[1;32m   3712\u001b[0m \u001b[0;34m\u001b[0m\u001b[0m\n\u001b[1;32m   3713\u001b[0m     \u001b[0;32mdef\u001b[0m \u001b[0m__getitem__\u001b[0m\u001b[0;34m(\u001b[0m\u001b[0mself\u001b[0m\u001b[0;34m,\u001b[0m \u001b[0mkey\u001b[0m\u001b[0;34m)\u001b[0m\u001b[0;34m:\u001b[0m\u001b[0;34m\u001b[0m\u001b[0;34m\u001b[0m\u001b[0m\n\u001b[0;32m-> 3714\u001b[0;31m         \u001b[0mcheck_dict_or_set_indexers\u001b[0m\u001b[0;34m(\u001b[0m\u001b[0mkey\u001b[0m\u001b[0;34m)\u001b[0m\u001b[0;34m\u001b[0m\u001b[0;34m\u001b[0m\u001b[0m\n\u001b[0m\u001b[1;32m   3715\u001b[0m         \u001b[0mkey\u001b[0m \u001b[0;34m=\u001b[0m \u001b[0mlib\u001b[0m\u001b[0;34m.\u001b[0m\u001b[0mitem_from_zerodim\u001b[0m\u001b[0;34m(\u001b[0m\u001b[0mkey\u001b[0m\u001b[0;34m)\u001b[0m\u001b[0;34m\u001b[0m\u001b[0;34m\u001b[0m\u001b[0m\n\u001b[1;32m   3716\u001b[0m         \u001b[0mkey\u001b[0m \u001b[0;34m=\u001b[0m \u001b[0mcom\u001b[0m\u001b[0;34m.\u001b[0m\u001b[0mapply_if_callable\u001b[0m\u001b[0;34m(\u001b[0m\u001b[0mkey\u001b[0m\u001b[0;34m,\u001b[0m \u001b[0mself\u001b[0m\u001b[0;34m)\u001b[0m\u001b[0;34m\u001b[0m\u001b[0;34m\u001b[0m\u001b[0m\n",
            "\u001b[0;32m/usr/local/lib/python3.10/dist-packages/pandas/core/indexing.py\u001b[0m in \u001b[0;36mcheck_dict_or_set_indexers\u001b[0;34m(key)\u001b[0m\n\u001b[1;32m   2616\u001b[0m         \u001b[0;32mand\u001b[0m \u001b[0many\u001b[0m\u001b[0;34m(\u001b[0m\u001b[0misinstance\u001b[0m\u001b[0;34m(\u001b[0m\u001b[0mx\u001b[0m\u001b[0;34m,\u001b[0m \u001b[0mset\u001b[0m\u001b[0;34m)\u001b[0m \u001b[0;32mfor\u001b[0m \u001b[0mx\u001b[0m \u001b[0;32min\u001b[0m \u001b[0mkey\u001b[0m\u001b[0;34m)\u001b[0m\u001b[0;34m\u001b[0m\u001b[0;34m\u001b[0m\u001b[0m\n\u001b[1;32m   2617\u001b[0m     ):\n\u001b[0;32m-> 2618\u001b[0;31m         raise TypeError(\n\u001b[0m\u001b[1;32m   2619\u001b[0m             \u001b[0;34m\"Passing a set as an indexer is not supported. Use a list instead.\"\u001b[0m\u001b[0;34m\u001b[0m\u001b[0;34m\u001b[0m\u001b[0m\n\u001b[1;32m   2620\u001b[0m         )\n",
            "\u001b[0;31mTypeError\u001b[0m: Passing a set as an indexer is not supported. Use a list instead."
          ]
        }
      ]
    },
    {
      "cell_type": "code",
      "source": [
        "df['token'] = df['저자키워드'].str.split(',')"
      ],
      "metadata": {
        "id": "ocFuNTLBnqiK"
      },
      "execution_count": null,
      "outputs": []
    },
    {
      "cell_type": "code",
      "source": [
        "# 제외할 키워드 목록\n",
        "exclude_keywords = {'Webtoon(웹툰)', '디지털 만화', '웹 코믹스', '인터넷 만화', '온라인 만화''웹툰', '웹만화', '디지털만화', '웹코믹스', '인터넷만화', '온라인만화', 'webtoon', '만화', 'Webtoon'}"
      ],
      "metadata": {
        "id": "6IQ3t-oqfg9d"
      },
      "execution_count": null,
      "outputs": []
    },
    {
      "cell_type": "code",
      "source": [
        "def replace_spaces_with_hyphens(저자키워드):\n",
        "  \"\"\"\n",
        "  저자키워드 리스트에서 공백을 하이픈으로 바꿔줍니다.\n",
        "\n",
        "  Args:\n",
        "    저자키워드: 저자키워드 문자열 리스트\n",
        "\n",
        "  Returns:\n",
        "    공백이 하이픈으로 대체된 문자열 리스트\n",
        "  \"\"\"\n",
        "\n",
        "  업데이트된_키워드 = []\n",
        "  for 키워드 in 저자키워드:\n",
        "    업데이트된_키워드.append(키워드.replace(\" \", \"-\"))\n",
        "  return 업데이트된_키워드\n",
        "\n",
        "# 예시\n",
        "저자키워드 = [\"기계 학습\", \"자연어 처리\", \"심층 학습\"]\n",
        "업데이트된_키워드 = replace_spaces_with_hyphens(저자키워드)\n",
        "print(업데이트된_키워드)"
      ],
      "metadata": {
        "colab": {
          "base_uri": "https://localhost:8080/"
        },
        "id": "SNQMwkHmxd5l",
        "outputId": "f1361a4c-a97b-479c-b539-dee158878e90"
      },
      "execution_count": null,
      "outputs": [
        {
          "output_type": "stream",
          "name": "stdout",
          "text": [
            "['기계-학습', '자연어-처리', '심층-학습']\n"
          ]
        }
      ]
    },
    {
      "cell_type": "code",
      "source": [
        "# 키워드 리스트에서 제외할 키워드 제거\n",
        "df['token'] = df['token'].apply(lambda tokens: [token.strip() for token in tokens if token.strip() not in exclude_keywords])"
      ],
      "metadata": {
        "id": "QstSoVK_fl_0"
      },
      "execution_count": null,
      "outputs": []
    },
    {
      "cell_type": "markdown",
      "metadata": {
        "id": "2SMKhkvZ5aZJ"
      },
      "source": [
        "### 1. LDA\n",
        "\"청년 담론 분석\"  \n",
        "https://bab2min.github.io/tomotopy"
      ]
    },
    {
      "cell_type": "markdown",
      "metadata": {
        "id": "_rhNLzOG5x2O"
      },
      "source": [
        "##### 모델 초기화"
      ]
    },
    {
      "cell_type": "code",
      "metadata": {
        "id": "n0bZwaTN5cXb"
      },
      "source": [
        "# 일반 LDA. 파라미터가 중요한데 k값이 토픽의 개수로, 토픽 개수를 정하는 기준도 있음.\n",
        "# 토픽 개수에 따라 결과 차이가 큼. tw는 단어의 경중을 따지는 것으로, pmi는 단순빈도보다 중요\n",
        "# nn_top은 상위 몇개를 지울 것인지. '웹툰'으로 하면 '웹툰'이 1위이기 때문에 지우는 방식임.\n",
        "LDA = tp.LDAModel(k=9,min_df=3,tw=tp.TermWeight.PMI,rm_top=3, seed=2022) # Hyperparameter 숙지 필수"
      ],
      "execution_count": null,
      "outputs": []
    },
    {
      "cell_type": "markdown",
      "metadata": {
        "id": "7147G-Ia52in"
      },
      "source": [
        "##### 빈 모델에 토큰 리스트 넣어주기"
      ]
    },
    {
      "cell_type": "code",
      "metadata": {
        "id": "k9iRlDKI5kf2",
        "colab": {
          "base_uri": "https://localhost:8080/",
          "height": 49,
          "referenced_widgets": [
            "9faffd10d274462eb336f61a1f3e43e4",
            "c892b2df903a4b8abd8d2a5d65913a12",
            "0476382c0bbd4a60b54f0381ede9c244",
            "27b8fa29e65340b99b0d74feaeb5ac7e",
            "278678bf65cb4ae4951b3248d846c9f3",
            "517073c2cb44462d839ee3d3d621631a",
            "d46b2da1402448e686a446249b571498",
            "b5d087bb7265438fb763e2d69ea37667",
            "958758ca167746e0ad4058306ae897d0",
            "4e96d79d9b794fc9a200154abb48bbed",
            "6ff4723562f04a8491cb28b57ac10ed9"
          ]
        },
        "outputId": "73ff2d11-9ccf-495a-b28f-fe8fe298e213"
      },
      "source": [
        "for token in tqdm(df['token'].tolist()):\n",
        "    LDA.add_doc(token)"
      ],
      "execution_count": null,
      "outputs": [
        {
          "output_type": "display_data",
          "data": {
            "text/plain": [
              "  0%|          | 0/668 [00:00<?, ?it/s]"
            ],
            "application/vnd.jupyter.widget-view+json": {
              "version_major": 2,
              "version_minor": 0,
              "model_id": "9faffd10d274462eb336f61a1f3e43e4"
            }
          },
          "metadata": {}
        }
      ]
    },
    {
      "cell_type": "markdown",
      "metadata": {
        "id": "33pSfG1b6PVm"
      },
      "source": [
        "##### 모델 학습"
      ]
    },
    {
      "cell_type": "code",
      "metadata": {
        "id": "WIIbt7Rd6Lpx",
        "colab": {
          "base_uri": "https://localhost:8080/"
        },
        "outputId": "ef4d91c6-7c66-41a7-cc39-a214312c56f8"
      },
      "source": [
        "# 학습 준비\n",
        "LDA.train(0)"
      ],
      "execution_count": null,
      "outputs": [
        {
          "output_type": "stream",
          "name": "stderr",
          "text": [
            "<ipython-input-86-f63eeebc9d98>:2: RuntimeWarning: The training result may differ even with fixed seed if `workers` != 1.\n",
            "  LDA.train(0)\n"
          ]
        }
      ]
    },
    {
      "cell_type": "code",
      "metadata": {
        "id": "AqbaOx906TmO",
        "colab": {
          "base_uri": "https://localhost:8080/"
        },
        "outputId": "9627ff4b-5d53-4bbc-c1d1-6c3b741fdfd0"
      },
      "source": [
        "# 한번에 20회씩 총 500회 학습\n",
        "print('Num docs:', len(LDA.docs), ', Vocab size:', LDA.num_vocabs, ', Num words:', LDA.num_words)\n",
        "print('Removed top words:', LDA.removed_top_words)\n",
        "print('Training...', file=sys.stderr, flush=True)\n",
        "for i in range(0, 500, 20):\n",
        "    LDA.train(20)\n",
        "    print('Iteration: {}\\tLog-likelihood: {}'.format(i, LDA.ll_per_word))"
      ],
      "execution_count": null,
      "outputs": [
        {
          "output_type": "stream",
          "name": "stderr",
          "text": [
            "Training...\n"
          ]
        },
        {
          "output_type": "stream",
          "name": "stdout",
          "text": [
            "Num docs: 668 , Vocab size: 126 , Num words: 556\n",
            "Removed top words: ['웹툰', '스토리텔링', '문화콘텐츠']\n",
            "Iteration: 0\tLog-likelihood: -3.605147834186558\n",
            "Iteration: 20\tLog-likelihood: -3.5606693290203206\n",
            "Iteration: 40\tLog-likelihood: -3.5600007054451965\n",
            "Iteration: 60\tLog-likelihood: -3.546828067608281\n",
            "Iteration: 80\tLog-likelihood: -3.537208422625207\n",
            "Iteration: 100\tLog-likelihood: -3.5218890803991707\n",
            "Iteration: 120\tLog-likelihood: -3.524637235852881\n",
            "Iteration: 140\tLog-likelihood: -3.502767705964891\n",
            "Iteration: 160\tLog-likelihood: -3.5155493116583023\n",
            "Iteration: 180\tLog-likelihood: -3.5161125016064068\n",
            "Iteration: 200\tLog-likelihood: -3.511879254093859\n",
            "Iteration: 220\tLog-likelihood: -3.498910466563405\n",
            "Iteration: 240\tLog-likelihood: -3.491595131553789\n",
            "Iteration: 260\tLog-likelihood: -3.5162825252962504\n",
            "Iteration: 280\tLog-likelihood: -3.5274662518948885\n",
            "Iteration: 300\tLog-likelihood: -3.511146886465495\n"
          ]
        },
        {
          "output_type": "stream",
          "name": "stderr",
          "text": [
            "<ipython-input-87-2cacfe4b8176>:6: RuntimeWarning: The training result may differ even with fixed seed if `workers` != 1.\n",
            "  LDA.train(20)\n"
          ]
        },
        {
          "output_type": "stream",
          "name": "stdout",
          "text": [
            "Iteration: 320\tLog-likelihood: -3.511652194147764\n",
            "Iteration: 340\tLog-likelihood: -3.485468811980037\n",
            "Iteration: 360\tLog-likelihood: -3.482839505791876\n",
            "Iteration: 380\tLog-likelihood: -3.513241759992108\n",
            "Iteration: 400\tLog-likelihood: -3.4764534210892535\n",
            "Iteration: 420\tLog-likelihood: -3.500317083603654\n",
            "Iteration: 440\tLog-likelihood: -3.4791767531631046\n",
            "Iteration: 460\tLog-likelihood: -3.5028988449798657\n",
            "Iteration: 480\tLog-likelihood: -3.4883297287182717\n"
          ]
        }
      ]
    },
    {
      "cell_type": "code",
      "metadata": {
        "id": "ongHkC-M9N2O",
        "colab": {
          "base_uri": "https://localhost:8080/"
        },
        "outputId": "9d78f7c0-d125-434e-bdaf-163b164c027a"
      },
      "source": [
        "# 학습 결과\n",
        "LDA.summary()"
      ],
      "execution_count": null,
      "outputs": [
        {
          "output_type": "stream",
          "name": "stdout",
          "text": [
            "<Basic Info>\n",
            "| LDAModel (current version: 0.12.7)\n",
            "| 668 docs, 556 words\n",
            "| Total Vocabs: 2503, Used Vocabs: 126\n",
            "| Entropy of words: 4.70823\n",
            "| Entropy of term-weighted words: 4.76416\n",
            "| Removed Vocabs: 웹툰 스토리텔링 문화콘텐츠\n",
            "|\n",
            "<Training Info>\n",
            "| Iterations: 500, Burn-in steps: 0\n",
            "| Optimization Interval: 10\n",
            "| Log-likelihood per word: -3.48833\n",
            "|\n",
            "<Initial Parameters>\n",
            "| tw: TermWeight.PMI\n",
            "| min_cf: 0 (minimum collection frequency of words)\n",
            "| min_df: 3 (minimum document frequency of words)\n",
            "| rm_top: 3 (the number of top words to be removed)\n",
            "| k: 9 (the number of topics between 1 ~ 32767)\n",
            "| alpha: [0.1] (hyperparameter of Dirichlet distribution for document-topic, given as a single `float` in case of symmetric prior and as a list with length `k` of `float` in case of asymmetric prior.)\n",
            "| eta: 0.01 (hyperparameter of Dirichlet distribution for topic-word)\n",
            "| seed: 2022 (random seed)\n",
            "| trained in version 0.12.7\n",
            "|\n",
            "<Parameters>\n",
            "| alpha (Dirichlet prior on the per-document topic distributions)\n",
            "|  [0.0097097  0.00430189 0.00574076 0.0058817  0.00848412 0.00804915\n",
            "|   0.00677309 0.0041694  0.00637208]\n",
            "| eta (Dirichlet prior on the per-topic word distribution)\n",
            "|  0.01\n",
            "|\n",
            "<Topics>\n",
            "| #0 (98) : 캐릭터 OSMU 신과 함께 매체전환 트랜스미디어\n",
            "| #1 (30) : 만화산업 웹툰교육 모바일 웹툰 작가 만화교육\n",
            "| #2 (57) : 트랜스미디어 스토리텔링 가상현실 세계관 인터랙션 애니메이션\n",
            "| #3 (46) : 상호작용성 환상성 공존 매체 전환 문화소\n",
            "| #4 (80) : 웹소설 플랫폼 콘텐츠 번역 한류\n",
            "| #5 (85) : 일상툰 재매개 인스타툰 세로 스크롤 독자\n",
            "| #6 (73) : 서사 재매개 미생 신과함께 공간\n",
            "| #7 (40) : 브랜드 웹툰 브랜드웹툰 제품유형 광고 브랜디드 콘텐츠\n",
            "| #8 (47) : 웹툰 플랫폼 좀비 상호텍스트성 미디어 전자책\n",
            "|\n",
            "\n"
          ]
        }
      ]
    },
    {
      "cell_type": "markdown",
      "metadata": {
        "id": "on2hEXTd6dba"
      },
      "source": [
        "##### 토픽별 TopN 단어 확인"
      ]
    },
    {
      "cell_type": "code",
      "metadata": {
        "id": "-s6vXGjO6sW6",
        "colab": {
          "base_uri": "https://localhost:8080/"
        },
        "outputId": "67df9b39-b20e-4282-b7e6-df29ed5361f8"
      },
      "source": [
        "for i in range(LDA.k):\n",
        "    res = LDA.get_topic_words(i, top_n=6) # top 10\n",
        "    print('Topic #{}'.format(i), end='\\t')\n",
        "    print(', '.join(w for w, p in res))"
      ],
      "execution_count": null,
      "outputs": [
        {
          "output_type": "stream",
          "name": "stdout",
          "text": [
            "Topic #0\t캐릭터, OSMU, 신과 함께, 매체전환, 트랜스미디어, 영화\n",
            "Topic #1\t만화산업, 웹툰교육, 모바일, 웹툰 작가, 만화교육, 사용자 경험\n",
            "Topic #2\t트랜스미디어 스토리텔링, 가상현실, 세계관, 인터랙션, 애니메이션, OTT\n",
            "Topic #3\t상호작용성, 환상성, 공존, 매체 전환, 문화소, 고전문학\n",
            "Topic #4\t웹소설, 플랫폼, 콘텐츠, 번역, 한류, 웹툰산업\n",
            "Topic #5\t일상툰, 재매개, 인스타툰, 세로 스크롤, 독자, 매체\n",
            "Topic #6\t서사, 재매개, 미생, 신과함께, 공간, 비매개\n",
            "Topic #7\t브랜드 웹툰, 브랜드웹툰, 제품유형, 광고, 브랜디드 콘텐츠, 구매의도\n",
            "Topic #8\t웹툰 플랫폼, 좀비, 상호텍스트성, 미디어, 전자책, 학원물\n"
          ]
        }
      ]
    },
    {
      "cell_type": "markdown",
      "metadata": {
        "id": "_5b7yoWt7h5q"
      },
      "source": [
        "##### 토픽 이름 자동으로 붙이기 (참고용)"
      ]
    },
    {
      "cell_type": "code",
      "metadata": {
        "id": "7R12bmUK7mOE",
        "colab": {
          "base_uri": "https://localhost:8080/"
        },
        "outputId": "e7e1e97b-2881-46e6-ce7e-3fac87d0de17"
      },
      "source": [
        "# extract candidates for auto topic labeling\n",
        "extractor = tp.label.PMIExtractor(min_cf=10, min_df=10, max_len=5, max_cand=10000)\n",
        "cands = extractor.extract(LDA)\n",
        "\n",
        "labeler = tp.label.FoRelevance(LDA, cands, min_df=10, smoothing=1e-2, mu=0.25)\n",
        "for k in range(LDA.k):\n",
        "    print(\"== Topic #{} ==\".format(k))\n",
        "    print(\"Labels:\", ', '.join(label for label, score in labeler.get_topic_labels(k, top_n=5)))\n",
        "    for word, prob in LDA.get_topic_words(k, top_n=10):\n",
        "        print(word, prob, sep='\\t')\n",
        "    print()"
      ],
      "execution_count": null,
      "outputs": [
        {
          "output_type": "stream",
          "name": "stdout",
          "text": [
            "== Topic #0 ==\n",
            "Labels: 문화콘텐츠, 캐릭터, 스토리텔링, 신과 함께, OSMU\n",
            "서사\t0.3144398033618927\n",
            "바리공주\t0.2863622009754181\n",
            "강풀\t0.20313586294651031\n",
            "문화콘텐츠\t0.1901099979877472\n",
            "OSMU\t0.00010451095295138657\n",
            "가상현실\t0.00010443626524647698\n",
            "웹툰 작가\t0.00010443128121551126\n",
            "웹툰산업\t0.00010443128121551126\n",
            "세로 스크롤\t0.00010442630446050316\n",
            "트랜스미디어\t0.00010442630446050316\n",
            "\n",
            "== Topic #1 ==\n",
            "Labels: 콘텐츠, 트랜스미디어, 캐릭터, 재매개, OSMU\n",
            "콘텐츠\t0.3021845519542694\n",
            "플랫폼\t0.20878010988235474\n",
            "한류\t0.1570514440536499\n",
            "웹툰산업\t0.1482982337474823\n",
            "전자책\t0.14275729656219482\n",
            "네이버\t0.03692949563264847\n",
            "OSMU\t7.28793311282061e-05\n",
            "브랜드 웹툰\t7.271639333339408e-05\n",
            "가상현실\t7.271292997756973e-05\n",
            "트랜스미디어\t7.270945934578776e-05\n",
            "\n",
            "== Topic #2 ==\n",
            "Labels: 일상툰, 스토리텔링, 콘텐츠, 신과 함께, 웹소설\n",
            "일상툰\t0.1953059732913971\n",
            "좀비\t0.175524041056633\n",
            "대중문화\t0.16979925334453583\n",
            "인스타툰\t0.15826568007469177\n",
            "웹툰 작가\t0.15204398334026337\n",
            "매체\t0.1449839025735855\n",
            "콘텐츠\t7.418711174977943e-05\n",
            "문화콘텐츠\t7.415530126309022e-05\n",
            "공감\t7.413762796204537e-05\n",
            "가상현실\t7.413409184664488e-05\n",
            "\n",
            "== Topic #3 ==\n",
            "Labels: 재매개, 트랜스미디어 스토리텔링, 문화콘텐츠, 콘텐츠, 웹소설\n",
            "재매개\t0.28673699498176575\n",
            "하이퍼매개\t0.19692128896713257\n",
            "비매개\t0.19692128896713257\n",
            "웹드라마\t0.18943308293819427\n",
            "미생\t0.09080658853054047\n",
            "문화콘텐츠\t0.03395722433924675\n",
            "일상툰\t9.499578300165012e-05\n",
            "콘텐츠\t9.498219878878444e-05\n",
            "신과 함께\t9.497767314314842e-05\n",
            "드라마\t9.497767314314842e-05\n",
            "\n",
            "== Topic #4 ==\n",
            "Labels: 스토리텔링, 문화콘텐츠, 신과 함께, 캐릭터, OSMU\n",
            "신과 함께\t0.16603972017765045\n",
            "스토리텔링\t0.16008399426937103\n",
            "문화콘텐츠\t0.1553053855895996\n",
            "매체 전환\t0.10777277499437332\n",
            "상호작용성\t0.09108134359121323\n",
            "신과함께\t0.0884547159075737\n",
            "환상성\t0.07769494503736496\n",
            "공존\t0.07634337246417999\n",
            "일상성\t0.07525322586297989\n",
            "일상툰\t3.796071541728452e-05\n",
            "\n",
            "== Topic #5 ==\n",
            "Labels: 콘텐츠, 문화콘텐츠, 신과 함께, 웹소설, 일상툰\n",
            "웹툰 플랫폼\t0.37572982907295227\n",
            "미디어\t0.2340121865272522\n",
            "학원물\t0.23087190091609955\n",
            "브랜드 웹툰\t0.15280340611934662\n",
            "웹소설\t0.00011563904990907758\n",
            "스토리텔링\t0.00011558949336176738\n",
            "트랜스미디어 스토리텔링\t0.0001155123973148875\n",
            "웹드라마\t0.0001154958808911033\n",
            "네이버\t0.00011549037299118936\n",
            "상호텍스트성\t0.00011549037299118936\n",
            "\n",
            "== Topic #6 ==\n",
            "Labels: OSMU, 트랜스미디어, 캐릭터, 트랜스미디어 스토리텔링, 신과 함께\n",
            "OSMU\t0.2737986147403717\n",
            "웹툰교육\t0.18514607846736908\n",
            "만화산업\t0.1813296228647232\n",
            "IP\t0.17575128376483917\n",
            "트랜스미디어\t0.10644711554050446\n",
            "플랫폼\t0.07282382249832153\n",
            "재매개\t8.555578824598342e-05\n",
            "일상툰\t8.555578824598342e-05\n",
            "공감\t8.554763189749792e-05\n",
            "콘텐츠\t8.552724466426298e-05\n",
            "\n",
            "== Topic #7 ==\n",
            "Labels: 트랜스미디어, 스토리텔링, 캐릭터, 재매개, 일상툰\n",
            "가상현실\t0.15554161369800568\n",
            "매체전환\t0.13162435591220856\n",
            "영화\t0.12469903379678726\n",
            "일상툰\t0.0932941660284996\n",
            "독자\t0.0901857390999794\n",
            "변용\t0.0893462672829628\n",
            "스토리텔링\t0.08832622319459915\n",
            "트랜스미디어\t0.0786474421620369\n",
            "캐릭터\t0.07786504179239273\n",
            "재매개\t0.06812183558940887\n",
            "\n",
            "== Topic #8 ==\n",
            "Labels: 트랜스미디어 스토리텔링, 캐릭터, OSMU, 트랜스미디어, 콘텐츠\n",
            "트랜스미디어 스토리텔링\t0.21615570783615112\n",
            "캐릭터\t0.1208549290895462\n",
            "세계관\t0.11704583466053009\n",
            "공감\t0.09363807737827301\n",
            "크로스미디어 스토리텔링\t0.08975031971931458\n",
            "장르\t0.08946686238050461\n",
            "콘텐츠\t0.08002450317144394\n",
            "트랜스미디어\t0.06945081055164337\n",
            "OSMU\t0.06774304062128067\n",
            "재매개\t0.05362989380955696\n",
            "\n",
            "== Topic #9 ==\n",
            "Labels: 문화콘텐츠, 스토리텔링, 신과 함께, 웹소설, 일상툰\n",
            "브랜드웹툰\t0.268128901720047\n",
            "브랜드 웹툰\t0.24748961627483368\n",
            "제품유형\t0.20265986025333405\n",
            "광고\t0.18839819729328156\n",
            "공감\t0.08799760788679123\n",
            "만화산업\t9.514714474789798e-05\n",
            "웹툰교육\t9.51153997448273e-05\n",
            "신과함께\t9.51153997448273e-05\n",
            "크로스미디어 스토리텔링\t9.511086682323366e-05\n",
            "가상현실\t9.511086682323366e-05\n",
            "\n",
            "== Topic #10 ==\n",
            "Labels: 스토리텔링, 캐릭터, 재매개, 신과 함께, 트랜스미디어 스토리텔링\n",
            "스토리텔링\t0.290953665971756\n",
            "드라마\t0.1963316798210144\n",
            "상호텍스트성\t0.1905190646648407\n",
            "공간\t0.1737464964389801\n",
            "미생\t0.14391693472862244\n",
            "브랜드 웹툰\t8.095446537481621e-05\n",
            "전자책\t8.09351695352234e-05\n",
            "한류\t8.09351695352234e-05\n",
            "좀비\t8.09351695352234e-05\n",
            "브랜드웹툰\t8.09351695352234e-05\n",
            "\n",
            "== Topic #11 ==\n",
            "Labels: 신과 함께, 웹소설, 트랜스미디어, 일상툰, 트랜스미디어 스토리텔링\n",
            "웹툰 IP\t0.3324930965900421\n",
            "세로 스크롤\t0.33149656653404236\n",
            "모바일\t0.3270544111728668\n",
            "재매개\t0.00015443356824107468\n",
            "문화콘텐츠\t0.00015442620497196913\n",
            "번역\t0.00015441884170286357\n",
            "전자책\t0.00015441884170286357\n",
            "웹콘텐츠\t0.00015441147843375802\n",
            "크로스미디어 스토리텔링\t0.00015441147843375802\n",
            "공간\t0.00015441147843375802\n",
            "\n",
            "== Topic #12 ==\n",
            "Labels: 웹소설, 콘텐츠, 신과 함께, 일상툰, 트랜스미디어\n",
            "웹소설\t0.43156594038009644\n",
            "번역\t0.23984330892562866\n",
            "웹콘텐츠\t0.18375615775585175\n",
            "네이버\t0.13941799104213715\n",
            "웹툰 플랫폼\t9.507084178039804e-05\n",
            "공간\t9.503458568360656e-05\n",
            "미디어\t9.503458568360656e-05\n",
            "OSMU\t9.503458568360656e-05\n",
            "재매개\t9.503458568360656e-05\n",
            "웹툰 IP\t9.503006003797054e-05\n",
            "\n"
          ]
        }
      ]
    },
    {
      "cell_type": "markdown",
      "metadata": {
        "id": "5INtHZoSsTxi"
      },
      "source": [
        "### 2. DTM (Dynamic Topic Model)\n",
        "\"시간의 변화에 따른 청년 담론의 변화\""
      ]
    },
    {
      "cell_type": "code",
      "metadata": {
        "id": "rB93YPcX751T",
        "colab": {
          "base_uri": "https://localhost:8080/"
        },
        "outputId": "01aca445-ef29-44bf-9976-601e0f2430c6"
      },
      "source": [
        "df['발행연도'].astype(str)"
      ],
      "execution_count": null,
      "outputs": [
        {
          "output_type": "execute_result",
          "data": {
            "text/plain": [
              "0      2023\n",
              "1      2023\n",
              "2      2023\n",
              "3      2023\n",
              "4      2023\n",
              "       ... \n",
              "663    2007\n",
              "664    2007\n",
              "665    2007\n",
              "666    2004\n",
              "667    2003\n",
              "Name: 발행연도, Length: 668, dtype: object"
            ]
          },
          "metadata": {},
          "execution_count": 14
        }
      ]
    },
    {
      "cell_type": "code",
      "metadata": {
        "id": "npVeKGwq78FG",
        "colab": {
          "base_uri": "https://localhost:8080/"
        },
        "outputId": "e82f0507-f037-4385-94a1-40216935b53b"
      },
      "source": [
        "# 연도 컬럼 추가\n",
        "df['year']=df['발행연도'].astype(str).str.slice(start=0,stop=4)\n",
        "df['year']"
      ],
      "execution_count": null,
      "outputs": [
        {
          "output_type": "execute_result",
          "data": {
            "text/plain": [
              "0      2023\n",
              "1      2023\n",
              "2      2023\n",
              "3      2023\n",
              "4      2023\n",
              "       ... \n",
              "663    2007\n",
              "664    2007\n",
              "665    2007\n",
              "666    2004\n",
              "667    2003\n",
              "Name: year, Length: 668, dtype: object"
            ]
          },
          "metadata": {},
          "execution_count": 15
        }
      ]
    },
    {
      "cell_type": "code",
      "metadata": {
        "id": "5eFENt8U8PJg",
        "colab": {
          "base_uri": "https://localhost:8080/"
        },
        "outputId": "701ae3a0-0d1c-4719-d6f3-c94c2765e26f"
      },
      "source": [
        "df['year'].value_counts()"
      ],
      "execution_count": null,
      "outputs": [
        {
          "output_type": "execute_result",
          "data": {
            "text/plain": [
              "year\n",
              "2023    101\n",
              "2022     87\n",
              "2021     67\n",
              "2019     64\n",
              "2018     61\n",
              "2020     59\n",
              "2015     50\n",
              "2017     49\n",
              "2016     41\n",
              "2014     29\n",
              "2011     14\n",
              "2012     13\n",
              "2013     12\n",
              "2010      7\n",
              "2009      5\n",
              "2007      5\n",
              "2008      2\n",
              "2004      1\n",
              "2003      1\n",
              "Name: count, dtype: int64"
            ]
          },
          "metadata": {},
          "execution_count": 16
        }
      ]
    },
    {
      "cell_type": "code",
      "metadata": {
        "id": "K2i4I3jO8SDG"
      },
      "source": [
        "# DTM에서 t(시간 하이퍼하라미터) 형식으로 변환(0부터 시작)\n",
        "df['year'] = df['year'].astype(int) - 2003"
      ],
      "execution_count": null,
      "outputs": []
    },
    {
      "cell_type": "code",
      "metadata": {
        "id": "3HoUDcJZ8cki",
        "colab": {
          "base_uri": "https://localhost:8080/"
        },
        "outputId": "ead59a28-8116-43ef-9da5-db36ab6b710c"
      },
      "source": [
        "# 0 : 2021, 1:2022, 2:2023\n",
        "df['year'].value_counts()"
      ],
      "execution_count": null,
      "outputs": [
        {
          "output_type": "execute_result",
          "data": {
            "text/plain": [
              "year\n",
              "20    101\n",
              "19     87\n",
              "18     67\n",
              "16     64\n",
              "15     61\n",
              "17     59\n",
              "12     50\n",
              "14     49\n",
              "13     41\n",
              "11     29\n",
              "8      14\n",
              "9      13\n",
              "10     12\n",
              "7       7\n",
              "6       5\n",
              "4       5\n",
              "5       2\n",
              "1       1\n",
              "0       1\n",
              "Name: count, dtype: int64"
            ]
          },
          "metadata": {},
          "execution_count": 18
        }
      ]
    },
    {
      "cell_type": "markdown",
      "source": [
        "### 일단 해보자"
      ],
      "metadata": {
        "id": "hmYfzMizlUCo"
      }
    },
    {
      "cell_type": "code",
      "source": [
        "import pandas as pd\n",
        "import tomotopy as tp\n",
        "from tqdm import tqdm\n",
        "\n",
        "# Load the newly uploaded Excel file\n",
        "file_path = 'webtoon.xlsx'  # Replace with your file path\n",
        "df = pd.read_excel(file_path, sheet_name='서지정보')\n",
        "\n",
        "# Drop rows with NaN in '저자키워드' or '초록' columns\n",
        "df = df.dropna(subset=['저자키워드', '초록']).reset_index(drop=True)\n",
        "\n",
        "# Define the list of stopwords to remove from '저자키워드'\n",
        "additional_stopwords = set([\n",
        "    '웹툰', '웹만화', '디지털만화', '웹코믹스', '인터넷만화', '온라인만화', 'webtoon'\n",
        "])\n",
        "\n",
        "# Function to preprocess '저자키워드' and remove stopwords\n",
        "def preprocess_keywords(keywords):\n",
        "    if isinstance(keywords, str):\n",
        "        keywords = keywords.split(',')\n",
        "        keywords = [kw for kw in keywords if kw not in additional_stopwords]\n",
        "        return ' '.join(keywords)\n",
        "    return ''\n",
        "\n",
        "# Apply the function to the '저자키워드' column\n",
        "df['processed_keywords'] = df['저자키워드'].apply(preprocess_keywords)\n",
        "\n",
        "# Add 'year' column\n",
        "df['year'] = df['발행연도'].astype(str).str.slice(start=0, stop=4)\n",
        "df['year'] = df['year'].astype(int)\n",
        "\n",
        "# Map the years to the specified ranges\n",
        "def map_year_to_period(year):\n",
        "    if 2003 <= year <= 2010:\n",
        "        return 0\n",
        "    elif 2011 <= year <= 2013:\n",
        "        return 1\n",
        "    elif 2014 <= year <= 2021:\n",
        "        return 2\n",
        "    elif 2022 <= year <= 2023:\n",
        "        return 3\n",
        "    return -1  # For any unexpected year values\n",
        "\n",
        "df['period'] = df['year'].apply(map_year_to_period)\n",
        "\n",
        "# Convert the processed keywords to token lists\n",
        "df['token'] = df['processed_keywords'].apply(lambda x: x.split())\n",
        "\n",
        "# Prepare the data for DTM\n",
        "token_year_dict = df[['token', 'period']].to_dict('index')\n",
        "\n",
        "# Initialize the DTM model\n",
        "DTM = tp.DTModel(k=10, min_df=10, tw=tp.TermWeight.PMI, t=4, rm_top=3, seed=2023)  # Updated 't' to 4 to match the number of periods\n",
        "\n",
        "# Add documents to the DTM model\n",
        "for k in tqdm(token_year_dict.keys()):\n",
        "    tokens = token_year_dict[k]['token']\n",
        "    timepoint = token_year_dict[k]['period']\n",
        "    if timepoint != -1:  # Only add valid periods\n",
        "        DTM.add_doc(tokens, timepoint)\n",
        "\n",
        "# Train the DTM model\n",
        "DTM.burn_in = 100\n",
        "DTM.train(0)\n",
        "for i in range(1000):\n",
        "    DTM.train(10)\n",
        "    if i % 10 == 0:\n",
        "        print(f'Iteration: {i}, Log-likelihood: {DTM.ll_per_word}')\n",
        "\n",
        "# Extract topics and their evolution\n",
        "for k in range(DTM.k):\n",
        "    print(f'Topic #{k}')\n",
        "    for t in range(DTM.num_timepoints):\n",
        "        print(f'Timepoint {t}: ', DTM.get_topic_words(k, top_n=10, timepoint=t))\n",
        "\n",
        "# 토픽의 비율을 시간에 따라 시각화하는 함수\n",
        "def plot_topic_proportions(model, num_topics, num_timepoints):\n",
        "    proportions = []\n",
        "    for t in range(num_timepoints):\n",
        "        timepoint_proportions = []\n",
        "        for k in range(num_topics):\n",
        "            # Use get_count_by_topics with correct parameters\n",
        "            timepoint_proportions.append(model.get_count_by_topics(k)[t])\n",
        "        proportions.append(timepoint_proportions)\n",
        "\n",
        "    proportions = np.array(proportions).T\n",
        "\n",
        "    for k in range(num_topics):\n",
        "        plt.plot(range(num_timepoints), proportions[k], label=f'Topic {k}')\n",
        "\n",
        "    plt.xlabel('Timepoint')\n",
        "    plt.ylabel('Proportion')\n",
        "    plt.legend()\n",
        "    plt.show()\n",
        "\n",
        "# DTM 모델의 토픽 비율 시각화\n",
        "plot_topic_proportions(DTM, DTM.k, DTM.num_timepoints)"
      ],
      "metadata": {
        "colab": {
          "base_uri": "https://localhost:8080/",
          "height": 1000
        },
        "id": "_3bZVZxDlWX4",
        "outputId": "0ee244c1-8ebc-41a2-83a4-bcc20d56aa5c"
      },
      "execution_count": null,
      "outputs": [
        {
          "output_type": "stream",
          "name": "stderr",
          "text": [
            "100%|██████████| 670/670 [00:00<00:00, 87563.76it/s]\n",
            "<ipython-input-23-dee3f318cb86>:64: RuntimeWarning: The training result may differ even with fixed seed if `workers` != 1.\n",
            "  DTM.train(0)\n",
            "<ipython-input-23-dee3f318cb86>:66: RuntimeWarning: The training result may differ even with fixed seed if `workers` != 1.\n",
            "  DTM.train(10)\n"
          ]
        },
        {
          "output_type": "stream",
          "name": "stdout",
          "text": [
            "Iteration: 0, Log-likelihood: -2.228269828661353\n",
            "Iteration: 10, Log-likelihood: -2.235873079510101\n",
            "Iteration: 20, Log-likelihood: -2.2211549300048454\n",
            "Iteration: 30, Log-likelihood: -2.2223038682189147\n",
            "Iteration: 40, Log-likelihood: -2.221325606074915\n",
            "Iteration: 50, Log-likelihood: -2.2172655130738077\n",
            "Iteration: 60, Log-likelihood: -2.2179643690941937\n",
            "Iteration: 70, Log-likelihood: -2.2368238738397066\n",
            "Iteration: 80, Log-likelihood: -2.2268498575703863\n",
            "Iteration: 90, Log-likelihood: -2.245156797203515\n",
            "Iteration: 100, Log-likelihood: -2.212425100534872\n",
            "Iteration: 110, Log-likelihood: -2.2256704059929113\n",
            "Iteration: 120, Log-likelihood: -2.230729675002965\n",
            "Iteration: 130, Log-likelihood: -2.218286209422562\n",
            "Iteration: 140, Log-likelihood: -2.2217139267190666\n",
            "Iteration: 150, Log-likelihood: -2.2306737837830526\n",
            "Iteration: 160, Log-likelihood: -2.2309731169268976\n",
            "Iteration: 170, Log-likelihood: -2.2149488139368647\n",
            "Iteration: 180, Log-likelihood: -2.2185453226231675\n",
            "Iteration: 190, Log-likelihood: -2.2285540205565293\n",
            "Iteration: 200, Log-likelihood: -2.21774670693863\n",
            "Iteration: 210, Log-likelihood: -2.2209708866751146\n",
            "Iteration: 220, Log-likelihood: -2.2282849089931207\n",
            "Iteration: 230, Log-likelihood: -2.236236465152125\n",
            "Iteration: 240, Log-likelihood: -2.21488346290489\n",
            "Iteration: 250, Log-likelihood: -2.244073126487948\n",
            "Iteration: 260, Log-likelihood: -2.2150877867529934\n",
            "Iteration: 270, Log-likelihood: -2.224389978278438\n",
            "Iteration: 280, Log-likelihood: -2.218094164162139\n",
            "Iteration: 290, Log-likelihood: -2.2129584313559616\n",
            "Iteration: 300, Log-likelihood: -2.233665215669598\n",
            "Iteration: 310, Log-likelihood: -2.225603666550426\n",
            "Iteration: 320, Log-likelihood: -2.223041889261048\n",
            "Iteration: 330, Log-likelihood: -2.2196151410575524\n",
            "Iteration: 340, Log-likelihood: -2.220718693223866\n",
            "Iteration: 350, Log-likelihood: -2.2135123227099296\n",
            "Iteration: 360, Log-likelihood: -2.227964959806358\n",
            "Iteration: 370, Log-likelihood: -2.2306452064038074\n",
            "Iteration: 380, Log-likelihood: -2.2189218772899997\n",
            "Iteration: 390, Log-likelihood: -2.22163975875428\n",
            "Iteration: 400, Log-likelihood: -2.2164765366927246\n",
            "Iteration: 410, Log-likelihood: -2.2178514475991844\n",
            "Iteration: 420, Log-likelihood: -2.2203071962988488\n",
            "Iteration: 430, Log-likelihood: -2.22148121168626\n",
            "Iteration: 440, Log-likelihood: -2.213573310787683\n",
            "Iteration: 450, Log-likelihood: -2.2195280472032586\n",
            "Iteration: 460, Log-likelihood: -2.2220879581907393\n",
            "Iteration: 470, Log-likelihood: -2.223974602079962\n",
            "Iteration: 480, Log-likelihood: -2.2134770199831584\n",
            "Iteration: 490, Log-likelihood: -2.2200133027244613\n",
            "Iteration: 500, Log-likelihood: -2.21169656331846\n",
            "Iteration: 510, Log-likelihood: -2.218868620955473\n",
            "Iteration: 520, Log-likelihood: -2.2355797668989474\n",
            "Iteration: 530, Log-likelihood: -2.233880008237143\n",
            "Iteration: 540, Log-likelihood: -2.219352067365516\n",
            "Iteration: 550, Log-likelihood: -2.219843368472084\n",
            "Iteration: 560, Log-likelihood: -2.233361264012606\n",
            "Iteration: 570, Log-likelihood: -2.215159660371679\n",
            "Iteration: 580, Log-likelihood: -2.2281744431021733\n",
            "Iteration: 590, Log-likelihood: -2.225493557550531\n",
            "Iteration: 600, Log-likelihood: -2.221816320863947\n",
            "Iteration: 610, Log-likelihood: -2.2212416266928785\n",
            "Iteration: 620, Log-likelihood: -2.230749926970503\n",
            "Iteration: 630, Log-likelihood: -2.211237252085158\n",
            "Iteration: 640, Log-likelihood: -2.217969391907182\n",
            "Iteration: 650, Log-likelihood: -2.2239073350287444\n",
            "Iteration: 660, Log-likelihood: -2.2138649415490166\n",
            "Iteration: 670, Log-likelihood: -2.2306384032855298\n",
            "Iteration: 680, Log-likelihood: -2.211970768594717\n",
            "Iteration: 690, Log-likelihood: -2.21107381610471\n",
            "Iteration: 700, Log-likelihood: -2.2206620191666557\n",
            "Iteration: 710, Log-likelihood: -2.21362571502174\n",
            "Iteration: 720, Log-likelihood: -2.2249691810818426\n",
            "Iteration: 730, Log-likelihood: -2.2211759879279147\n",
            "Iteration: 740, Log-likelihood: -2.219470527604376\n",
            "Iteration: 750, Log-likelihood: -2.2109748772775975\n",
            "Iteration: 760, Log-likelihood: -2.2096695068321086\n",
            "Iteration: 770, Log-likelihood: -2.2120049590413995\n",
            "Iteration: 780, Log-likelihood: -2.2244830627721814\n",
            "Iteration: 790, Log-likelihood: -2.221895479094752\n",
            "Iteration: 800, Log-likelihood: -2.2200455335009943\n",
            "Iteration: 810, Log-likelihood: -2.221848640892202\n",
            "Iteration: 820, Log-likelihood: -2.223847999573667\n",
            "Iteration: 830, Log-likelihood: -2.2107436725539595\n",
            "Iteration: 840, Log-likelihood: -2.2165673661374563\n",
            "Iteration: 850, Log-likelihood: -2.221781542528099\n",
            "Iteration: 860, Log-likelihood: -2.218494129532166\n",
            "Iteration: 870, Log-likelihood: -2.230152586318723\n",
            "Iteration: 880, Log-likelihood: -2.2432093542771945\n",
            "Iteration: 890, Log-likelihood: -2.2239555347560094\n",
            "Iteration: 900, Log-likelihood: -2.2307556353155116\n",
            "Iteration: 910, Log-likelihood: -2.2160619464229474\n",
            "Iteration: 920, Log-likelihood: -2.2166868924028824\n",
            "Iteration: 930, Log-likelihood: -2.2245688680711955\n",
            "Iteration: 940, Log-likelihood: -2.2182977923234293\n",
            "Iteration: 950, Log-likelihood: -2.215458139307985\n",
            "Iteration: 960, Log-likelihood: -2.2193164273203614\n",
            "Iteration: 970, Log-likelihood: -2.2318429379249456\n",
            "Iteration: 980, Log-likelihood: -2.2286662207804344\n",
            "Iteration: 990, Log-likelihood: -2.2221169493061455\n",
            "Topic #0\n",
            "Timepoint 0:  [('재매개', 0.04699070379137993), ('문화콘텐츠', 0.04460548982024193), ('콘텐츠', 0.044561292976140976), ('신과함께', 0.04328525811433792), ('브랜드웹툰', 0.04324996843934059), ('트랜스미디어스토리텔링', 0.04120423272252083), ('웹소설', 0.04065270721912384), ('OSMU', 0.04035186767578125), ('일상툰', 0.039661895483732224), ('트랜스미디어', 0.03932798653841019)]\n",
            "Timepoint 1:  [('재매개', 0.5477179288864136), ('문화콘텐츠', 0.04539864882826805), ('콘텐츠', 0.04417415335774422), ('신과함께', 0.0438699834048748), ('브랜드웹툰', 0.04359346628189087), ('트랜스미디어스토리텔링', 0.041535068303346634), ('웹소설', 0.040873151272535324), ('일상툰', 0.039783913642168045), ('OSMU', 0.03972379490733147), ('트랜스미디어', 0.039492588490247726)]\n",
            "Timepoint 2:  [('웹소설', 0.21823018789291382), ('트랜스미디어스토리텔링', 0.14704832434654236), ('캐릭터', 0.1459745168685913), ('일상툰', 0.14585301280021667), ('문화콘텐츠', 0.04765653610229492), ('신과함께', 0.04589790478348732), ('콘텐츠', 0.045188263058662415), ('브랜드웹툰', 0.04507172852754593), ('재매개', 0.04387937858700752), ('트랜스미디어', 0.04019417613744736)]\n",
            "Timepoint 3:  [('콘텐츠', 0.17622599005699158), ('트랜스미디어스토리텔링', 0.155462846159935), ('캐릭터', 0.10947353392839432), ('OSMU', 0.1038227379322052), ('일상툰', 0.100380077958107), ('재매개', 0.09741447120904922), ('문화콘텐츠', 0.04776594042778015), ('트랜스미디어', 0.04321514070034027), ('브랜드웹툰', 0.04315360262989998), ('신과함께', 0.0422498919069767)]\n",
            "Topic #1\n",
            "Timepoint 0:  [('OSMU', 0.5407530069351196), ('재매개', 0.04966960474848747), ('문화콘텐츠', 0.04466388747096062), ('콘텐츠', 0.04406576231122017), ('신과함께', 0.04352913051843643), ('브랜드웹툰', 0.0417189858853817), ('트랜스미디어스토리텔링', 0.040483709424734116), ('일상툰', 0.03956805542111397), ('웹소설', 0.03933366760611534), ('트랜스미디어', 0.039234060794115067)]\n",
            "Timepoint 1:  [('일상툰', 0.3622090816497803), ('OSMU', 0.2178187072277069), ('재매개', 0.05017086863517761), ('문화콘텐츠', 0.04522456228733063), ('신과함께', 0.04396999999880791), ('콘텐츠', 0.04371320456266403), ('브랜드웹툰', 0.042135246098041534), ('트랜스미디어스토리텔링', 0.04091047868132591), ('웹소설', 0.039565715938806534), ('트랜스미디어', 0.039475783705711365)]\n",
            "Timepoint 2:  [('매체전환', 0.17691169679164886), ('신과함께', 0.13099034130573273), ('콘텐츠', 0.1241689920425415), ('브랜드웹툰', 0.09622448682785034), ('트랜스미디어', 0.09013921022415161), ('웹소설', 0.08917704969644547), ('트랜스미디어스토리텔링', 0.08735144138336182), ('문화콘텐츠', 0.047464169561862946), ('재매개', 0.04603428393602371), ('OSMU', 0.03869551792740822)]\n",
            "Timepoint 3:  [('웹소설', 0.23655332624912262), ('트랜스미디어', 0.16823002696037292), ('매체전환', 0.1423758566379547), ('신과함께', 0.11885557323694229), ('문화콘텐츠', 0.04797368869185448), ('콘텐츠', 0.047206345945596695), ('트랜스미디어스토리텔링', 0.043134283274412155), ('재매개', 0.042686719447374344), ('브랜드웹툰', 0.041592177003622055), ('일상툰', 0.040217507630586624)]\n",
            "Topic #2\n",
            "Timepoint 0:  [('재매개', 0.04828859865665436), ('문화콘텐츠', 0.0460832379758358), ('브랜드웹툰', 0.04389256238937378), ('신과함께', 0.04371091350913048), ('콘텐츠', 0.04309028014540672), ('OSMU', 0.04142812639474869), ('트랜스미디어스토리텔링', 0.03981337696313858), ('일상툰', 0.03945644199848175), ('웹소설', 0.03911330923438072), ('매체전환', 0.03852542117238045)]\n",
            "Timepoint 1:  [('재매개', 0.04905661195516586), ('문화콘텐츠', 0.046809326857328415), ('브랜드웹툰', 0.04433923214673996), ('신과함께', 0.04412195831537247), ('콘텐츠', 0.042776159942150116), ('OSMU', 0.040945157408714294), ('트랜스미디어스토리텔링', 0.040074851363897324), ('일상툰', 0.03949141874909401), ('웹소설', 0.03930357098579407), ('트랜스미디어', 0.03831939771771431)]\n",
            "Timepoint 2:  [('브랜드웹툰', 0.1860552579164505), ('재매개', 0.1338866502046585), ('일상툰', 0.1233876422047615), ('트랜스미디어', 0.09064292907714844), ('콘텐츠', 0.08852798491716385), ('신과함께', 0.08846205472946167), ('매체전환', 0.08322998881340027), ('문화콘텐츠', 0.04928217828273773), ('트랜스미디어스토리텔링', 0.04109685868024826), ('웹소설', 0.040045611560344696)]\n",
            "Timepoint 3:  [('캐릭터', 0.2955484390258789), ('문화콘텐츠', 0.2909042537212372), ('콘텐츠', 0.04613971710205078), ('브랜드웹툰', 0.044323597103357315), ('신과함께', 0.042680561542510986), ('트랜스미디어스토리텔링', 0.042032428085803986), ('재매개', 0.04176710918545723), ('트랜스미디어', 0.041757822036743164), ('매체전환', 0.03971899300813675), ('웹소설', 0.039484038949012756)]\n",
            "Topic #3\n",
            "Timepoint 0:  [('문화콘텐츠', 0.05040087178349495), ('재매개', 0.046614646911621094), ('브랜드웹툰', 0.04392571747303009), ('콘텐츠', 0.04335108771920204), ('신과함께', 0.042474765330553055), ('OSMU', 0.04004468396306038), ('일상툰', 0.03960990905761719), ('트랜스미디어스토리텔링', 0.03914918377995491), ('웹소설', 0.03904282674193382), ('캐릭터', 0.03853168338537216)]\n",
            "Timepoint 1:  [('문화콘텐츠', 0.05131469666957855), ('재매개', 0.04710729792714119), ('브랜드웹툰', 0.04439016804099083), ('콘텐츠', 0.04294772073626518), ('신과함께', 0.04293782636523247), ('일상툰', 0.03975009545683861), ('트랜스미디어스토리텔링', 0.039559733122587204), ('OSMU', 0.039433613419532776), ('웹소설', 0.03915102407336235), ('트랜스미디어', 0.03890922665596008)]\n",
            "Timepoint 2:  [('OSMU', 0.15225431323051453), ('신과함께', 0.12097286432981491), ('트랜스미디어', 0.11551058292388916), ('문화콘텐츠', 0.0893658846616745), ('트랜스미디어스토리텔링', 0.08778873085975647), ('브랜드웹툰', 0.08587251603603363), ('일상툰', 0.08210286498069763), ('웹소설', 0.07529508322477341), ('재매개', 0.07410316914319992), ('콘텐츠', 0.04388716071844101)]\n",
            "Timepoint 3:  [('일상툰', 0.24324911832809448), ('브랜드웹툰', 0.23821771144866943), ('캐릭터', 0.1378958374261856), ('문화콘텐츠', 0.05487918481230736), ('콘텐츠', 0.04682344198226929), ('트랜스미디어', 0.042173273861408234), ('신과함께', 0.04121977835893631), ('트랜스미디어스토리텔링', 0.04111272841691971), ('재매개', 0.04056062549352646), ('매체전환', 0.03980306163430214)]\n",
            "Topic #4\n",
            "Timepoint 0:  [('재매개', 0.047562528401613235), ('문화콘텐츠', 0.04713348671793938), ('콘텐츠', 0.04420165345072746), ('신과함께', 0.0424962043762207), ('브랜드웹툰', 0.04130124673247337), ('OSMU', 0.04111023619771004), ('트랜스미디어스토리텔링', 0.04087229445576668), ('일상툰', 0.040060777217149734), ('캐릭터', 0.0392194539308548), ('웹소설', 0.038936398923397064)]\n",
            "Timepoint 1:  [('재매개', 0.5484137535095215), ('문화콘텐츠', 0.04797321930527687), ('콘텐츠', 0.04392534866929054), ('신과함께', 0.0427958220243454), ('브랜드웹툰', 0.0418350026011467), ('트랜스미디어스토리텔링', 0.04113302752375603), ('OSMU', 0.04045429825782776), ('일상툰', 0.040220897644758224), ('웹소설', 0.039198145270347595), ('트랜스미디어', 0.03852473199367523)]\n",
            "Timepoint 2:  [('재매개', 0.1450939178466797), ('웹소설', 0.1392792910337448), ('신과함께', 0.13790257275104523), ('문화콘텐츠', 0.08140334486961365), ('콘텐츠', 0.07911629974842072), ('브랜드웹툰', 0.07795780897140503), ('트랜스미디어스토리텔링', 0.07577243447303772), ('OSMU', 0.07557813078165054), ('매체전환', 0.0741724967956543), ('트랜스미디어', 0.039289165288209915)]\n",
            "Timepoint 3:  [('일상툰', 0.2173134684562683), ('콘텐츠', 0.21203482151031494), ('웹소설', 0.19781655073165894), ('문화콘텐츠', 0.05086185038089752), ('트랜스미디어스토리텔링', 0.04300506412982941), ('재매개', 0.04182302579283714), ('트랜스미디어', 0.041811663657426834), ('신과함께', 0.04130690544843674), ('브랜드웹툰', 0.041188642382621765), ('매체전환', 0.039941396564245224)]\n",
            "Topic #5\n",
            "Timepoint 0:  [('매체전환', 0.5381906628608704), ('재매개', 0.0468122735619545), ('문화콘텐츠', 0.04560313746333122), ('브랜드웹툰', 0.044838543981313705), ('신과함께', 0.04397062957286835), ('콘텐츠', 0.04295589029788971), ('OSMU', 0.041200414299964905), ('일상툰', 0.04101021587848663), ('트랜스미디어스토리텔링', 0.03974537551403046), ('트랜스미디어', 0.03906106576323509)]\n",
            "Timepoint 1:  [('재매개', 0.047530848532915115), ('문화콘텐츠', 0.046156711876392365), ('브랜드웹툰', 0.04528138414025307), ('신과함께', 0.044549815356731415), ('콘텐츠', 0.042689353227615356), ('일상툰', 0.0410938560962677), ('OSMU', 0.04064733535051346), ('트랜스미디어스토리텔링', 0.03990064188838005), ('트랜스미디어', 0.03939160704612732), ('웹소설', 0.038613107055425644)]\n",
            "Timepoint 2:  [('문화콘텐츠', 0.1890602707862854), ('신과함께', 0.18882323801517487), ('매체전환', 0.11591130495071411), ('재매개', 0.11412271857261658), ('트랜스미디어스토리텔링', 0.10899542272090912), ('브랜드웹툰', 0.04728469252586365), ('콘텐츠', 0.04321354627609253), ('트랜스미디어', 0.040377359837293625), ('웹소설', 0.03933778032660484), ('일상툰', 0.03893963247537613)]\n",
            "Timepoint 3:  [('콘텐츠', 0.2614443898200989), ('트랜스미디어', 0.1424788534641266), ('트랜스미디어스토리텔링', 0.14069534838199615), ('문화콘텐츠', 0.1358003169298172), ('브랜드웹툰', 0.0450022928416729), ('신과함께', 0.042661152780056), ('일상툰', 0.04163297638297081), ('재매개', 0.04063994064927101), ('매체전환', 0.03960837423801422), ('웹소설', 0.03864802047610283)]\n",
            "Topic #6\n",
            "Timepoint 0:  [('캐릭터', 0.2994883954524994), ('콘텐츠', 0.28053051233291626), ('재매개', 0.047817543148994446), ('문화콘텐츠', 0.044588036835193634), ('신과함께', 0.04343924671411514), ('브랜드웹툰', 0.042441848665475845), ('웹소설', 0.04148202762007713), ('일상툰', 0.04107487201690674), ('OSMU', 0.04080478101968765), ('트랜스미디어스토리텔링', 0.04000106081366539)]\n",
            "Timepoint 1:  [('재매개', 0.5486043691635132), ('문화콘텐츠', 0.045351773500442505), ('신과함께', 0.043908387422561646), ('브랜드웹툰', 0.042781930416822433), ('웹소설', 0.04164300113916397), ('콘텐츠', 0.04157399758696556), ('일상툰', 0.04128743335604668), ('트랜스미디어스토리텔링', 0.040272749960422516), ('OSMU', 0.04022403806447983), ('매체전환', 0.039092667400836945)]\n",
            "Timepoint 2:  [('OSMU', 0.1999034434556961), ('문화콘텐츠', 0.162496879696846), ('브랜드웹툰', 0.15538081526756287), ('트랜스미디어', 0.09922534227371216), ('콘텐츠', 0.09502575546503067), ('신과함께', 0.04566652700304985), ('재매개', 0.04468085616827011), ('웹소설', 0.04273748770356178), ('트랜스미디어스토리텔링', 0.04119627922773361), ('일상툰', 0.0390881784260273)]\n",
            "Timepoint 3:  [('문화콘텐츠', 0.22294804453849792), ('트랜스미디어', 0.1539405733346939), ('매체전환', 0.1531311571598053), ('트랜스미디어스토리텔링', 0.1440477967262268), ('콘텐츠', 0.044569842517375946), ('브랜드웹툰', 0.042668912559747696), ('신과함께', 0.04216509312391281), ('웹소설', 0.042107954621315), ('일상툰', 0.041565343737602234), ('재매개', 0.0411805622279644)]\n",
            "Topic #7\n",
            "Timepoint 0:  [('문화콘텐츠', 0.04639037698507309), ('재매개', 0.0458192452788353), ('콘텐츠', 0.043515413999557495), ('브랜드웹툰', 0.04310889542102814), ('신과함께', 0.0427694246172905), ('트랜스미디어스토리텔링', 0.04173509031534195), ('OSMU', 0.0410393550992012), ('일상툰', 0.040508151054382324), ('매체전환', 0.03977099061012268), ('웹소설', 0.03935540094971657)]\n",
            "Timepoint 1:  [('문화콘텐츠', 0.04715018719434738), ('재매개', 0.0463930182158947), ('브랜드웹툰', 0.04364988952875137), ('콘텐츠', 0.04332035779953003), ('신과함께', 0.04324938356876373), ('트랜스미디어스토리텔링', 0.04200541973114014), ('일상툰', 0.04073328897356987), ('OSMU', 0.04024367779493332), ('웹소설', 0.03959851339459419), ('매체전환', 0.039040930569171906)]\n",
            "Timepoint 2:  [('문화콘텐츠', 0.21391642093658447), ('신과함께', 0.13062477111816406), ('트랜스미디어스토리텔링', 0.10153107345104218), ('캐릭터', 0.10039925575256348), ('콘텐츠', 0.0770990401506424), ('브랜드웹툰', 0.07669245451688766), ('트랜스미디어', 0.07024350762367249), ('OSMU', 0.06949988007545471), ('재매개', 0.04289289191365242), ('웹소설', 0.0403783842921257)]\n",
            "Timepoint 3:  [('트랜스미디어', 0.2171567678451538), ('매체전환', 0.1314781755208969), ('재매개', 0.12495319545269012), ('일상툰', 0.12178356945514679), ('브랜드웹툰', 0.11157636344432831), ('문화콘텐츠', 0.05015209689736366), ('콘텐츠', 0.047084975987672806), ('트랜스미디어스토리텔링', 0.04426950588822365), ('신과함께', 0.041387367993593216), ('웹소설', 0.03956582769751549)]\n",
            "Topic #8\n",
            "Timepoint 0:  [('캐릭터', 0.5381958484649658), ('재매개', 0.04930144175887108), ('문화콘텐츠', 0.046287648379802704), ('신과함께', 0.044257983565330505), ('브랜드웹툰', 0.04360797628760338), ('OSMU', 0.042070355266332626), ('콘텐츠', 0.04162393882870674), ('트랜스미디어스토리텔링', 0.03996269404888153), ('매체전환', 0.03959442302584648), ('웹소설', 0.0390789769589901)]\n",
            "Timepoint 1:  [('재매개', 0.05006351321935654), ('문화콘텐츠', 0.047072142362594604), ('신과함께', 0.04473574087023735), ('브랜드웹툰', 0.04417059198021889), ('OSMU', 0.041422344744205475), ('콘텐츠', 0.04118752479553223), ('트랜스미디어스토리텔링', 0.040269821882247925), ('웹소설', 0.03916037827730179), ('일상툰', 0.03887507691979408), ('매체전환', 0.038799770176410675)]\n",
            "Timepoint 2:  [('재매개', 0.15234604477882385), ('캐릭터', 0.1401669681072235), ('브랜드웹툰', 0.1365705132484436), ('트랜스미디어스토리텔링', 0.09340883046388626), ('문화콘텐츠', 0.09304065257310867), ('웹소설', 0.092922642827034), ('콘텐츠', 0.09234875440597534), ('신과함께', 0.04631704464554787), ('OSMU', 0.03932872414588928), ('매체전환', 0.038470350205898285)]\n",
            "Timepoint 3:  [('콘텐츠', 0.3167349398136139), ('문화콘텐츠', 0.27847081422805786), ('브랜드웹툰', 0.04365399852395058), ('재매개', 0.04301519691944122), ('신과함께', 0.04290176182985306), ('트랜스미디어스토리텔링', 0.04239612817764282), ('매체전환', 0.04144665226340294), ('트랜스미디어', 0.04080561548471451), ('웹소설', 0.039109062403440475), ('일상툰', 0.039006784558296204)]\n",
            "Topic #9\n",
            "Timepoint 0:  [('재매개', 0.04779292643070221), ('문화콘텐츠', 0.04713791236281395), ('콘텐츠', 0.04455401748418808), ('신과함께', 0.04434177652001381), ('브랜드웹툰', 0.04272928461432457), ('OSMU', 0.04072774946689606), ('트랜스미디어스토리텔링', 0.04060962051153183), ('웹소설', 0.03895743191242218), ('캐릭터', 0.038676269352436066), ('매체전환', 0.038572125136852264)]\n",
            "Timepoint 1:  [('재매개', 0.048744022846221924), ('문화콘텐츠', 0.04801653325557709), ('신과함께', 0.044735923409461975), ('콘텐츠', 0.0441570021212101), ('브랜드웹툰', 0.043276093900203705), ('트랜스미디어스토리텔링', 0.040961600840091705), ('OSMU', 0.040063321590423584), ('웹소설', 0.039147790521383286), ('트랜스미디어', 0.038398709148168564), ('매체전환', 0.03772110491991043)]\n",
            "Timepoint 2:  [('웹소설', 0.12988199293613434), ('콘텐츠', 0.12547150254249573), ('브랜드웹툰', 0.08745250105857849), ('재매개', 0.08692164719104767), ('OSMU', 0.08542163670063019), ('트랜스미디어스토리텔링', 0.08293469995260239), ('신과함께', 0.0825004130601883), ('캐릭터', 0.08160889893770218), ('트랜스미디어', 0.0770842581987381), ('일상툰', 0.07254661619663239)]\n",
            "Timepoint 3:  [('매체전환', 0.2473791241645813), ('신과함께', 0.15303285419940948), ('문화콘텐츠', 0.14527583122253418), ('트랜스미디어스토리텔링', 0.13155022263526917), ('콘텐츠', 0.04789283126592636), ('브랜드웹툰', 0.04306754469871521), ('트랜스미디어', 0.041849229484796524), ('재매개', 0.0415438674390316), ('웹소설', 0.03917015716433525), ('일상툰', 0.0375957265496254)]\n"
          ]
        },
        {
          "output_type": "error",
          "ename": "TypeError",
          "evalue": "DTModel.get_count_by_topics() takes no arguments (1 given)",
          "traceback": [
            "\u001b[0;31m---------------------------------------------------------------------------\u001b[0m",
            "\u001b[0;31mTypeError\u001b[0m                                 Traceback (most recent call last)",
            "\u001b[0;32m<ipython-input-23-dee3f318cb86>\u001b[0m in \u001b[0;36m<cell line: 97>\u001b[0;34m()\u001b[0m\n\u001b[1;32m     95\u001b[0m \u001b[0;34m\u001b[0m\u001b[0m\n\u001b[1;32m     96\u001b[0m \u001b[0;31m# DTM 모델의 토픽 비율 시각화\u001b[0m\u001b[0;34m\u001b[0m\u001b[0;34m\u001b[0m\u001b[0m\n\u001b[0;32m---> 97\u001b[0;31m \u001b[0mplot_topic_proportions\u001b[0m\u001b[0;34m(\u001b[0m\u001b[0mDTM\u001b[0m\u001b[0;34m,\u001b[0m \u001b[0mDTM\u001b[0m\u001b[0;34m.\u001b[0m\u001b[0mk\u001b[0m\u001b[0;34m,\u001b[0m \u001b[0mDTM\u001b[0m\u001b[0;34m.\u001b[0m\u001b[0mnum_timepoints\u001b[0m\u001b[0;34m)\u001b[0m\u001b[0;34m\u001b[0m\u001b[0;34m\u001b[0m\u001b[0m\n\u001b[0m",
            "\u001b[0;32m<ipython-input-23-dee3f318cb86>\u001b[0m in \u001b[0;36mplot_topic_proportions\u001b[0;34m(model, num_topics, num_timepoints)\u001b[0m\n\u001b[1;32m     81\u001b[0m         \u001b[0;32mfor\u001b[0m \u001b[0mk\u001b[0m \u001b[0;32min\u001b[0m \u001b[0mrange\u001b[0m\u001b[0;34m(\u001b[0m\u001b[0mnum_topics\u001b[0m\u001b[0;34m)\u001b[0m\u001b[0;34m:\u001b[0m\u001b[0;34m\u001b[0m\u001b[0;34m\u001b[0m\u001b[0m\n\u001b[1;32m     82\u001b[0m             \u001b[0;31m# Use get_count_by_topics with correct parameters\u001b[0m\u001b[0;34m\u001b[0m\u001b[0;34m\u001b[0m\u001b[0m\n\u001b[0;32m---> 83\u001b[0;31m             \u001b[0mtimepoint_proportions\u001b[0m\u001b[0;34m.\u001b[0m\u001b[0mappend\u001b[0m\u001b[0;34m(\u001b[0m\u001b[0mmodel\u001b[0m\u001b[0;34m.\u001b[0m\u001b[0mget_count_by_topics\u001b[0m\u001b[0;34m(\u001b[0m\u001b[0mk\u001b[0m\u001b[0;34m)\u001b[0m\u001b[0;34m[\u001b[0m\u001b[0mt\u001b[0m\u001b[0;34m]\u001b[0m\u001b[0;34m)\u001b[0m\u001b[0;34m\u001b[0m\u001b[0;34m\u001b[0m\u001b[0m\n\u001b[0m\u001b[1;32m     84\u001b[0m         \u001b[0mproportions\u001b[0m\u001b[0;34m.\u001b[0m\u001b[0mappend\u001b[0m\u001b[0;34m(\u001b[0m\u001b[0mtimepoint_proportions\u001b[0m\u001b[0;34m)\u001b[0m\u001b[0;34m\u001b[0m\u001b[0;34m\u001b[0m\u001b[0m\n\u001b[1;32m     85\u001b[0m \u001b[0;34m\u001b[0m\u001b[0m\n",
            "\u001b[0;31mTypeError\u001b[0m: DTModel.get_count_by_topics() takes no arguments (1 given)"
          ]
        }
      ]
    },
    {
      "cell_type": "code",
      "source": [
        "# 학습 결과\n",
        "DTM.summary()"
      ],
      "metadata": {
        "colab": {
          "base_uri": "https://localhost:8080/"
        },
        "id": "5tPeYkfy38DB",
        "outputId": "64d7f367-fbcc-462b-a782-7f1da6db8bfe"
      },
      "execution_count": null,
      "outputs": [
        {
          "output_type": "stream",
          "name": "stdout",
          "text": [
            "<Basic Info>\n",
            "| DTModel (current version: 0.12.7)\n",
            "| 668 docs, 167 words\n",
            "| Total Vocabs: 2433, Used Vocabs: 12\n",
            "| Entropy of words: 2.47217\n",
            "| Entropy of term-weighted words: 2.47786\n",
            "| Removed Vocabs: 만화 스토리텔링 Webtoon\n",
            "|\n",
            "<Training Info>\n",
            "| Iterations: 10000, Burn-in steps: 100\n",
            "| Optimization Interval: 10\n",
            "| Log-likelihood per word: -2.21483\n",
            "|\n",
            "<Initial Parameters>\n",
            "| tw: TermWeight.PMI\n",
            "| min_cf: 0 (minimum collection frequency of words)\n",
            "| min_df: 10 (minimum document frequency of words)\n",
            "| rm_top: 3 (the number of top words to be removed)\n",
            "| k: 10 (the number of topics between 1 ~ 32767)\n",
            "| t: 4 (the number of timpoints)\n",
            "| alpha_var: 0.1 (transition variance of alpha (per-document topic distribution))\n",
            "| eta_var: 0.1 (variance of eta (topic distribution of each document) from its alpha )\n",
            "| phi_var: 0.1 (transition variance of phi (word distribution of each topic))\n",
            "| lr_a: 0.01 (shape parameter `a` greater than zero, for SGLD step size calculated as `e_i = a * (b + i) ^ (-c)`)\n",
            "| lr_b: 0.1 (shape parameter `b` greater than or equal to zero, for SGLD step size calculated as `e_i = a * (b + i) ^ (-c)`)\n",
            "| lr_c: 0.55 (shape parameter `c` with range (0.5, 1], for SGLD step size calculated as `e_i = a * (b + i) ^ (-c)`)\n",
            "| seed: 2023 (random seed)\n",
            "| trained in version 0.12.7\n",
            "|\n",
            "<Parameters>\n",
            "| alpha (Dirichlet prior on the per-document topic distributions for each timepoint)\n",
            "|  [[ 0.08218846  0.09519041 -0.05673577 -0.02853723  0.04476929  0.03761929\n",
            "|     0.0448086  -0.00831925 -0.0421914   0.11325376]\n",
            "|   [ 0.02958144 -0.02317736  0.04082622 -0.04009615 -0.02068666  0.05348381\n",
            "|     0.01922957  0.05514544 -0.03346459 -0.06378557]\n",
            "|   [ 0.01208475 -0.00920768 -0.00145606  0.00543558 -0.01872006  0.00805158\n",
            "|     0.00943996 -0.00274199 -0.01176284 -0.01028172]\n",
            "|   [-0.02296448  0.03038936 -0.01900291 -0.03195834 -0.01404432  0.00559554\n",
            "|    -0.0062536  -0.02559917 -0.01958281  0.01824204]]\n",
            "| phi (Dirichlet prior on the per-time&topic word distribution)\n",
            "|  ...\n",
            "|\n",
            "<Topics>\n",
            "| #0 (14)\n",
            "|  t=0 (0) : 재매개 문화콘텐츠 콘텐츠 신과함께 브랜드웹툰\n",
            "|  t=1 (1) : 재매개 문화콘텐츠 콘텐츠 신과함께 브랜드웹툰\n",
            "|  t=2 (5) : 웹소설 트랜스미디어스토리텔링 캐릭터 일상툰 문화콘텐츠\n",
            "|  t=3 (8) : 콘텐츠 트랜스미디어스토리텔링 캐릭터 OSMU 일상툰\n",
            "| #1 (20)\n",
            "|  t=0 (1) : OSMU 재매개 문화콘텐츠 콘텐츠 신과함께\n",
            "|  t=1 (3) : 일상툰 OSMU 재매개 문화콘텐츠 신과함께\n",
            "|  t=2 (11) : 매체전환 신과함께 콘텐츠 브랜드웹툰 트랜스미디어\n",
            "|  t=3 (5) : 웹소설 트랜스미디어 매체전환 신과함께 문화콘텐츠\n",
            "| #2 (13)\n",
            "|  t=0 (0) : 재매개 문화콘텐츠 브랜드웹툰 신과함께 콘텐츠\n",
            "|  t=1 (0) : 재매개 문화콘텐츠 브랜드웹툰 신과함께 콘텐츠\n",
            "|  t=2 (11) : 브랜드웹툰 재매개 일상툰 트랜스미디어 콘텐츠\n",
            "|  t=3 (2) : 캐릭터 문화콘텐츠 콘텐츠 브랜드웹툰 신과함께\n",
            "| #3 (18)\n",
            "|  t=0 (0) : 문화콘텐츠 재매개 브랜드웹툰 콘텐츠 신과함께\n",
            "|  t=1 (0) : 문화콘텐츠 재매개 브랜드웹툰 콘텐츠 신과함께\n",
            "|  t=2 (13) : OSMU 신과함께 트랜스미디어 문화콘텐츠 트랜스미디어스토리텔링\n",
            "|  t=3 (5) : 일상툰 브랜드웹툰 캐릭터 문화콘텐츠 콘텐츠\n",
            "| #4 (19)\n",
            "|  t=0 (0) : 재매개 문화콘텐츠 콘텐츠 신과함께 브랜드웹툰\n",
            "|  t=1 (1) : 재매개 문화콘텐츠 콘텐츠 신과함께 브랜드웹툰\n",
            "|  t=2 (15) : 재매개 웹소설 신과함께 문화콘텐츠 콘텐츠\n",
            "|  t=3 (3) : 일상툰 콘텐츠 웹소설 문화콘텐츠 트랜스미디어스토리텔링\n",
            "| #5 (13)\n",
            "|  t=0 (1) : 매체전환 재매개 문화콘텐츠 브랜드웹툰 신과함께\n",
            "|  t=1 (0) : 재매개 문화콘텐츠 브랜드웹툰 신과함께 콘텐츠\n",
            "|  t=2 (7) : 문화콘텐츠 신과함께 매체전환 재매개 트랜스미디어스토리텔링\n",
            "|  t=3 (5) : 콘텐츠 트랜스미디어 트랜스미디어스토리텔링 문화콘텐츠 브랜드웹툰\n",
            "| #6 (17)\n",
            "|  t=0 (2) : 캐릭터 콘텐츠 재매개 문화콘텐츠 신과함께\n",
            "|  t=1 (1) : 재매개 문화콘텐츠 신과함께 브랜드웹툰 웹소설\n",
            "|  t=2 (9) : OSMU 문화콘텐츠 브랜드웹툰 트랜스미디어 콘텐츠\n",
            "|  t=3 (5) : 문화콘텐츠 트랜스미디어 매체전환 트랜스미디어스토리텔링 콘텐츠\n",
            "| #7 (23)\n",
            "|  t=0 (0) : 문화콘텐츠 재매개 콘텐츠 브랜드웹툰 신과함께\n",
            "|  t=1 (0) : 문화콘텐츠 재매개 브랜드웹툰 콘텐츠 신과함께\n",
            "|  t=2 (17) : 문화콘텐츠 신과함께 트랜스미디어스토리텔링 캐릭터 콘텐츠\n",
            "|  t=3 (6) : 트랜스미디어 매체전환 재매개 일상툰 브랜드웹툰\n",
            "| #8 (13)\n",
            "|  t=0 (1) : 캐릭터 재매개 문화콘텐츠 신과함께 브랜드웹툰\n",
            "|  t=1 (0) : 재매개 문화콘텐츠 신과함께 브랜드웹툰 OSMU\n",
            "|  t=2 (10) : 재매개 캐릭터 브랜드웹툰 트랜스미디어스토리텔링 문화콘텐츠\n",
            "|  t=3 (2) : 콘텐츠 문화콘텐츠 브랜드웹툰 재매개 신과함께\n",
            "| #9 (17)\n",
            "|  t=0 (0) : 재매개 문화콘텐츠 콘텐츠 신과함께 브랜드웹툰\n",
            "|  t=1 (0) : 재매개 문화콘텐츠 신과함께 콘텐츠 브랜드웹툰\n",
            "|  t=2 (12) : 웹소설 콘텐츠 브랜드웹툰 재매개 OSMU\n",
            "|  t=3 (5) : 매체전환 신과함께 문화콘텐츠 트랜스미디어스토리텔링 콘텐츠\n",
            "|\n",
            "\n"
          ]
        }
      ]
    },
    {
      "cell_type": "code",
      "source": [
        "import pandas as pd\n",
        "\n",
        "# Example topic evolution data from the DTM results\n",
        "topics = {\n",
        "    0: [0, 1, 5, 8],\n",
        "    1: [1, 3, 11, 5],\n",
        "    2: [0, 0, 11, 2],\n",
        "    3: [0, 0, 13, 5],\n",
        "    4: [0, 1, 15, 3],\n",
        "    5: [1, 0, 7, 5],\n",
        "    6: [2, 1, 9, 5],\n",
        "    7: [0, 0, 17, 6],\n",
        "    8: [1, 0, 10, 2],\n",
        "    9: [0, 0, 12, 5],\n",
        "}\n",
        "\n",
        "timepoints = ['2003-2010', '2011-2013', '2014-2021', '2022-2023']\n",
        "\n",
        "# Create a DataFrame for the topic proportions\n",
        "topic_df = pd.DataFrame(topics, index=timepoints)\n",
        "\n",
        "# Display the DataFrame\n",
        "print(topic_df)\n",
        "\n",
        "# Save the DataFrame to an Excel file\n",
        "output_file_path = 'topic_proportions_by_time_period.xlsx'\n",
        "topic_df.to_excel(output_file_path, index=True)\n"
      ],
      "metadata": {
        "colab": {
          "base_uri": "https://localhost:8080/"
        },
        "id": "X5LhwNa-6ZT8",
        "outputId": "1df256a6-fae7-4370-e793-5c9175acf7be"
      },
      "execution_count": null,
      "outputs": [
        {
          "output_type": "stream",
          "name": "stdout",
          "text": [
            "           0   1   2   3   4  5  6   7   8   9\n",
            "2003-2010  0   1   0   0   0  1  2   0   1   0\n",
            "2011-2013  1   3   0   0   1  0  1   0   0   0\n",
            "2014-2021  5  11  11  13  15  7  9  17  10  12\n",
            "2022-2023  8   5   2   5   3  5  5   6   2   5\n"
          ]
        }
      ]
    },
    {
      "cell_type": "code",
      "source": [
        "import matplotlib.pyplot as plt\n",
        "import pandas as pd\n",
        "\n",
        "# Example topic evolution data from the DTM results\n",
        "topics = {\n",
        "    0: [0, 1, 5, 8],\n",
        "    1: [1, 3, 11, 5],\n",
        "    2: [0, 0, 11, 2],\n",
        "    3: [0, 0, 13, 5],\n",
        "    4: [0, 1, 15, 3],\n",
        "    5: [1, 0, 7, 5],\n",
        "    6: [2, 1, 9, 5],\n",
        "    7: [0, 0, 17, 6],\n",
        "    8: [1, 0, 10, 2],\n",
        "    9: [0, 0, 12, 5],\n",
        "}\n",
        "\n",
        "timepoints = ['2003-2010', '2011-2013', '2014-2021', '2022-2023']\n",
        "\n",
        "# Create a DataFrame for the topic proportions\n",
        "topic_df = pd.DataFrame(topics, index=timepoints)\n",
        "\n",
        "# Plotting the topic proportions for each time period separately\n",
        "for i, timepoint in enumerate(timepoints):\n",
        "    plt.figure(figsize=(10, 6))\n",
        "    topic_df.iloc[i].plot(kind='bar', colormap='tab20', alpha=0.7)\n",
        "    plt.title(f'Topic Proportions for {timepoint}')\n",
        "    plt.xlabel('Topic')\n",
        "    plt.ylabel('Proportion')\n",
        "    plt.xticks(rotation=0)\n",
        "    plt.tight_layout()\n",
        "\n",
        "    # Save each plot as a separate image file\n",
        "    output_image_path = f'topic_proportions_{timepoint}.png'\n",
        "    plt.savefig(output_image_path)\n",
        "\n",
        "    # Display the plot\n",
        "    plt.show()\n"
      ],
      "metadata": {
        "colab": {
          "base_uri": "https://localhost:8080/",
          "height": 1000
        },
        "id": "wW_ya8x65qWy",
        "outputId": "413ff027-55f4-4c09-e7bb-36c5049ffadb"
      },
      "execution_count": null,
      "outputs": [
        {
          "output_type": "display_data",
          "data": {
            "text/plain": [
              "<Figure size 1000x600 with 1 Axes>"
            ],
            "image/png": "[encoded data removed]"
          },
          "metadata": {}
        },
        {
          "output_type": "display_data",
          "data": {
            "text/plain": [
              "<Figure size 1000x600 with 1 Axes>"
            ],
            "image/png": "[encoded data removed]"
          },
          "metadata": {}
        },
        {
          "output_type": "display_data",
          "data": {
            "text/plain": [
              "<Figure size 1000x600 with 1 Axes>"
            ],
            "image/png": "[encoded data removed]"
          },
          "metadata": {}
        },
        {
          "output_type": "display_data",
          "data": {
            "text/plain": [
              "<Figure size 1000x600 with 1 Axes>"
            ],
            "image/png": "[encoded data removed]"
          },
          "metadata": {}
        }
      ]
    },
    {
      "cell_type": "code",
      "source": [
        "import matplotlib.pyplot as plt\n",
        "\n",
        "# 각 토픽의 시간에 따른 변화를 시각화\n",
        "topic_evolution = {k: [] for k in range(DTM.k)}\n",
        "\n",
        "for t in range(DTM.num_timepoints):\n",
        "    for k in range(DTM.k):\n",
        "        topic_words = DTM.get_topic_words(k, top_n=10, timepoint=t)\n",
        "        topic_evolution[k].append(topic_words)\n",
        "\n",
        "# 예시: 첫 번째 토픽의 시간에 따른 변화 시각화\n",
        "for k, words in topic_evolution.items():\n",
        "    print(f'Topic #{k}')\n",
        "    for t, word_list in enumerate(words):\n",
        "        print(f'Timepoint {t}: {word_list}')\n",
        "\n",
        "# 토픽의 비율을 시간에 따라 시각화하는 함수\n",
        "def plot_topic_proportions(model, num_topics, num_timepoints):\n",
        "    proportions = []\n",
        "    for t in range(num_timepoints):\n",
        "        timepoint_proportions = []\n",
        "        for k in range(num_topics):\n",
        "            timepoint_proportions.append(sum(model.get_count_by_topics(k, timepoint=t)))\n",
        "        proportions.append(timepoint_proportions)\n",
        "\n",
        "    proportions = np.array(proportions).T\n",
        "\n",
        "    for k in range(num_topics):\n",
        "        plt.plot(range(num_timepoints), proportions[k], label=f'Topic {k}')\n",
        "\n",
        "    plt.xlabel('Timepoint')\n",
        "    plt.ylabel('Proportion')\n",
        "    plt.legend()\n",
        "    plt.show()\n",
        "\n",
        "# DTM 모델의 토픽 비율 시각화\n",
        "plot_topic_proportions(DTM, DTM.k, DTM.num_timepoints)\n"
      ],
      "metadata": {
        "colab": {
          "base_uri": "https://localhost:8080/",
          "height": 1000
        },
        "id": "atY9H5FhlTbr",
        "outputId": "52c5094a-c985-4c82-e2c1-49c809936b18"
      },
      "execution_count": null,
      "outputs": [
        {
          "output_type": "stream",
          "name": "stdout",
          "text": [
            "Topic #0\n",
            "Timepoint 0: []\n",
            "Timepoint 1: []\n",
            "Timepoint 2: []\n",
            "Timepoint 3: []\n",
            "Topic #1\n",
            "Timepoint 0: []\n",
            "Timepoint 1: []\n",
            "Timepoint 2: []\n",
            "Timepoint 3: []\n",
            "Topic #2\n",
            "Timepoint 0: []\n",
            "Timepoint 1: []\n",
            "Timepoint 2: []\n",
            "Timepoint 3: []\n",
            "Topic #3\n",
            "Timepoint 0: []\n",
            "Timepoint 1: []\n",
            "Timepoint 2: []\n",
            "Timepoint 3: []\n",
            "Topic #4\n",
            "Timepoint 0: []\n",
            "Timepoint 1: []\n",
            "Timepoint 2: []\n",
            "Timepoint 3: []\n",
            "Topic #5\n",
            "Timepoint 0: []\n",
            "Timepoint 1: []\n",
            "Timepoint 2: []\n",
            "Timepoint 3: []\n",
            "Topic #6\n",
            "Timepoint 0: []\n",
            "Timepoint 1: []\n",
            "Timepoint 2: []\n",
            "Timepoint 3: []\n",
            "Topic #7\n",
            "Timepoint 0: []\n",
            "Timepoint 1: []\n",
            "Timepoint 2: []\n",
            "Timepoint 3: []\n",
            "Topic #8\n",
            "Timepoint 0: []\n",
            "Timepoint 1: []\n",
            "Timepoint 2: []\n",
            "Timepoint 3: []\n",
            "Topic #9\n",
            "Timepoint 0: []\n",
            "Timepoint 1: []\n",
            "Timepoint 2: []\n",
            "Timepoint 3: []\n"
          ]
        },
        {
          "output_type": "error",
          "ename": "TypeError",
          "evalue": "DTModel.get_count_by_topics() takes no keyword arguments",
          "traceback": [
            "\u001b[0;31m---------------------------------------------------------------------------\u001b[0m",
            "\u001b[0;31mTypeError\u001b[0m                                 Traceback (most recent call last)",
            "\u001b[0;32m<ipython-input-22-5a55c3002138>\u001b[0m in \u001b[0;36m<cell line: 37>\u001b[0;34m()\u001b[0m\n\u001b[1;32m     35\u001b[0m \u001b[0;34m\u001b[0m\u001b[0m\n\u001b[1;32m     36\u001b[0m \u001b[0;31m# DTM 모델의 토픽 비율 시각화\u001b[0m\u001b[0;34m\u001b[0m\u001b[0;34m\u001b[0m\u001b[0m\n\u001b[0;32m---> 37\u001b[0;31m \u001b[0mplot_topic_proportions\u001b[0m\u001b[0;34m(\u001b[0m\u001b[0mDTM\u001b[0m\u001b[0;34m,\u001b[0m \u001b[0mDTM\u001b[0m\u001b[0;34m.\u001b[0m\u001b[0mk\u001b[0m\u001b[0;34m,\u001b[0m \u001b[0mDTM\u001b[0m\u001b[0;34m.\u001b[0m\u001b[0mnum_timepoints\u001b[0m\u001b[0;34m)\u001b[0m\u001b[0;34m\u001b[0m\u001b[0;34m\u001b[0m\u001b[0m\n\u001b[0m",
            "\u001b[0;32m<ipython-input-22-5a55c3002138>\u001b[0m in \u001b[0;36mplot_topic_proportions\u001b[0;34m(model, num_topics, num_timepoints)\u001b[0m\n\u001b[1;32m     21\u001b[0m         \u001b[0mtimepoint_proportions\u001b[0m \u001b[0;34m=\u001b[0m \u001b[0;34m[\u001b[0m\u001b[0;34m]\u001b[0m\u001b[0;34m\u001b[0m\u001b[0;34m\u001b[0m\u001b[0m\n\u001b[1;32m     22\u001b[0m         \u001b[0;32mfor\u001b[0m \u001b[0mk\u001b[0m \u001b[0;32min\u001b[0m \u001b[0mrange\u001b[0m\u001b[0;34m(\u001b[0m\u001b[0mnum_topics\u001b[0m\u001b[0;34m)\u001b[0m\u001b[0;34m:\u001b[0m\u001b[0;34m\u001b[0m\u001b[0;34m\u001b[0m\u001b[0m\n\u001b[0;32m---> 23\u001b[0;31m             \u001b[0mtimepoint_proportions\u001b[0m\u001b[0;34m.\u001b[0m\u001b[0mappend\u001b[0m\u001b[0;34m(\u001b[0m\u001b[0msum\u001b[0m\u001b[0;34m(\u001b[0m\u001b[0mmodel\u001b[0m\u001b[0;34m.\u001b[0m\u001b[0mget_count_by_topics\u001b[0m\u001b[0;34m(\u001b[0m\u001b[0mk\u001b[0m\u001b[0;34m,\u001b[0m \u001b[0mtimepoint\u001b[0m\u001b[0;34m=\u001b[0m\u001b[0mt\u001b[0m\u001b[0;34m)\u001b[0m\u001b[0;34m)\u001b[0m\u001b[0;34m)\u001b[0m\u001b[0;34m\u001b[0m\u001b[0;34m\u001b[0m\u001b[0m\n\u001b[0m\u001b[1;32m     24\u001b[0m         \u001b[0mproportions\u001b[0m\u001b[0;34m.\u001b[0m\u001b[0mappend\u001b[0m\u001b[0;34m(\u001b[0m\u001b[0mtimepoint_proportions\u001b[0m\u001b[0;34m)\u001b[0m\u001b[0;34m\u001b[0m\u001b[0;34m\u001b[0m\u001b[0m\n\u001b[1;32m     25\u001b[0m \u001b[0;34m\u001b[0m\u001b[0m\n",
            "\u001b[0;31mTypeError\u001b[0m: DTModel.get_count_by_topics() takes no keyword arguments"
          ]
        }
      ]
    },
    {
      "cell_type": "code",
      "source": [],
      "metadata": {
        "id": "ouYlckHKk5W5"
      },
      "execution_count": null,
      "outputs": []
    },
    {
      "cell_type": "markdown",
      "metadata": {
        "id": "ib4VlmrZ8dyd"
      },
      "source": [
        "##### 모델 초기화"
      ]
    },
    {
      "cell_type": "code",
      "metadata": {
        "id": "ZBhL0d4c8f_1"
      },
      "source": [
        "# t = 3 이면 3개의 시기에 대한 DTM\n",
        "DTM = tp.DTModel(k=10,min_df=10,tw=tp.TermWeight.PMI,t=4,rm_top=3, seed=2023) # 이번엔 PMI"
      ],
      "execution_count": null,
      "outputs": []
    },
    {
      "cell_type": "markdown",
      "metadata": {
        "id": "KGJMHMsw8tfa"
      },
      "source": [
        "##### 빈 모델에 토큰 리스트와 시간변수 넣어주기"
      ]
    },
    {
      "cell_type": "code",
      "metadata": {
        "id": "jwUlPmU08rvz",
        "colab": {
          "base_uri": "https://localhost:8080/",
          "height": 323
        },
        "outputId": "20905a45-d7c6-411a-b5b4-b096d108b428"
      },
      "source": [
        "token_year_dict = df[['token','year']].to_dict('index')"
      ],
      "execution_count": null,
      "outputs": [
        {
          "output_type": "error",
          "ename": "KeyError",
          "evalue": "\"['season'] not in index\"",
          "traceback": [
            "\u001b[0;31m---------------------------------------------------------------------------\u001b[0m",
            "\u001b[0;31mKeyError\u001b[0m                                  Traceback (most recent call last)",
            "\u001b[0;32m<ipython-input-108-46b3e7cde3d4>\u001b[0m in \u001b[0;36m<cell line: 1>\u001b[0;34m()\u001b[0m\n\u001b[0;32m----> 1\u001b[0;31m \u001b[0mtoken_year_dict\u001b[0m \u001b[0;34m=\u001b[0m \u001b[0mdf\u001b[0m\u001b[0;34m[\u001b[0m\u001b[0;34m[\u001b[0m\u001b[0;34m'token'\u001b[0m\u001b[0;34m,\u001b[0m\u001b[0;34m'season'\u001b[0m\u001b[0;34m]\u001b[0m\u001b[0;34m]\u001b[0m\u001b[0;34m.\u001b[0m\u001b[0mto_dict\u001b[0m\u001b[0;34m(\u001b[0m\u001b[0;34m'index'\u001b[0m\u001b[0;34m)\u001b[0m\u001b[0;34m\u001b[0m\u001b[0;34m\u001b[0m\u001b[0m\n\u001b[0m",
            "\u001b[0;32m/usr/local/lib/python3.10/dist-packages/pandas/core/frame.py\u001b[0m in \u001b[0;36m__getitem__\u001b[0;34m(self, key)\u001b[0m\n\u001b[1;32m   3765\u001b[0m             \u001b[0;32mif\u001b[0m \u001b[0mis_iterator\u001b[0m\u001b[0;34m(\u001b[0m\u001b[0mkey\u001b[0m\u001b[0;34m)\u001b[0m\u001b[0;34m:\u001b[0m\u001b[0;34m\u001b[0m\u001b[0;34m\u001b[0m\u001b[0m\n\u001b[1;32m   3766\u001b[0m                 \u001b[0mkey\u001b[0m \u001b[0;34m=\u001b[0m \u001b[0mlist\u001b[0m\u001b[0;34m(\u001b[0m\u001b[0mkey\u001b[0m\u001b[0;34m)\u001b[0m\u001b[0;34m\u001b[0m\u001b[0;34m\u001b[0m\u001b[0m\n\u001b[0;32m-> 3767\u001b[0;31m             \u001b[0mindexer\u001b[0m \u001b[0;34m=\u001b[0m \u001b[0mself\u001b[0m\u001b[0;34m.\u001b[0m\u001b[0mcolumns\u001b[0m\u001b[0;34m.\u001b[0m\u001b[0m_get_indexer_strict\u001b[0m\u001b[0;34m(\u001b[0m\u001b[0mkey\u001b[0m\u001b[0;34m,\u001b[0m \u001b[0;34m\"columns\"\u001b[0m\u001b[0;34m)\u001b[0m\u001b[0;34m[\u001b[0m\u001b[0;36m1\u001b[0m\u001b[0;34m]\u001b[0m\u001b[0;34m\u001b[0m\u001b[0;34m\u001b[0m\u001b[0m\n\u001b[0m\u001b[1;32m   3768\u001b[0m \u001b[0;34m\u001b[0m\u001b[0m\n\u001b[1;32m   3769\u001b[0m         \u001b[0;31m# take() does not accept boolean indexers\u001b[0m\u001b[0;34m\u001b[0m\u001b[0;34m\u001b[0m\u001b[0m\n",
            "\u001b[0;32m/usr/local/lib/python3.10/dist-packages/pandas/core/indexes/base.py\u001b[0m in \u001b[0;36m_get_indexer_strict\u001b[0;34m(self, key, axis_name)\u001b[0m\n\u001b[1;32m   5875\u001b[0m             \u001b[0mkeyarr\u001b[0m\u001b[0;34m,\u001b[0m \u001b[0mindexer\u001b[0m\u001b[0;34m,\u001b[0m \u001b[0mnew_indexer\u001b[0m \u001b[0;34m=\u001b[0m \u001b[0mself\u001b[0m\u001b[0;34m.\u001b[0m\u001b[0m_reindex_non_unique\u001b[0m\u001b[0;34m(\u001b[0m\u001b[0mkeyarr\u001b[0m\u001b[0;34m)\u001b[0m\u001b[0;34m\u001b[0m\u001b[0;34m\u001b[0m\u001b[0m\n\u001b[1;32m   5876\u001b[0m \u001b[0;34m\u001b[0m\u001b[0m\n\u001b[0;32m-> 5877\u001b[0;31m         \u001b[0mself\u001b[0m\u001b[0;34m.\u001b[0m\u001b[0m_raise_if_missing\u001b[0m\u001b[0;34m(\u001b[0m\u001b[0mkeyarr\u001b[0m\u001b[0;34m,\u001b[0m \u001b[0mindexer\u001b[0m\u001b[0;34m,\u001b[0m \u001b[0maxis_name\u001b[0m\u001b[0;34m)\u001b[0m\u001b[0;34m\u001b[0m\u001b[0;34m\u001b[0m\u001b[0m\n\u001b[0m\u001b[1;32m   5878\u001b[0m \u001b[0;34m\u001b[0m\u001b[0m\n\u001b[1;32m   5879\u001b[0m         \u001b[0mkeyarr\u001b[0m \u001b[0;34m=\u001b[0m \u001b[0mself\u001b[0m\u001b[0;34m.\u001b[0m\u001b[0mtake\u001b[0m\u001b[0;34m(\u001b[0m\u001b[0mindexer\u001b[0m\u001b[0;34m)\u001b[0m\u001b[0;34m\u001b[0m\u001b[0;34m\u001b[0m\u001b[0m\n",
            "\u001b[0;32m/usr/local/lib/python3.10/dist-packages/pandas/core/indexes/base.py\u001b[0m in \u001b[0;36m_raise_if_missing\u001b[0;34m(self, key, indexer, axis_name)\u001b[0m\n\u001b[1;32m   5939\u001b[0m \u001b[0;34m\u001b[0m\u001b[0m\n\u001b[1;32m   5940\u001b[0m             \u001b[0mnot_found\u001b[0m \u001b[0;34m=\u001b[0m \u001b[0mlist\u001b[0m\u001b[0;34m(\u001b[0m\u001b[0mensure_index\u001b[0m\u001b[0;34m(\u001b[0m\u001b[0mkey\u001b[0m\u001b[0;34m)\u001b[0m\u001b[0;34m[\u001b[0m\u001b[0mmissing_mask\u001b[0m\u001b[0;34m.\u001b[0m\u001b[0mnonzero\u001b[0m\u001b[0;34m(\u001b[0m\u001b[0;34m)\u001b[0m\u001b[0;34m[\u001b[0m\u001b[0;36m0\u001b[0m\u001b[0;34m]\u001b[0m\u001b[0;34m]\u001b[0m\u001b[0;34m.\u001b[0m\u001b[0munique\u001b[0m\u001b[0;34m(\u001b[0m\u001b[0;34m)\u001b[0m\u001b[0;34m)\u001b[0m\u001b[0;34m\u001b[0m\u001b[0;34m\u001b[0m\u001b[0m\n\u001b[0;32m-> 5941\u001b[0;31m             \u001b[0;32mraise\u001b[0m \u001b[0mKeyError\u001b[0m\u001b[0;34m(\u001b[0m\u001b[0;34mf\"{not_found} not in index\"\u001b[0m\u001b[0;34m)\u001b[0m\u001b[0;34m\u001b[0m\u001b[0;34m\u001b[0m\u001b[0m\n\u001b[0m\u001b[1;32m   5942\u001b[0m \u001b[0;34m\u001b[0m\u001b[0m\n\u001b[1;32m   5943\u001b[0m     \u001b[0;34m@\u001b[0m\u001b[0moverload\u001b[0m\u001b[0;34m\u001b[0m\u001b[0;34m\u001b[0m\u001b[0m\n",
            "\u001b[0;31mKeyError\u001b[0m: \"['season'] not in index\""
          ]
        }
      ]
    },
    {
      "cell_type": "code",
      "metadata": {
        "id": "3bGdB_6Q8tKf",
        "colab": {
          "base_uri": "https://localhost:8080/",
          "height": 187
        },
        "outputId": "98d4757c-8061-4d12-85cf-005be1067c9d"
      },
      "source": [
        "for k in tqdm(token_year_dict.keys()):\n",
        "    DTM.add_doc(token_year_dict[k]['token'],token_year_dict[k]['year'])"
      ],
      "execution_count": null,
      "outputs": [
        {
          "output_type": "stream",
          "name": "stderr",
          "text": [
            "  0%|          | 0/670 [00:00<?, ?it/s]\n"
          ]
        },
        {
          "output_type": "error",
          "ename": "KeyError",
          "evalue": "'year'",
          "traceback": [
            "\u001b[0;31m---------------------------------------------------------------------------\u001b[0m",
            "\u001b[0;31mKeyError\u001b[0m                                  Traceback (most recent call last)",
            "\u001b[0;32m<ipython-input-113-0c6578c14d26>\u001b[0m in \u001b[0;36m<cell line: 1>\u001b[0;34m()\u001b[0m\n\u001b[1;32m      1\u001b[0m \u001b[0;32mfor\u001b[0m \u001b[0mk\u001b[0m \u001b[0;32min\u001b[0m \u001b[0mtqdm\u001b[0m\u001b[0;34m(\u001b[0m\u001b[0mtoken_year_dict\u001b[0m\u001b[0;34m.\u001b[0m\u001b[0mkeys\u001b[0m\u001b[0;34m(\u001b[0m\u001b[0;34m)\u001b[0m\u001b[0;34m)\u001b[0m\u001b[0;34m:\u001b[0m\u001b[0;34m\u001b[0m\u001b[0;34m\u001b[0m\u001b[0m\n\u001b[0;32m----> 2\u001b[0;31m     \u001b[0mDTM\u001b[0m\u001b[0;34m.\u001b[0m\u001b[0madd_doc\u001b[0m\u001b[0;34m(\u001b[0m\u001b[0mtoken_year_dict\u001b[0m\u001b[0;34m[\u001b[0m\u001b[0mk\u001b[0m\u001b[0;34m]\u001b[0m\u001b[0;34m[\u001b[0m\u001b[0;34m'token'\u001b[0m\u001b[0;34m]\u001b[0m\u001b[0;34m,\u001b[0m\u001b[0mtoken_year_dict\u001b[0m\u001b[0;34m[\u001b[0m\u001b[0mk\u001b[0m\u001b[0;34m]\u001b[0m\u001b[0;34m[\u001b[0m\u001b[0;34m'year'\u001b[0m\u001b[0;34m]\u001b[0m\u001b[0;34m)\u001b[0m\u001b[0;34m\u001b[0m\u001b[0;34m\u001b[0m\u001b[0m\n\u001b[0m",
            "\u001b[0;31mKeyError\u001b[0m: 'year'"
          ]
        }
      ]
    },
    {
      "cell_type": "markdown",
      "metadata": {
        "id": "wT3HpL_n84TH"
      },
      "source": [
        "##### 모델 학습"
      ]
    },
    {
      "cell_type": "code",
      "metadata": {
        "id": "GCd_G55v81nd",
        "colab": {
          "base_uri": "https://localhost:8080/"
        },
        "outputId": "31d1af45-df5b-44b4-d5d9-dc1cc49ca575"
      },
      "source": [
        "# 학습 준비\n",
        "DTM.train(0)"
      ],
      "execution_count": null,
      "outputs": [
        {
          "output_type": "stream",
          "name": "stderr",
          "text": [
            "<ipython-input-28-1e51450c568d>:2: RuntimeWarning: The training result may differ even with fixed seed if `workers` != 1.\n",
            "  DTM.train(0)\n"
          ]
        }
      ]
    },
    {
      "cell_type": "code",
      "metadata": {
        "id": "CtJo3tzC9blM",
        "colab": {
          "base_uri": "https://localhost:8080/"
        },
        "outputId": "9c7e1b53-6ca8-483b-c96f-8023a39207c4"
      },
      "source": [
        "# 한번에 20회씩 총 500회 학습\n",
        "print('Num docs:', len(DTM.docs), ', Vocab size:', DTM.num_vocabs, ', Num words:', DTM.num_words)\n",
        "print('Removed top words:', DTM.removed_top_words)\n",
        "print('Training...', file=sys.stderr, flush=True)\n",
        "for i in range(0, 500, 20):\n",
        "    DTM.train(20)\n",
        "    print('Iteration: {}\\tLog-likelihood: {}'.format(i, DTM.ll_per_word))"
      ],
      "execution_count": null,
      "outputs": [
        {
          "output_type": "stream",
          "name": "stderr",
          "text": [
            "Training...\n"
          ]
        },
        {
          "output_type": "stream",
          "name": "stdout",
          "text": [
            "Num docs: 4293 , Vocab size: 7143 , Num words: 697124\n",
            "Removed top words: ['청년', '지원', '청년들']\n"
          ]
        },
        {
          "output_type": "stream",
          "name": "stderr",
          "text": [
            "<ipython-input-29-82b1bd76fb40>:6: RuntimeWarning: The training result may differ even with fixed seed if `workers` != 1.\n",
            "  DTM.train(20)\n"
          ]
        },
        {
          "output_type": "stream",
          "name": "stdout",
          "text": [
            "Iteration: 0\tLog-likelihood: -10.619397421508518\n",
            "Iteration: 20\tLog-likelihood: -10.480239789735135\n",
            "Iteration: 40\tLog-likelihood: -10.34439294625252\n",
            "Iteration: 60\tLog-likelihood: -10.21105128207192\n",
            "Iteration: 80\tLog-likelihood: -10.078347234425179\n",
            "Iteration: 100\tLog-likelihood: -9.957610298510374\n",
            "Iteration: 120\tLog-likelihood: -9.842536405884974\n",
            "Iteration: 140\tLog-likelihood: -9.738250474837134\n",
            "Iteration: 160\tLog-likelihood: -9.641060626290018\n",
            "Iteration: 180\tLog-likelihood: -9.550622300750309\n",
            "Iteration: 200\tLog-likelihood: -9.46786546141287\n",
            "Iteration: 220\tLog-likelihood: -9.39215395564002\n",
            "Iteration: 240\tLog-likelihood: -9.325857446494531\n",
            "Iteration: 260\tLog-likelihood: -9.262964052595871\n",
            "Iteration: 280\tLog-likelihood: -9.205074269862905\n",
            "Iteration: 300\tLog-likelihood: -9.153056429687004\n",
            "Iteration: 320\tLog-likelihood: -9.10672920834332\n",
            "Iteration: 340\tLog-likelihood: -9.062193698948795\n",
            "Iteration: 360\tLog-likelihood: -9.021545188286243\n",
            "Iteration: 380\tLog-likelihood: -8.985728676635423\n",
            "Iteration: 400\tLog-likelihood: -8.951975395989232\n",
            "Iteration: 420\tLog-likelihood: -8.920965922947504\n",
            "Iteration: 440\tLog-likelihood: -8.89301005125365\n",
            "Iteration: 460\tLog-likelihood: -8.868114610009885\n",
            "Iteration: 480\tLog-likelihood: -8.8412662294138\n"
          ]
        }
      ]
    },
    {
      "cell_type": "code",
      "metadata": {
        "id": "EF-ThDrz9epC",
        "colab": {
          "base_uri": "https://localhost:8080/"
        },
        "outputId": "3ac90055-6d83-40b2-9708-79dbe344c66c"
      },
      "source": [
        "# 학습 결과\n",
        "DTM.summary()"
      ],
      "execution_count": null,
      "outputs": [
        {
          "output_type": "stream",
          "name": "stdout",
          "text": [
            "<Basic Info>\n",
            "| DTModel (current version: 0.12.7)\n",
            "| 4293 docs, 697124 words\n",
            "| Total Vocabs: 63776, Used Vocabs: 7143\n",
            "| Entropy of words: 7.86104\n",
            "| Entropy of term-weighted words: 8.30235\n",
            "| Removed Vocabs: 청년 지원 청년들\n",
            "|\n",
            "<Training Info>\n",
            "| Iterations: 500, Burn-in steps: 0\n",
            "| Optimization Interval: 10\n",
            "| Log-likelihood per word: -8.84127\n",
            "|\n",
            "<Initial Parameters>\n",
            "| tw: TermWeight.PMI\n",
            "| min_cf: 0 (minimum collection frequency of words)\n",
            "| min_df: 10 (minimum document frequency of words)\n",
            "| rm_top: 3 (the number of top words to be removed)\n",
            "| k: 10 (the number of topics between 1 ~ 32767)\n",
            "| t: 3 (the number of timpoints)\n",
            "| alpha_var: 0.1 (transition variance of alpha (per-document topic distribution))\n",
            "| eta_var: 0.1 (variance of eta (topic distribution of each document) from its alpha )\n",
            "| phi_var: 0.1 (transition variance of phi (word distribution of each topic))\n",
            "| lr_a: 0.01 (shape parameter `a` greater than zero, for SGLD step size calculated as `e_i = a * (b + i) ^ (-c)`)\n",
            "| lr_b: 0.1 (shape parameter `b` greater than or equal to zero, for SGLD step size calculated as `e_i = a * (b + i) ^ (-c)`)\n",
            "| lr_c: 0.55 (shape parameter `c` with range (0.5, 1], for SGLD step size calculated as `e_i = a * (b + i) ^ (-c)`)\n",
            "| seed: 2021 (random seed)\n",
            "| trained in version 0.12.7\n",
            "|\n",
            "<Parameters>\n",
            "| alpha (Dirichlet prior on the per-document topic distributions for each timepoint)\n",
            "|  [[-0.13031694  0.08493707 -0.05059273  0.21005741  0.17178927  0.5005374\n",
            "|    -0.04897497 -0.13831711 -0.10171549 -0.43456402]\n",
            "|   [ 0.29302195 -0.1898808  -0.4516306   0.18391058  0.39627212  0.66159815\n",
            "|     0.07988285 -0.38879222  0.03064429 -0.608387  ]\n",
            "|   [-0.02455014  0.09734755 -0.4014993   0.12128137 -0.18792257  0.17426027\n",
            "|    -0.10836548  0.07575364  0.3925483  -0.13883308]]\n",
            "| phi (Dirichlet prior on the per-time&topic word distribution)\n",
            "|  ...\n",
            "|\n",
            "<Topics>\n",
            "| #0 (67732)\n",
            "|  t=0 (19075) : 가구 월세 총장 A씨 사고\n",
            "|  t=1 (30152) : 가입 신청 소득 예산 월세\n",
            "|  t=2 (18505) : 대통령 일본 양국 정부 세대\n",
            "| #1 (56225)\n",
            "|  t=0 (21721) : 의원 지사 지급 공약 기본\n",
            "|  t=1 (13034) : 자립 서울시 고용 아동 준비\n",
            "|  t=2 (21470) : 요금 데이터 대회 탈모 요금제\n",
            "| #2 (37438)\n",
            "|  t=0 (19953) : 일자리 기업 프로젝트 정부 고용\n",
            "|  t=1 (7761) : 당선인 기업 부산 사업 부산시\n",
            "|  t=2 (9724) : 가족 공간 이스라엘 정책 문화\n",
            "| #3 (84193)\n",
            "|  t=0 (29792) : 주택 공급 채용 주거 코로나19\n",
            "|  t=1 (29039) : 주택 공급 가구 농업 분양\n",
            "|  t=2 (25362) : 취업 주택 채용 공급 임대\n",
            "| #4 (84898)\n",
            "|  t=0 (32775) : 교육 사업 서울시 분야 프로그램\n",
            "|  t=1 (36110) : 취업 일자리 기업 교육 프로그램\n",
            "|  t=2 (16013) : 노조 노동자 의원 시간 금리\n",
            "| #5 (144663)\n",
            "|  t=0 (56126) : 후보 대표 국민 세대 정치\n",
            "|  t=1 (55991) : 후보 대표 정치 대선 대통령\n",
            "|  t=2 (32546) : 고립 은둔 민주당 의원 정치\n",
            "| #6 (62055)\n",
            "|  t=0 (21206) : 여성 지역 남성 문화 미얀마\n",
            "|  t=1 (23381) : 지역 지방 인수위 A씨 정책\n",
            "|  t=2 (17468) : 전세 사기 A씨 대출 경찰\n",
            "| #7 (54436)\n",
            "|  t=0 (18962) : 창업 취업 준비 고용 공제\n",
            "|  t=1 (9265) : 창업 미국 한국 사진 인구\n",
            "|  t=2 (26209) : 한국 예산 결혼 인구 지역\n",
            "| #8 (75709)\n",
            "|  t=0 (20771) : 대출 대통령 청와대 뉴딜 정부\n",
            "|  t=1 (21406) : 대출 금융 증가 전세 작가\n",
            "|  t=2 (33532) : 취업자 고용 사업 일자리 증가\n",
            "| #9 (29775)\n",
            "|  t=0 (9215) : 중국 원장 변호사 대변인 플랫폼\n",
            "|  t=1 (5126) : 중국 대변인 변호사 식당 경기도\n",
            "|  t=2 (15434) : 중국 창업 자립 경기도 실업\n",
            "|\n",
            "\n"
          ]
        }
      ]
    },
    {
      "cell_type": "markdown",
      "metadata": {
        "id": "OkTYhtS9-OMd"
      },
      "source": [
        "##### 토픽별 TopN 단어 확인"
      ]
    },
    {
      "cell_type": "code",
      "metadata": {
        "id": "IwV6jqX4-Q9R",
        "colab": {
          "base_uri": "https://localhost:8080/"
        },
        "outputId": "cccffaef-1af0-4f8b-9d89-8c6de64b412e"
      },
      "source": [
        "for i in range(DTM.k):\n",
        "    for t in range(3):\n",
        "        res = DTM.get_topic_words(i,t,top_n=10)\n",
        "        print('Topic #{}'.format(i), end='\\t')\n",
        "        print(', '.join(w for w, p in res))"
      ],
      "execution_count": null,
      "outputs": [
        {
          "output_type": "stream",
          "name": "stdout",
          "text": [
            "Topic #0\t가구, 월세, 총장, A씨, 사고, 피해자, 아버지, 사건, 간병, 통장\n",
            "Topic #0\t가입, 신청, 소득, 예산, 월세, 적금, 청년희망적금, 은행, 정부, 대통령실\n",
            "Topic #0\t대통령, 일본, 양국, 정부, 세대, 광주, 미래, 지역, 대통령실, 혁신\n",
            "Topic #1\t의원, 지사, 지급, 공약, 기본, 소득, 캠프, 이재명, 대선, 경기도\n",
            "Topic #1\t자립, 서울시, 고용, 아동, 준비, 지급, 시설, 복지, 1인, 영화\n",
            "Topic #1\t요금, 데이터, 대회, 탈모, 요금제, 혜택, 청년도약계좌, 출시, 가입, 제공\n",
            "Topic #2\t일자리, 기업, 프로젝트, 정부, 고용, 채용, 회장, 창출, 사업, 중소기업\n",
            "Topic #2\t당선인, 기업, 부산, 사업, 부산시, 선정, 공간, 임금, 가족, 장관\n",
            "Topic #2\t가족, 공간, 이스라엘, 정책, 문화, 부산, 토사물, 작품, 주민, 인간\n",
            "Topic #3\t주택, 공급, 채용, 주거, 코로나19, 신혼부부, 임대, 부동산, 가구, 공공\n",
            "Topic #3\t주택, 공급, 가구, 농업, 분양, 공공, 임대, 스마트, 청약, 신혼부부\n",
            "Topic #3\t취업, 주택, 채용, 공급, 임대, 프로그램, 신혼부부, 기관, 농업, 해외\n",
            "Topic #4\t교육, 사업, 서울시, 분야, 프로그램, 예산, 인재, 스타트업, 기후, 참여\n",
            "Topic #4\t취업, 일자리, 기업, 교육, 프로그램, 인재, 대학, 운영, 채용, 산업\n",
            "Topic #4\t노조, 노동자, 의원, 시간, 금리, 노동, 은행, 의견, 인재, 정부\n",
            "Topic #5\t후보, 대표, 국민, 세대, 정치, 민주당, 선대위, 대선, 선거, 이준석\n",
            "Topic #5\t후보, 대표, 정치, 대선, 대통령, 위원장, 국민, 선거, 민주당, 여성\n",
            "Topic #5\t고립, 은둔, 민주당, 의원, 정치, 국민, 대표, 최고, 현수막, 정치인\n",
            "Topic #6\t여성, 지역, 남성, 문화, 미얀마, 공간, 사회, 장애인, 백신, 시민\n",
            "Topic #6\t지역, 지방, 인수위, A씨, 정책, 응답, 일자리, 수도권, 문화, 토론\n",
            "Topic #6\t전세, 사기, A씨, 대출, 경찰, 보증금, 피해, 혐의, 허위, 대출금\n",
            "Topic #7\t창업, 취업, 준비, 고용, 공제, 시험, 코로나19, 자격증, 직장, 공무원\n",
            "Topic #7\t창업, 미국, 한국, 사진, 인구, 보험, 직장, 세계, 사업, 공제\n",
            "Topic #7\t한국, 예산, 결혼, 인구, 지역, 미국, 삭감, 출산, 수도, 나이\n",
            "Topic #8\t대출, 대통령, 청와대, 뉴딜, 정부, 고소, 투자, 경찰, 작가, 연장\n",
            "Topic #8\t대출, 금융, 증가, 전세, 작가, 보증금, 취업자, 금리, 상환, 채무\n",
            "Topic #8\t취업자, 고용, 사업, 일자리, 증가, 감소, 인구, 금융, 지난달, 1년\n",
            "Topic #9\t중국, 원장, 변호사, 대변인, 플랫폼, 영상, 입당, 전화, 국민, 유튜브\n",
            "Topic #9\t중국, 대변인, 변호사, 식당, 경기도, 영상, 시작, 대만, 올림픽, 요리\n",
            "Topic #9\t중국, 창업, 자립, 경기도, 실업, 성남시, 성장, 기업, 자립준비청년, 스타트업\n"
          ]
        }
      ]
    },
    {
      "cell_type": "markdown",
      "metadata": {
        "id": "QVTWqoG8-atS"
      },
      "source": [
        "##### 토픽 이름 자동으로 붙이기(참고용)"
      ]
    },
    {
      "cell_type": "code",
      "metadata": {
        "id": "zSUFnGCz-fTv",
        "colab": {
          "base_uri": "https://localhost:8080/"
        },
        "outputId": "dafa39cf-37cf-45d8-8b95-b9e7f79097b6"
      },
      "source": [
        "# extract candidates for auto topic labeling\n",
        "extractor = tp.label.PMIExtractor(min_cf=10, min_df=10, max_len=5, max_cand=10000)\n",
        "cands = extractor.extract(DTM)\n",
        "\n",
        "labeler = tp.label.FoRelevance(DTM, cands, min_df=10, smoothing=1e-2, mu=0.25)\n",
        "for k in range(DTM.k):\n",
        "    print(\"== Topic #{} ==\".format(k))\n",
        "    print(\"Labels:\", ', '.join(label for label, score in labeler.get_topic_labels(k, top_n=5)))\n",
        "    for t in range(3):\n",
        "        for word, prob in DTM.get_topic_words(k, t,top_n=10):\n",
        "            print(word, prob, sep='\\t')\n",
        "        print()"
      ],
      "execution_count": null,
      "outputs": [
        {
          "output_type": "stream",
          "name": "stdout",
          "text": [
            "== Topic #0 ==\n",
            "Labels: 발생, 정도, 상황, 결국, 사람\n",
            "가구\t0.017881043255329132\n",
            "월세\t0.013481810688972473\n",
            "총장\t0.01063850149512291\n",
            "A씨\t0.010064579546451569\n",
            "사고\t0.007835924625396729\n",
            "피해자\t0.007131457328796387\n",
            "아버지\t0.007063667289912701\n",
            "사건\t0.006122460588812828\n",
            "간병\t0.005750334821641445\n",
            "통장\t0.005448322743177414\n",
            "\n",
            "가입\t0.027790609747171402\n",
            "신청\t0.014379973523318768\n",
            "소득\t0.013038001954555511\n",
            "예산\t0.01134868897497654\n",
            "월세\t0.011307175271213055\n",
            "적금\t0.011276203207671642\n",
            "청년희망적금\t0.01068161241710186\n",
            "은행\t0.008875355124473572\n",
            "정부\t0.008472157642245293\n",
            "대통령실\t0.008414003998041153\n",
            "\n",
            "대통령\t0.021072417497634888\n",
            "일본\t0.014514081180095673\n",
            "양국\t0.008954831399023533\n",
            "정부\t0.00797938834875822\n",
            "세대\t0.007646671496331692\n",
            "광주\t0.007460536900907755\n",
            "미래\t0.006795313209295273\n",
            "지역\t0.006521629635244608\n",
            "대통령실\t0.005835420452058315\n",
            "혁신\t0.005643191747367382\n",
            "\n",
            "== Topic #1 ==\n",
            "Labels: 정도, 얘기, 생각, 사람, 정책\n",
            "의원\t0.0262486319988966\n",
            "지사\t0.01449932623654604\n",
            "지급\t0.011669564992189407\n",
            "공약\t0.009819366037845612\n",
            "기본\t0.009747220203280449\n",
            "소득\t0.007422536611557007\n",
            "캠프\t0.00675696786493063\n",
            "이재명\t0.006479143165051937\n",
            "대선\t0.005873741582036018\n",
            "경기도\t0.005286275874823332\n",
            "\n",
            "자립\t0.013624884188175201\n",
            "서울시\t0.013422360643744469\n",
            "고용\t0.009689010679721832\n",
            "아동\t0.009488699026405811\n",
            "준비\t0.008890992030501366\n",
            "지급\t0.008508408442139626\n",
            "시설\t0.008326495066285133\n",
            "복지\t0.008280009031295776\n",
            "1인\t0.007281496189534664\n",
            "영화\t0.007212038617581129\n",
            "\n",
            "요금\t0.02086544781923294\n",
            "데이터\t0.011732913553714752\n",
            "대회\t0.008573351427912712\n",
            "탈모\t0.008535223081707954\n",
            "요금제\t0.007581025827676058\n",
            "혜택\t0.007276618853211403\n",
            "청년도약계좌\t0.007043839432299137\n",
            "출시\t0.007012311369180679\n",
            "가입\t0.00676492927595973\n",
            "제공\t0.005830086767673492\n",
            "\n",
            "== Topic #2 ==\n",
            "Labels: 기업, 일자리, 창출, 성장, 청년 일자리\n",
            "일자리\t0.038534678518772125\n",
            "기업\t0.02201683074235916\n",
            "프로젝트\t0.011168615892529488\n",
            "정부\t0.009502843022346497\n",
            "고용\t0.008692754432559013\n",
            "채용\t0.008473314344882965\n",
            "회장\t0.00791960395872593\n",
            "창출\t0.007765841670334339\n",
            "사업\t0.007108183577656746\n",
            "중소기업\t0.006808441132307053\n",
            "\n",
            "당선인\t0.03302726522088051\n",
            "기업\t0.023868177086114883\n",
            "부산\t0.021590955555438995\n",
            "사업\t0.019666198641061783\n",
            "부산시\t0.01948094367980957\n",
            "선정\t0.017310772091150284\n",
            "공간\t0.014749674126505852\n",
            "임금\t0.013916244730353355\n",
            "가족\t0.010937776416540146\n",
            "장관\t0.010133940726518631\n",
            "\n",
            "가족\t0.03247961401939392\n",
            "공간\t0.018329273909330368\n",
            "이스라엘\t0.012731840834021568\n",
            "정책\t0.012618929147720337\n",
            "문화\t0.011548042297363281\n",
            "부산\t0.010576377622783184\n",
            "토사물\t0.01019077654927969\n",
            "작품\t0.009357020258903503\n",
            "주민\t0.007934777066111565\n",
            "인간\t0.006145156919956207\n",
            "\n",
            "== Topic #3 ==\n",
            "Labels: 공급, 수준, 주택, 공공, 부담\n",
            "주택\t0.015537609346210957\n",
            "공급\t0.010641020722687244\n",
            "채용\t0.008625296875834465\n",
            "주거\t0.008442194201052189\n",
            "코로나19\t0.0083876121789217\n",
            "신혼부부\t0.007105887867510319\n",
            "임대\t0.007067465223371983\n",
            "부동산\t0.006858072709292173\n",
            "가구\t0.006350276991724968\n",
            "공공\t0.006339353509247303\n",
            "\n",
            "주택\t0.01971469819545746\n",
            "공급\t0.016363654285669327\n",
            "가구\t0.012334879487752914\n",
            "농업\t0.010522693395614624\n",
            "분양\t0.010436493903398514\n",
            "공공\t0.010046817362308502\n",
            "임대\t0.00830781739205122\n",
            "스마트\t0.006816378328949213\n",
            "청약\t0.00648338021710515\n",
            "신혼부부\t0.006048685871064663\n",
            "\n",
            "취업\t0.014737685211002827\n",
            "주택\t0.01054362952709198\n",
            "채용\t0.00970528181642294\n",
            "공급\t0.009655706584453583\n",
            "임대\t0.00883631780743599\n",
            "프로그램\t0.008122263476252556\n",
            "신혼부부\t0.007986560463905334\n",
            "기관\t0.007452234625816345\n",
            "농업\t0.0060162972658872604\n",
            "해외\t0.005974607542157173\n",
            "\n",
            "== Topic #4 ==\n",
            "Labels: 분야, 교육, 알고리즘, 기업, 산업\n",
            "교육\t0.01369411125779152\n",
            "사업\t0.010070377960801125\n",
            "서울시\t0.00915299728512764\n",
            "분야\t0.007280018180608749\n",
            "프로그램\t0.00720038078725338\n",
            "예산\t0.006900831591337919\n",
            "인재\t0.006466992665082216\n",
            "스타트업\t0.006233353167772293\n",
            "기후\t0.006181258708238602\n",
            "참여\t0.0060440609231591225\n",
            "\n",
            "취업\t0.01673875004053116\n",
            "일자리\t0.013213573023676872\n",
            "기업\t0.009575961157679558\n",
            "교육\t0.009552767500281334\n",
            "프로그램\t0.00895736739039421\n",
            "인재\t0.00680688489228487\n",
            "대학\t0.006182510405778885\n",
            "운영\t0.005958938971161842\n",
            "채용\t0.005366683006286621\n",
            "산업\t0.005032110959291458\n",
            "\n",
            "노조\t0.025908302515745163\n",
            "노동자\t0.012387190945446491\n",
            "의원\t0.011864416301250458\n",
            "시간\t0.011852680705487728\n",
            "금리\t0.010429978370666504\n",
            "노동\t0.007886169478297234\n",
            "은행\t0.007874974049627781\n",
            "의견\t0.006446446292102337\n",
            "인재\t0.006210763938724995\n",
            "정부\t0.005716524552553892\n",
            "\n",
            "== Topic #5 ==\n",
            "Labels: 정치, 정치인, 선거, 지지, 정당\n",
            "후보\t0.026244569569826126\n",
            "대표\t0.010080307722091675\n",
            "국민\t0.009525216184556484\n",
            "세대\t0.007811874616891146\n",
            "정치\t0.007734889630228281\n",
            "민주당\t0.007420353591442108\n",
            "선대위\t0.0058761038817465305\n",
            "대선\t0.005858294200152159\n",
            "선거\t0.0049589998088777065\n",
            "이준석\t0.004784879740327597\n",
            "\n",
            "후보\t0.020725829526782036\n",
            "대표\t0.009180737659335136\n",
            "정치\t0.00892655923962593\n",
            "대선\t0.006525800097733736\n",
            "대통령\t0.006089319474995136\n",
            "위원장\t0.006007619667798281\n",
            "국민\t0.005817967467010021\n",
            "선거\t0.005725524388253689\n",
            "민주당\t0.005332049913704395\n",
            "여성\t0.004867631010711193\n",
            "\n",
            "고립\t0.015439532697200775\n",
            "은둔\t0.01389517541974783\n",
            "민주당\t0.011328751221299171\n",
            "의원\t0.00983781274408102\n",
            "정치\t0.009794226847589016\n",
            "국민\t0.00768659170717001\n",
            "대표\t0.007667265832424164\n",
            "최고\t0.006892012432217598\n",
            "현수막\t0.006621412467211485\n",
            "정치인\t0.006610235199332237\n",
            "\n",
            "== Topic #6 ==\n",
            "Labels: 현실, 여성, 사람들, 정도, 사람\n",
            "여성\t0.021337099373340607\n",
            "지역\t0.01756862923502922\n",
            "남성\t0.011459444649517536\n",
            "문화\t0.008598311804234982\n",
            "미얀마\t0.006083368323743343\n",
            "공간\t0.00587256858125329\n",
            "사회\t0.005868410691618919\n",
            "장애인\t0.005035323090851307\n",
            "백신\t0.0048928773030638695\n",
            "시민\t0.004113233648240566\n",
            "\n",
            "지역\t0.024072878062725067\n",
            "지방\t0.01231396570801735\n",
            "인수위\t0.01005016639828682\n",
            "A씨\t0.008215321227908134\n",
            "정책\t0.0064845336601138115\n",
            "응답\t0.0058519067242741585\n",
            "일자리\t0.005818917416036129\n",
            "수도권\t0.005631714127957821\n",
            "문화\t0.005526450928300619\n",
            "토론\t0.005197447724640369\n",
            "\n",
            "전세\t0.02766188234090805\n",
            "사기\t0.016672104597091675\n",
            "A씨\t0.014317312277853489\n",
            "대출\t0.013735882937908173\n",
            "경찰\t0.01260906457901001\n",
            "보증금\t0.01260425429791212\n",
            "피해\t0.007737330161035061\n",
            "혐의\t0.0072930040769279\n",
            "허위\t0.0066050319001078606\n",
            "대출금\t0.006506531964987516\n",
            "\n",
            "== Topic #7 ==\n",
            "Labels: 회사, 준비, 졸업, 경험, 코로나19\n",
            "창업\t0.024545349180698395\n",
            "취업\t0.02048708125948906\n",
            "준비\t0.009414279833436012\n",
            "고용\t0.009123113006353378\n",
            "공제\t0.008019320666790009\n",
            "시험\t0.00798601284623146\n",
            "코로나19\t0.007160817738622427\n",
            "자격증\t0.006306124851107597\n",
            "직장\t0.005636499263346195\n",
            "공무원\t0.0055619534105062485\n",
            "\n",
            "창업\t0.02802203595638275\n",
            "미국\t0.014789832755923271\n",
            "한국\t0.013895483687520027\n",
            "사진\t0.012555604800581932\n",
            "인구\t0.01206129789352417\n",
            "보험\t0.011094466783106327\n",
            "직장\t0.010224908590316772\n",
            "세계\t0.00661461241543293\n",
            "사업\t0.006609451025724411\n",
            "공제\t0.00633134925737977\n",
            "\n",
            "한국\t0.019407901912927628\n",
            "예산\t0.015915904194116592\n",
            "결혼\t0.011294571682810783\n",
            "인구\t0.00940887164324522\n",
            "지역\t0.008067733608186245\n",
            "미국\t0.007865173742175102\n",
            "삭감\t0.0057444823905825615\n",
            "출산\t0.005593849346041679\n",
            "수도\t0.004604667890816927\n",
            "나이\t0.004251644015312195\n",
            "\n",
            "== Topic #8 ==\n",
            "Labels: 정도, 정부, 부담, 상황, 포함\n",
            "대출\t0.01842745579779148\n",
            "대통령\t0.01655527949333191\n",
            "청와대\t0.010838817805051804\n",
            "뉴딜\t0.008416797965765\n",
            "정부\t0.007114183157682419\n",
            "고소\t0.00704751443117857\n",
            "투자\t0.0063702696934342384\n",
            "경찰\t0.006214391440153122\n",
            "작가\t0.005623417906463146\n",
            "연장\t0.005566383711993694\n",
            "\n",
            "대출\t0.025891868397593498\n",
            "금융\t0.00977465882897377\n",
            "증가\t0.008147994056344032\n",
            "전세\t0.0070883468724787235\n",
            "작가\t0.006829939316958189\n",
            "보증금\t0.006590342149138451\n",
            "취업자\t0.00657817255705595\n",
            "금리\t0.006548289675265551\n",
            "상환\t0.006339306943118572\n",
            "채무\t0.005730251781642437\n",
            "\n",
            "취업자\t0.014828763902187347\n",
            "고용\t0.011698070913553238\n",
            "사업\t0.010376309975981712\n",
            "일자리\t0.009343720972537994\n",
            "증가\t0.009195400401949883\n",
            "감소\t0.007466394919902086\n",
            "인구\t0.0068471916019916534\n",
            "금융\t0.0063023995608091354\n",
            "지난달\t0.006035051308572292\n",
            "1년\t0.0059392196126282215\n",
            "\n",
            "== Topic #9 ==\n",
            "Labels: 생각, 정도, 사람, 사이, 상황\n",
            "중국\t0.022048626095056534\n",
            "원장\t0.02008441649377346\n",
            "변호사\t0.017782535403966904\n",
            "대변인\t0.01695348508656025\n",
            "플랫폼\t0.013285493478178978\n",
            "영상\t0.01187441498041153\n",
            "입당\t0.011125787161290646\n",
            "전화\t0.007892301306128502\n",
            "국민\t0.006503312382847071\n",
            "유튜브\t0.006453372538089752\n",
            "\n",
            "중국\t0.03333582356572151\n",
            "대변인\t0.030648954212665558\n",
            "변호사\t0.012536069378256798\n",
            "식당\t0.01007458008825779\n",
            "경기도\t0.007304503582417965\n",
            "영상\t0.007142011076211929\n",
            "시작\t0.006808453239500523\n",
            "대만\t0.006678314879536629\n",
            "올림픽\t0.0038200223352760077\n",
            "요리\t0.0036467036698013544\n",
            "\n",
            "중국\t0.025192156434059143\n",
            "창업\t0.022526167333126068\n",
            "자립\t0.014941152185201645\n",
            "경기도\t0.014635339379310608\n",
            "실업\t0.010975625365972519\n",
            "성남시\t0.010453450493514538\n",
            "성장\t0.0074201710522174835\n",
            "기업\t0.007032917346805334\n",
            "자립준비청년\t0.006713525392115116\n",
            "스타트업\t0.006628001108765602\n",
            "\n"
          ]
        }
      ]
    },
    {
      "cell_type": "markdown",
      "metadata": {
        "id": "sSwkjffN_KXo"
      },
      "source": [
        "##### 시간에 따른 토픽 비중 변화"
      ]
    },
    {
      "cell_type": "code",
      "metadata": {
        "id": "DP8VkT79-9rU",
        "colab": {
          "base_uri": "https://localhost:8080/"
        },
        "outputId": "ba25daec-66c1-42ad-d3da-79bc025873e8"
      },
      "source": [
        "topic_dist_by_time = np.zeros(shape=[DTM.num_timepoints, DTM.k], dtype=np.float64)\n",
        "for doc in DTM.docs:\n",
        "    topic_dist_by_time[doc.timepoint] += doc.get_topic_dist()\n",
        "\n",
        "topic_dist_by_time /= DTM.num_docs_by_timepoint[:, np.newaxis]\n",
        "\n",
        "for k in range(DTM.k):\n",
        "    print('Topic #{}'.format(k), *(w for w, _ in DTM.get_topic_words(k, 0, top_n=5)))\n",
        "    print(topic_dist_by_time[:, k])"
      ],
      "execution_count": null,
      "outputs": [
        {
          "output_type": "stream",
          "name": "stdout",
          "text": [
            "Topic #0 가구 월세 총장 A씨 사고\n",
            "[0.07970383 0.1387956  0.0837704 ]\n",
            "Topic #1 의원 지사 지급 공약 기본\n",
            "[0.09836261 0.06279137 0.10948284]\n",
            "Topic #2 일자리 기업 프로젝트 정부 고용\n",
            "[0.08487859 0.03873849 0.05099286]\n",
            "Topic #3 주택 공급 채용 주거 코로나19\n",
            "[0.12092673 0.1180251  0.12686024]\n",
            "Topic #4 교육 사업 서울시 분야 프로그램\n",
            "[0.12977663 0.15593236 0.06888252]\n",
            "Topic #5 후보 대표 국민 세대 정치\n",
            "[0.20083384 0.22089341 0.13465299]\n",
            "Topic #6 여성 지역 남성 문화 미얀마\n",
            "[0.08361671 0.09570198 0.09534824]\n",
            "Topic #7 창업 취업 준비 고용 공제\n",
            "[0.07534995 0.04603008 0.10071203]\n",
            "Topic #8 대출 대통령 청와대 뉴딜 정부\n",
            "[0.08627182 0.09767431 0.15371042]\n",
            "Topic #9 중국 원장 변호사 대변인 플랫폼\n",
            "[0.04027971 0.02541767 0.07558809]\n"
          ]
        }
      ]
    },
    {
      "cell_type": "code",
      "metadata": {
        "id": "TQzHY18F_Z5N"
      },
      "source": [
        "topic_dist_by_time = pd.DataFrame(topic_dist_by_time)\n",
        "topic_dist_by_time.index = [2021,2022,2023]"
      ],
      "execution_count": null,
      "outputs": []
    },
    {
      "cell_type": "code",
      "metadata": {
        "id": "pS57fo5cATXb",
        "colab": {
          "base_uri": "https://localhost:8080/",
          "height": 486
        },
        "outputId": "b2926ee6-b5bc-46b6-9e39-60459aa6ef7f"
      },
      "source": [
        "f = plt.figure()\n",
        "plt.title('연도별 토픽 비율 변화', color='black')\n",
        "topic_dist_by_time.plot(ax=f.gca(),colormap='gnuplot')\n",
        "plt.xticks(np.array(range(2021,2024)),rotation=45)\n",
        "ax=f.gca()\n",
        "ax.legend(loc='center left', bbox_to_anchor=(1.0, 0.5))\n",
        "ax.set_ylabel('퍼센트')\n",
        "plt.show()"
      ],
      "execution_count": null,
      "outputs": [
        {
          "output_type": "display_data",
          "data": {
            "text/plain": [
              "<Figure size 640x480 with 1 Axes>"
            ],
            "image/png": "[encoded data removed]"
          },
          "metadata": {}
        }
      ]
    },
    {
      "cell_type": "markdown",
      "metadata": {
        "id": "Trk7UKRXs8Sh"
      },
      "source": [
        "### 3. DMR (Dirichlet Multinomial Regression)\n",
        "\"언론사 성향에 따른 청년 담론의 차이\""
      ]
    },
    {
      "cell_type": "markdown",
      "metadata": {
        "id": "wkDsJQwo-pav"
      },
      "source": [
        "##### metadata 설정(명목변수) : 언론사 (진보 vs 보수)"
      ]
    },
    {
      "cell_type": "code",
      "metadata": {
        "id": "9q5sdG5LtB8l",
        "colab": {
          "base_uri": "https://localhost:8080/"
        },
        "outputId": "b25c2bed-b1c1-4ef8-c633-2d2ef744afdc"
      },
      "source": [
        "df['언론사'].value_counts()"
      ],
      "execution_count": null,
      "outputs": [
        {
          "output_type": "execute_result",
          "data": {
            "text/plain": [
              "언론사\n",
              "경향신문    1152\n",
              "중앙일보     946\n",
              "동아일보     930\n",
              "조선일보     669\n",
              "한겨레      596\n",
              "Name: count, dtype: int64"
            ]
          },
          "metadata": {},
          "execution_count": 36
        }
      ]
    },
    {
      "cell_type": "code",
      "metadata": {
        "id": "gzybMINZ-wa1"
      },
      "source": [
        "# 언론사_성향 컬럼 추가\n",
        "df['언론사_성향'] = pd.Series()"
      ],
      "execution_count": null,
      "outputs": []
    },
    {
      "cell_type": "code",
      "metadata": {
        "id": "uQCk2hkfDYnj",
        "colab": {
          "base_uri": "https://localhost:8080/"
        },
        "outputId": "93fb137a-2271-4c47-cad2-ce670063bcd8"
      },
      "source": [
        "df['언론사_성향'][df['언론사'].isin(['조선일보','중앙일보','동아일보'])] = '보수'\n",
        "df['언론사_성향'][df['언론사'].isin(['경향신문','한겨레'])] = '진보'"
      ],
      "execution_count": null,
      "outputs": [
        {
          "output_type": "stream",
          "name": "stderr",
          "text": [
            "<ipython-input-38-963a183d179b>:1: SettingWithCopyWarning: \n",
            "A value is trying to be set on a copy of a slice from a DataFrame\n",
            "\n",
            "See the caveats in the documentation: https://pandas.pydata.org/pandas-docs/stable/user_guide/indexing.html#returning-a-view-versus-a-copy\n",
            "  df['언론사_성향'][df['언론사'].isin(['조선일보','중앙일보','동아일보'])] = '보수'\n",
            "<ipython-input-38-963a183d179b>:2: SettingWithCopyWarning: \n",
            "A value is trying to be set on a copy of a slice from a DataFrame\n",
            "\n",
            "See the caveats in the documentation: https://pandas.pydata.org/pandas-docs/stable/user_guide/indexing.html#returning-a-view-versus-a-copy\n",
            "  df['언론사_성향'][df['언론사'].isin(['경향신문','한겨레'])] = '진보'\n"
          ]
        }
      ]
    },
    {
      "cell_type": "code",
      "metadata": {
        "id": "NwqExPasDeId",
        "colab": {
          "base_uri": "https://localhost:8080/"
        },
        "outputId": "5f3e933d-7ece-480f-d179-856eb7767c75"
      },
      "source": [
        "df['언론사_성향'].value_counts()"
      ],
      "execution_count": null,
      "outputs": [
        {
          "output_type": "execute_result",
          "data": {
            "text/plain": [
              "언론사_성향\n",
              "보수    2545\n",
              "진보    1748\n",
              "Name: count, dtype: int64"
            ]
          },
          "metadata": {},
          "execution_count": 39
        }
      ]
    },
    {
      "cell_type": "markdown",
      "metadata": {
        "id": "03VGq6AMDgNn"
      },
      "source": [
        "##### 모델 초기화"
      ]
    },
    {
      "cell_type": "code",
      "metadata": {
        "id": "5sjQiEzgDhjl"
      },
      "source": [
        "DMR = tp.DMRModel(k=10,min_df=10,tw=tp.TermWeight.PMI,rm_top=3, seed=2021)"
      ],
      "execution_count": null,
      "outputs": []
    },
    {
      "cell_type": "markdown",
      "metadata": {
        "id": "NA6-CCT-DkTJ"
      },
      "source": [
        "##### 빈 모델에 토큰 리스트와 명목변수 넣어주기"
      ]
    },
    {
      "cell_type": "code",
      "metadata": {
        "id": "_uQ9-nhYDq_v"
      },
      "source": [
        "token_politics_dict = df[['token','언론사_성향']].to_dict('index')"
      ],
      "execution_count": null,
      "outputs": []
    },
    {
      "cell_type": "code",
      "metadata": {
        "id": "K3AcUirFEVdL",
        "colab": {
          "base_uri": "https://localhost:8080/",
          "height": 49,
          "referenced_widgets": [
            "c796ff1d85e44dfba8d478be1c62e577",
            "4dc2bb6d04a44b7c944638fb73e48f3f",
            "409e4277502b4e9397022b0d8dd4cb0f",
            "23318d632efe4e2aadb4bd650507cfa3",
            "c494f831d1ed4732af1fae641ed1e31e",
            "681dc10df3064960be840ba98917caf1",
            "8934d705cd0240de9467edb2263da960",
            "08585d82e64b418b89fc59515235079a",
            "c2dcef9d82364af383c56a73f23aee31",
            "a27d062032394bc2ac2ee0aff00f45f9",
            "20099989e0e64d76b0552a4a3f43d399"
          ]
        },
        "outputId": "2566abff-c6f8-4752-92a6-036e53f3be4b"
      },
      "source": [
        "for k in tqdm(token_politics_dict.keys()):\n",
        "    DMR.add_doc(token_politics_dict[k]['token'],token_politics_dict[k]['언론사_성향'])"
      ],
      "execution_count": null,
      "outputs": [
        {
          "output_type": "display_data",
          "data": {
            "text/plain": [
              "  0%|          | 0/4293 [00:00<?, ?it/s]"
            ],
            "application/vnd.jupyter.widget-view+json": {
              "version_major": 2,
              "version_minor": 0,
              "model_id": "c796ff1d85e44dfba8d478be1c62e577"
            }
          },
          "metadata": {}
        }
      ]
    },
    {
      "cell_type": "markdown",
      "metadata": {
        "id": "lliRKItwD3Ff"
      },
      "source": [
        "##### 모델 학습"
      ]
    },
    {
      "cell_type": "code",
      "metadata": {
        "id": "JYSZyrEuEZpx",
        "colab": {
          "base_uri": "https://localhost:8080/"
        },
        "outputId": "7df29ee4-dca9-42bd-8105-7dda289c244b"
      },
      "source": [
        "DMR.train(0)"
      ],
      "execution_count": null,
      "outputs": [
        {
          "output_type": "stream",
          "name": "stderr",
          "text": [
            "<ipython-input-43-1ef95a5c1224>:1: RuntimeWarning: The training result may differ even with fixed seed if `workers` != 1.\n",
            "  DMR.train(0)\n"
          ]
        }
      ]
    },
    {
      "cell_type": "code",
      "metadata": {
        "id": "eFEuhxvtEaQd",
        "colab": {
          "base_uri": "https://localhost:8080/"
        },
        "outputId": "e98f4401-ffc8-4b34-dc83-1f83ad8369e4"
      },
      "source": [
        "# 한번에 20회씩 총 500회 학습\n",
        "print('Num docs:', len(DMR.docs), ', Vocab size:', DMR.num_vocabs, ', Num words:', DMR.num_words)\n",
        "print('Removed top words:', DMR.removed_top_words)\n",
        "print('Training...', file=sys.stderr, flush=True)\n",
        "for i in range(0, 500, 20):\n",
        "    DMR.train(20)\n",
        "    print('Iteration: {}\\tLog-likelihood: {}'.format(i, DMR.ll_per_word))"
      ],
      "execution_count": null,
      "outputs": [
        {
          "output_type": "stream",
          "name": "stderr",
          "text": [
            "Training...\n"
          ]
        },
        {
          "output_type": "stream",
          "name": "stdout",
          "text": [
            "Num docs: 4293 , Vocab size: 7143 , Num words: 697124\n",
            "Removed top words: ['청년', '지원', '청년들']\n"
          ]
        },
        {
          "output_type": "stream",
          "name": "stderr",
          "text": [
            "<ipython-input-44-5b9d3587116c>:6: RuntimeWarning: The training result may differ even with fixed seed if `workers` != 1.\n",
            "  DMR.train(20)\n"
          ]
        },
        {
          "output_type": "stream",
          "name": "stdout",
          "text": [
            "Iteration: 0\tLog-likelihood: -8.165043631617058\n",
            "Iteration: 20\tLog-likelihood: -8.035162959769902\n",
            "Iteration: 40\tLog-likelihood: -7.9829339001451\n",
            "Iteration: 60\tLog-likelihood: -7.945229298163626\n",
            "Iteration: 80\tLog-likelihood: -7.9233531205715115\n",
            "Iteration: 100\tLog-likelihood: -7.904301112363024\n",
            "Iteration: 120\tLog-likelihood: -7.889283518339791\n",
            "Iteration: 140\tLog-likelihood: -7.877966678995711\n",
            "Iteration: 160\tLog-likelihood: -7.870051715966275\n",
            "Iteration: 180\tLog-likelihood: -7.862006335334211\n",
            "Iteration: 200\tLog-likelihood: -7.854980061625726\n",
            "Iteration: 220\tLog-likelihood: -7.848222796511378\n",
            "Iteration: 240\tLog-likelihood: -7.844349149822763\n",
            "Iteration: 260\tLog-likelihood: -7.841075949079449\n",
            "Iteration: 280\tLog-likelihood: -7.837576987677655\n",
            "Iteration: 300\tLog-likelihood: -7.83509242296321\n",
            "Iteration: 320\tLog-likelihood: -7.8326407564340075\n",
            "Iteration: 340\tLog-likelihood: -7.829561960855195\n",
            "Iteration: 360\tLog-likelihood: -7.8274655060057166\n",
            "Iteration: 380\tLog-likelihood: -7.8266377543565415\n",
            "Iteration: 400\tLog-likelihood: -7.824041499322694\n",
            "Iteration: 420\tLog-likelihood: -7.821594280587364\n",
            "Iteration: 440\tLog-likelihood: -7.821583457432577\n",
            "Iteration: 460\tLog-likelihood: -7.821275351302473\n",
            "Iteration: 480\tLog-likelihood: -7.818285169527802\n"
          ]
        }
      ]
    },
    {
      "cell_type": "markdown",
      "metadata": {
        "id": "k_s7WB26D49M"
      },
      "source": [
        "##### 토픽별 TopN 단어 확인"
      ]
    },
    {
      "cell_type": "code",
      "metadata": {
        "id": "e7PfuBhbD-Ae",
        "colab": {
          "base_uri": "https://localhost:8080/"
        },
        "outputId": "6c21f576-f52a-430a-a597-613ce17ac318"
      },
      "source": [
        "for i in range(DMR.k):\n",
        "    res = DMR.get_topic_words(i, top_n=10)\n",
        "    print('Topic #{}'.format(i), end='\\t')\n",
        "    print(', '.join(w for w, p in res))"
      ],
      "execution_count": null,
      "outputs": [
        {
          "output_type": "stream",
          "name": "stdout",
          "text": [
            "Topic #0\t일자리, 채용, 취업, 고용, 노조, 노동자, 기업, 중소기업, 임금, 노동\n",
            "Topic #1\tA씨, 경찰, 요금, 사고, 혐의, 사건, 피해자, 아들, 아버지, 김씨\n",
            "Topic #2\t지역, 창업, 교육, 기업, 프로그램, 취업, 사업, 인재, 운영, 조성\n",
            "Topic #3\t사업, 예산, 서울시, 신청, 지급, 소득, 경기도, 자립, 정책, 최대\n",
            "Topic #4\t가입, 취업자, 증가, 금리, 인구, 감소, 금융, 대출, 은행, 소득\n",
            "Topic #5\t주택, 가구, 공급, 대출, 전세, 신혼부부, 임대, 보증금, 월세, 주거\n",
            "Topic #6\t후보, 의원, 국민, 대표, 정치, 민주당, 대통령, 대선, 선거, 위원장\n",
            "Topic #7\t중국, 한국, 일본, 미국, 기후, 북한, 대통령, 러시아, 시위, 국가\n",
            "Topic #8\t여성, 사회, 세대, 은둔, 고립, 생각, 가족, 연금, 남성, 결혼\n",
            "Topic #9\t작가, 작품, 문화, 대회, 한국, 영화, 전시, 행사, 예술, 공연\n"
          ]
        }
      ]
    },
    {
      "cell_type": "markdown",
      "metadata": {
        "id": "KuXuptBuD_pN"
      },
      "source": [
        "##### 토픽 이름 자동으로 붙이기 (참고용)"
      ]
    },
    {
      "cell_type": "code",
      "metadata": {
        "id": "ii5SwhfUED1K",
        "colab": {
          "base_uri": "https://localhost:8080/"
        },
        "outputId": "2b1b0950-454b-431b-9a06-e0bc5d954f9b"
      },
      "source": [
        "# extract candidates for auto topic labeling\n",
        "extractor = tp.label.PMIExtractor(min_cf=10, min_df=10, max_len=5, max_cand=10000)\n",
        "cands = extractor.extract(DMR)\n",
        "\n",
        "labeler = tp.label.FoRelevance(DMR, cands, min_df=10, smoothing=1e-2, mu=0.25)\n",
        "for k in range(DMR.k):\n",
        "    print(\"== Topic #{} ==\".format(k))\n",
        "    print(\"Labels:\", ', '.join(label for label, score in labeler.get_topic_labels(k, top_n=5)))\n",
        "    for word, prob in DMR.get_topic_words(k, top_n=10):\n",
        "        print(word, prob, sep='\\t')\n",
        "    print()"
      ],
      "execution_count": null,
      "outputs": [
        {
          "output_type": "stream",
          "name": "stdout",
          "text": [
            "== Topic #0 ==\n",
            "Labels: 임금, 사무직, 노동 시장, 정규직, 한국노동연구원\n",
            "일자리\t0.027146609500050545\n",
            "채용\t0.02044030651450157\n",
            "취업\t0.017744997516274452\n",
            "고용\t0.016554659232497215\n",
            "노조\t0.01418516505509615\n",
            "노동자\t0.013169093988835812\n",
            "기업\t0.010406563058495522\n",
            "중소기업\t0.010352316312491894\n",
            "임금\t0.01033306960016489\n",
            "노동\t0.010103740729391575\n",
            "\n",
            "== Topic #1 ==\n",
            "Labels: 경찰, A씨, 선고, 혐의, 징역\n",
            "A씨\t0.016258342191576958\n",
            "경찰\t0.013205192051827908\n",
            "요금\t0.010528096929192543\n",
            "사고\t0.009482442401349545\n",
            "혐의\t0.007878688164055347\n",
            "사건\t0.007407762110233307\n",
            "피해자\t0.007060192059725523\n",
            "아들\t0.006848593708127737\n",
            "아버지\t0.00631573423743248\n",
            "김씨\t0.006066246423870325\n",
            "\n",
            "== Topic #2 ==\n",
            "Labels: 우수, 육성, 창업, 스마트, 양성\n",
            "지역\t0.01315667200833559\n",
            "창업\t0.012745421379804611\n",
            "교육\t0.010007164441049099\n",
            "기업\t0.00988372229039669\n",
            "프로그램\t0.008693654090166092\n",
            "취업\t0.007341835647821426\n",
            "사업\t0.006853271741420031\n",
            "인재\t0.005706318188458681\n",
            "운영\t0.005541384220123291\n",
            "조성\t0.0054639107547700405\n",
            "\n",
            "== Topic #3 ==\n",
            "Labels: 중위 소득, 원씩, 중위, 대상자, 지급\n",
            "사업\t0.015372357331216335\n",
            "예산\t0.01508342381566763\n",
            "서울시\t0.011201932094991207\n",
            "신청\t0.009133799932897091\n",
            "지급\t0.009041013196110725\n",
            "소득\t0.007531743496656418\n",
            "경기도\t0.007227141410112381\n",
            "자립\t0.006975328549742699\n",
            "정책\t0.00662213284522295\n",
            "최대\t0.006527238059788942\n",
            "\n",
            "== Topic #4 ==\n",
            "Labels: 0.5%, 한국은행, 포인트, 금리, 집계\n",
            "가입\t0.01294289156794548\n",
            "취업자\t0.010293792933225632\n",
            "증가\t0.009978766553103924\n",
            "금리\t0.008932757191359997\n",
            "인구\t0.008639524690806866\n",
            "감소\t0.007525451015681028\n",
            "금융\t0.007092705927789211\n",
            "대출\t0.0070027923211455345\n",
            "은행\t0.006510353181511164\n",
            "소득\t0.006410485133528709\n",
            "\n",
            "== Topic #5 ==\n",
            "Labels: 시세, 청년 신혼부부, 신혼부부, 국토교통부, 입주자\n",
            "주택\t0.03127295523881912\n",
            "가구\t0.02197929657995701\n",
            "공급\t0.021645834669470787\n",
            "대출\t0.018393635749816895\n",
            "전세\t0.018336014822125435\n",
            "신혼부부\t0.015559477731585503\n",
            "임대\t0.01468823291361332\n",
            "보증금\t0.013010774739086628\n",
            "월세\t0.011903954669833183\n",
            "주거\t0.011431912891566753\n",
            "\n",
            "== Topic #6 ==\n",
            "Labels: 당내, 이준석, 이준석 대표, 총선, 지도부\n",
            "후보\t0.023097814992070198\n",
            "의원\t0.013879443518817425\n",
            "국민\t0.0108890226110816\n",
            "대표\t0.01048204768449068\n",
            "정치\t0.010407968424260616\n",
            "민주당\t0.009776492603123188\n",
            "대통령\t0.009459792636334896\n",
            "대선\t0.007853460498154163\n",
            "선거\t0.006407788023352623\n",
            "위원장\t0.005910445936024189\n",
            "\n",
            "== Topic #7 ==\n",
            "Labels: 전쟁, 민족, 중국, 세계, 미국\n",
            "중국\t0.020727800205349922\n",
            "한국\t0.012209289707243443\n",
            "일본\t0.011103441938757896\n",
            "미국\t0.00990415457636118\n",
            "기후\t0.009076320566236973\n",
            "북한\t0.009014660492539406\n",
            "대통령\t0.00839452724903822\n",
            "러시아\t0.006508800201117992\n",
            "시위\t0.006484498269855976\n",
            "국가\t0.006025419104844332\n",
            "\n",
            "== Topic #8 ==\n",
            "Labels: 한국 사회, 존재, 불평등, 세상, 집단\n",
            "여성\t0.010703569278120995\n",
            "사회\t0.009403766132891178\n",
            "세대\t0.008231495507061481\n",
            "은둔\t0.008203250356018543\n",
            "고립\t0.007877996191382408\n",
            "생각\t0.007166460622102022\n",
            "가족\t0.007159416563808918\n",
            "연금\t0.006677348632365465\n",
            "남성\t0.006058685015887022\n",
            "결혼\t0.006048396695405245\n",
            "\n",
            "== Topic #9 ==\n",
            "Labels: 작품, 작가, 유명, 제작, 음악\n",
            "작가\t0.008871609345078468\n",
            "작품\t0.006635529454797506\n",
            "문화\t0.006058336701244116\n",
            "대회\t0.006043666508048773\n",
            "한국\t0.005709006451070309\n",
            "영화\t0.005334997549653053\n",
            "전시\t0.005006897728890181\n",
            "행사\t0.004806561395525932\n",
            "예술\t0.004583477973937988\n",
            "공연\t0.004259245935827494\n",
            "\n"
          ]
        }
      ]
    },
    {
      "cell_type": "markdown",
      "metadata": {
        "id": "gVbi9WNMFICG"
      },
      "source": [
        "##### metadata에 따른 토픽 분포 대조\n",
        "https://github.com/bab2min/tomotopy/blob/main/examples/dmr_plot.py"
      ]
    },
    {
      "cell_type": "code",
      "metadata": {
        "id": "R72l7afcFYD1",
        "colab": {
          "base_uri": "https://localhost:8080/"
        },
        "outputId": "24f2425a-138b-4826-e159-38fb40806c09"
      },
      "source": [
        "DMR.metadata_dict"
      ],
      "execution_count": null,
      "outputs": [
        {
          "output_type": "execute_result",
          "data": {
            "text/plain": [
              "['보수', '진보']"
            ]
          },
          "metadata": {},
          "execution_count": 47
        }
      ]
    },
    {
      "cell_type": "code",
      "metadata": {
        "id": "6WJPNlVEFZPU",
        "colab": {
          "base_uri": "https://localhost:8080/",
          "height": 763
        },
        "outputId": "6d51b5c1-e12f-42e1-b4dc-fe0a1c3facfa"
      },
      "source": [
        "# calculate topic distribution for each metadata using softmax\n",
        "probs = np.exp(DMR.lambdas - DMR.lambdas.max(axis=0))\n",
        "probs /= probs.sum(axis=0)\n",
        "\n",
        "print('명목변수 별 토픽 비율')\n",
        "for f, metadata_name in enumerate(DMR.metadata_dict):\n",
        "    print(metadata_name, probs[:, f], '\\n')\n",
        "\n",
        "x = np.arange(DMR.k)\n",
        "width = 1 / (DMR.f + 2)\n",
        "\n",
        "fig, ax = plt.subplots()\n",
        "for f, metadata_name in enumerate(DMR.metadata_dict):\n",
        "    ax.bar(x + width * (f - DMR.f / 2), probs[:, f], width, label=DMR.metadata_dict[f])\n",
        "\n",
        "ax.set_ylabel('Probabilities')\n",
        "ax.set_yscale('log')\n",
        "ax.set_title('명목변수에 따른 토픽 비율')\n",
        "ax.set_xticks(x)\n",
        "ax.set_xticklabels(['Topic #{}'.format(k) for k in range(DMR.k)],rotation=45) # x축 라벨 45도로 회전\n",
        "ax.legend()\n",
        "\n",
        "fig.tight_layout()\n",
        "plt.show()"
      ],
      "execution_count": null,
      "outputs": [
        {
          "output_type": "stream",
          "name": "stdout",
          "text": [
            "명목변수 별 토픽 비율\n",
            "보수 [0.07332216 0.06039683 0.14543377 0.10722902 0.09488709 0.04470907\n",
            " 0.11899648 0.08194339 0.15541728 0.11766499] \n",
            "\n",
            "진보 [0.07970563 0.05016028 0.1405405  0.16591123 0.0993643  0.06233254\n",
            " 0.10510276 0.06630553 0.1494188  0.08115847] \n",
            "\n"
          ]
        },
        {
          "output_type": "stream",
          "name": "stderr",
          "text": [
            "WARNING:matplotlib.mathtext:Font 'default' does not have a glyph for '\\u2212' [U+2212], substituting with a dummy symbol.\n",
            "WARNING:matplotlib.mathtext:Font 'default' does not have a glyph for '\\u2212' [U+2212], substituting with a dummy symbol.\n",
            "WARNING:matplotlib.mathtext:Font 'default' does not have a glyph for '\\u2212' [U+2212], substituting with a dummy symbol.\n",
            "WARNING:matplotlib.mathtext:Font 'default' does not have a glyph for '\\u2212' [U+2212], substituting with a dummy symbol.\n",
            "WARNING:matplotlib.mathtext:Font 'default' does not have a glyph for '\\u2212' [U+2212], substituting with a dummy symbol.\n",
            "WARNING:matplotlib.mathtext:Font 'default' does not have a glyph for '\\u2212' [U+2212], substituting with a dummy symbol.\n",
            "WARNING:matplotlib.mathtext:Font 'default' does not have a glyph for '\\u2212' [U+2212], substituting with a dummy symbol.\n",
            "WARNING:matplotlib.mathtext:Font 'default' does not have a glyph for '\\u2212' [U+2212], substituting with a dummy symbol.\n"
          ]
        },
        {
          "output_type": "display_data",
          "data": {
            "text/plain": [
              "<Figure size 640x480 with 1 Axes>"
            ],
            "image/png": "[encoded data removed]"
          },
          "metadata": {}
        }
      ]
    },
    {
      "cell_type": "markdown",
      "source": [
        "### 오늘의 과제 : 여러분이 직접 빅카인즈에서 파일 다운해서 분석진행하기"
      ],
      "metadata": {
        "id": "JMTjf693Oe_d"
      }
    }
  ]
}